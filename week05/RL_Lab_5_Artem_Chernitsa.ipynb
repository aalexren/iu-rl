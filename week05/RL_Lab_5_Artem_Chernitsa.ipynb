{
  "nbformat": 4,
  "nbformat_minor": 0,
  "metadata": {
    "colab": {
      "provenance": []
    },
    "kernelspec": {
      "name": "python3",
      "display_name": "Python 3"
    },
    "language_info": {
      "name": "python"
    },
    "widgets": {
      "application/vnd.jupyter.widget-state+json": {
        "38bd6c2dd0dc4cb39eff3918a9dd49bc": {
          "model_module": "@jupyter-widgets/controls",
          "model_name": "HBoxModel",
          "model_module_version": "1.5.0",
          "state": {
            "_dom_classes": [],
            "_model_module": "@jupyter-widgets/controls",
            "_model_module_version": "1.5.0",
            "_model_name": "HBoxModel",
            "_view_count": null,
            "_view_module": "@jupyter-widgets/controls",
            "_view_module_version": "1.5.0",
            "_view_name": "HBoxView",
            "box_style": "",
            "children": [
              "IPY_MODEL_46f27a657ed74fb781629ba7e7943a10",
              "IPY_MODEL_adaab0c872684c89afce79286dceb723",
              "IPY_MODEL_9cb2b4ee033a439889069071c9d8547a"
            ],
            "layout": "IPY_MODEL_1fd28469bc4f4b9f90a002e1f939c1f5"
          }
        },
        "46f27a657ed74fb781629ba7e7943a10": {
          "model_module": "@jupyter-widgets/controls",
          "model_name": "HTMLModel",
          "model_module_version": "1.5.0",
          "state": {
            "_dom_classes": [],
            "_model_module": "@jupyter-widgets/controls",
            "_model_module_version": "1.5.0",
            "_model_name": "HTMLModel",
            "_view_count": null,
            "_view_module": "@jupyter-widgets/controls",
            "_view_module_version": "1.5.0",
            "_view_name": "HTMLView",
            "description": "",
            "description_tooltip": null,
            "layout": "IPY_MODEL_7c37d3e310694407a8362378576ed1bc",
            "placeholder": "​",
            "style": "IPY_MODEL_34007ad5b62448f7837564a53ca8a02c",
            "value": "100%"
          }
        },
        "adaab0c872684c89afce79286dceb723": {
          "model_module": "@jupyter-widgets/controls",
          "model_name": "FloatProgressModel",
          "model_module_version": "1.5.0",
          "state": {
            "_dom_classes": [],
            "_model_module": "@jupyter-widgets/controls",
            "_model_module_version": "1.5.0",
            "_model_name": "FloatProgressModel",
            "_view_count": null,
            "_view_module": "@jupyter-widgets/controls",
            "_view_module_version": "1.5.0",
            "_view_name": "ProgressView",
            "bar_style": "success",
            "description": "",
            "description_tooltip": null,
            "layout": "IPY_MODEL_1eb9d894fb0d4886913caad4f5aaef39",
            "max": 1000,
            "min": 0,
            "orientation": "horizontal",
            "style": "IPY_MODEL_52d470c0abac4306bd6526659ee7b062",
            "value": 1000
          }
        },
        "9cb2b4ee033a439889069071c9d8547a": {
          "model_module": "@jupyter-widgets/controls",
          "model_name": "HTMLModel",
          "model_module_version": "1.5.0",
          "state": {
            "_dom_classes": [],
            "_model_module": "@jupyter-widgets/controls",
            "_model_module_version": "1.5.0",
            "_model_name": "HTMLModel",
            "_view_count": null,
            "_view_module": "@jupyter-widgets/controls",
            "_view_module_version": "1.5.0",
            "_view_name": "HTMLView",
            "description": "",
            "description_tooltip": null,
            "layout": "IPY_MODEL_e7c1226792f04f70891227c5028e4781",
            "placeholder": "​",
            "style": "IPY_MODEL_5815fa70ad3342a9b188f2f904c2f762",
            "value": " 1000/1000 [01:28&lt;00:00,  9.06it/s]"
          }
        },
        "1fd28469bc4f4b9f90a002e1f939c1f5": {
          "model_module": "@jupyter-widgets/base",
          "model_name": "LayoutModel",
          "model_module_version": "1.2.0",
          "state": {
            "_model_module": "@jupyter-widgets/base",
            "_model_module_version": "1.2.0",
            "_model_name": "LayoutModel",
            "_view_count": null,
            "_view_module": "@jupyter-widgets/base",
            "_view_module_version": "1.2.0",
            "_view_name": "LayoutView",
            "align_content": null,
            "align_items": null,
            "align_self": null,
            "border": null,
            "bottom": null,
            "display": null,
            "flex": null,
            "flex_flow": null,
            "grid_area": null,
            "grid_auto_columns": null,
            "grid_auto_flow": null,
            "grid_auto_rows": null,
            "grid_column": null,
            "grid_gap": null,
            "grid_row": null,
            "grid_template_areas": null,
            "grid_template_columns": null,
            "grid_template_rows": null,
            "height": null,
            "justify_content": null,
            "justify_items": null,
            "left": null,
            "margin": null,
            "max_height": null,
            "max_width": null,
            "min_height": null,
            "min_width": null,
            "object_fit": null,
            "object_position": null,
            "order": null,
            "overflow": null,
            "overflow_x": null,
            "overflow_y": null,
            "padding": null,
            "right": null,
            "top": null,
            "visibility": null,
            "width": null
          }
        },
        "7c37d3e310694407a8362378576ed1bc": {
          "model_module": "@jupyter-widgets/base",
          "model_name": "LayoutModel",
          "model_module_version": "1.2.0",
          "state": {
            "_model_module": "@jupyter-widgets/base",
            "_model_module_version": "1.2.0",
            "_model_name": "LayoutModel",
            "_view_count": null,
            "_view_module": "@jupyter-widgets/base",
            "_view_module_version": "1.2.0",
            "_view_name": "LayoutView",
            "align_content": null,
            "align_items": null,
            "align_self": null,
            "border": null,
            "bottom": null,
            "display": null,
            "flex": null,
            "flex_flow": null,
            "grid_area": null,
            "grid_auto_columns": null,
            "grid_auto_flow": null,
            "grid_auto_rows": null,
            "grid_column": null,
            "grid_gap": null,
            "grid_row": null,
            "grid_template_areas": null,
            "grid_template_columns": null,
            "grid_template_rows": null,
            "height": null,
            "justify_content": null,
            "justify_items": null,
            "left": null,
            "margin": null,
            "max_height": null,
            "max_width": null,
            "min_height": null,
            "min_width": null,
            "object_fit": null,
            "object_position": null,
            "order": null,
            "overflow": null,
            "overflow_x": null,
            "overflow_y": null,
            "padding": null,
            "right": null,
            "top": null,
            "visibility": null,
            "width": null
          }
        },
        "34007ad5b62448f7837564a53ca8a02c": {
          "model_module": "@jupyter-widgets/controls",
          "model_name": "DescriptionStyleModel",
          "model_module_version": "1.5.0",
          "state": {
            "_model_module": "@jupyter-widgets/controls",
            "_model_module_version": "1.5.0",
            "_model_name": "DescriptionStyleModel",
            "_view_count": null,
            "_view_module": "@jupyter-widgets/base",
            "_view_module_version": "1.2.0",
            "_view_name": "StyleView",
            "description_width": ""
          }
        },
        "1eb9d894fb0d4886913caad4f5aaef39": {
          "model_module": "@jupyter-widgets/base",
          "model_name": "LayoutModel",
          "model_module_version": "1.2.0",
          "state": {
            "_model_module": "@jupyter-widgets/base",
            "_model_module_version": "1.2.0",
            "_model_name": "LayoutModel",
            "_view_count": null,
            "_view_module": "@jupyter-widgets/base",
            "_view_module_version": "1.2.0",
            "_view_name": "LayoutView",
            "align_content": null,
            "align_items": null,
            "align_self": null,
            "border": null,
            "bottom": null,
            "display": null,
            "flex": null,
            "flex_flow": null,
            "grid_area": null,
            "grid_auto_columns": null,
            "grid_auto_flow": null,
            "grid_auto_rows": null,
            "grid_column": null,
            "grid_gap": null,
            "grid_row": null,
            "grid_template_areas": null,
            "grid_template_columns": null,
            "grid_template_rows": null,
            "height": null,
            "justify_content": null,
            "justify_items": null,
            "left": null,
            "margin": null,
            "max_height": null,
            "max_width": null,
            "min_height": null,
            "min_width": null,
            "object_fit": null,
            "object_position": null,
            "order": null,
            "overflow": null,
            "overflow_x": null,
            "overflow_y": null,
            "padding": null,
            "right": null,
            "top": null,
            "visibility": null,
            "width": null
          }
        },
        "52d470c0abac4306bd6526659ee7b062": {
          "model_module": "@jupyter-widgets/controls",
          "model_name": "ProgressStyleModel",
          "model_module_version": "1.5.0",
          "state": {
            "_model_module": "@jupyter-widgets/controls",
            "_model_module_version": "1.5.0",
            "_model_name": "ProgressStyleModel",
            "_view_count": null,
            "_view_module": "@jupyter-widgets/base",
            "_view_module_version": "1.2.0",
            "_view_name": "StyleView",
            "bar_color": null,
            "description_width": ""
          }
        },
        "e7c1226792f04f70891227c5028e4781": {
          "model_module": "@jupyter-widgets/base",
          "model_name": "LayoutModel",
          "model_module_version": "1.2.0",
          "state": {
            "_model_module": "@jupyter-widgets/base",
            "_model_module_version": "1.2.0",
            "_model_name": "LayoutModel",
            "_view_count": null,
            "_view_module": "@jupyter-widgets/base",
            "_view_module_version": "1.2.0",
            "_view_name": "LayoutView",
            "align_content": null,
            "align_items": null,
            "align_self": null,
            "border": null,
            "bottom": null,
            "display": null,
            "flex": null,
            "flex_flow": null,
            "grid_area": null,
            "grid_auto_columns": null,
            "grid_auto_flow": null,
            "grid_auto_rows": null,
            "grid_column": null,
            "grid_gap": null,
            "grid_row": null,
            "grid_template_areas": null,
            "grid_template_columns": null,
            "grid_template_rows": null,
            "height": null,
            "justify_content": null,
            "justify_items": null,
            "left": null,
            "margin": null,
            "max_height": null,
            "max_width": null,
            "min_height": null,
            "min_width": null,
            "object_fit": null,
            "object_position": null,
            "order": null,
            "overflow": null,
            "overflow_x": null,
            "overflow_y": null,
            "padding": null,
            "right": null,
            "top": null,
            "visibility": null,
            "width": null
          }
        },
        "5815fa70ad3342a9b188f2f904c2f762": {
          "model_module": "@jupyter-widgets/controls",
          "model_name": "DescriptionStyleModel",
          "model_module_version": "1.5.0",
          "state": {
            "_model_module": "@jupyter-widgets/controls",
            "_model_module_version": "1.5.0",
            "_model_name": "DescriptionStyleModel",
            "_view_count": null,
            "_view_module": "@jupyter-widgets/base",
            "_view_module_version": "1.2.0",
            "_view_name": "StyleView",
            "description_width": ""
          }
        }
      }
    }
  },
  "cells": [
    {
      "cell_type": "markdown",
      "source": [
        "## REINFORCE"
      ],
      "metadata": {
        "id": "7xHsDwFTNXOh"
      }
    },
    {
      "cell_type": "markdown",
      "source": [
        "Based on the [following materials](https://towardsdatascience.com/policy-gradient-methods-104c783251e0)."
      ],
      "metadata": {
        "id": "oorJK4WlNZno"
      }
    },
    {
      "cell_type": "markdown",
      "source": [
        "<img src=\"https://static.packt-cdn.com/products/9781789345803/graphics/assets/9170409d-15f1-453b-816a-6f601a89fcf2.png\"/>"
      ],
      "metadata": {
        "id": "UOaWKfUNN5j5"
      }
    },
    {
      "cell_type": "code",
      "source": [
        "import numpy as np\n",
        "import torch\n",
        "import gym\n",
        "from matplotlib import pyplot as plt\n",
        "from tqdm.auto import tqdm"
      ],
      "metadata": {
        "id": "WHeivW5YNYXZ"
      },
      "execution_count": 490,
      "outputs": []
    },
    {
      "cell_type": "code",
      "source": [
        "env = gym.make('CartPole-v1')"
      ],
      "metadata": {
        "colab": {
          "base_uri": "https://localhost:8080/"
        },
        "id": "kbcgQA4_NfhZ",
        "outputId": "841206cd-8eac-4f39-f49b-2d0437fe88c4"
      },
      "execution_count": 491,
      "outputs": [
        {
          "output_type": "stream",
          "name": "stderr",
          "text": [
            "/usr/local/lib/python3.8/dist-packages/gym/core.py:317: DeprecationWarning: \u001b[33mWARN: Initializing wrapper in old step API which returns one bool instead of two. It is recommended to set `new_step_api=True` to use new step API. This will be the default behaviour in future.\u001b[0m\n",
            "  deprecation(\n",
            "/usr/local/lib/python3.8/dist-packages/gym/wrappers/step_api_compatibility.py:39: DeprecationWarning: \u001b[33mWARN: Initializing environment in old step API which returns one bool instead of two. It is recommended to set `new_step_api=True` to use new step API. This will be the default behaviour in future.\u001b[0m\n",
            "  deprecation(\n"
          ]
        }
      ]
    },
    {
      "cell_type": "code",
      "source": [
        "obs_size = env.observation_space.shape[0] \n",
        "n_actions = env.action_space.n"
      ],
      "metadata": {
        "id": "zo1htgIhNh8F"
      },
      "execution_count": 492,
      "outputs": []
    },
    {
      "cell_type": "code",
      "source": [
        "HIDDEN_SIZE = 256\n",
        "T = 0.1\n",
        "\n",
        "# simpliest neural network\n",
        "model = torch.nn.Sequential(\n",
        "            torch.nn.Linear(obs_size, HIDDEN_SIZE),\n",
        "            torch.nn.ReLU(),\n",
        "            torch.nn.Linear(HIDDEN_SIZE, n_actions),\n",
        "            torch.nn.Softmax(dim=0)\n",
        "     )\n",
        "\n",
        "learning_rate = 0.003\n",
        "optimizer = torch.optim.Adam(model.parameters(), lr=learning_rate)"
      ],
      "metadata": {
        "id": "BQW9yoFCNmZw"
      },
      "execution_count": 493,
      "outputs": []
    },
    {
      "cell_type": "code",
      "source": [
        "# hyperparameters\n",
        "Horizon = 1000\n",
        "MAX_TRAJECTORIES = 1000\n",
        "gamma = 0.99\n",
        "score = []"
      ],
      "metadata": {
        "id": "mPAeYMTuNodU"
      },
      "execution_count": 494,
      "outputs": []
    },
    {
      "cell_type": "code",
      "source": [
        "# for trajectory in tqdm(range(MAX_TRAJECTORIES)):\n",
        "#     curr_state = env.reset()\n",
        "#     done = False\n",
        "#     transitions = [] \n",
        "#     # iterating the trajectory\n",
        "#     for t in range(Horizon):\n",
        "#         act_prob = model(torch.from_numpy(curr_state).float())\n",
        "#         action = np.random.choice(np.array([0,1]), \n",
        "#                  p=act_prob.data.numpy())\n",
        "#         prev_state = curr_state\n",
        "#         curr_state, _, done, info = env.step(action) \n",
        "#         transitions.append((prev_state, action, t+1)) \n",
        "#         if done: \n",
        "#             break\n",
        "#     # iters until fallen\n",
        "#     score.append(len(transitions))\n",
        "#     reward_batch = torch.Tensor([r for (s,a,r) in \n",
        "#                    transitions]).flip(dims=(0,)) \n",
        "#     batch_Gvals =[]\n",
        "#     # interesting computation, isn't it?\n",
        "#     for i in range(len(transitions)):\n",
        "#         new_Gval=0\n",
        "#         power=0\n",
        "#         for j in range(i,len(transitions)):\n",
        "#              new_Gval=new_Gval + ((gamma**power)*reward_batch[j]).numpy()\n",
        "#              power+=1\n",
        "#         batch_Gvals.append(new_Gval)\n",
        "\n",
        "#     expected_returns_batch=torch.FloatTensor(batch_Gvals)\n",
        "#     expected_returns_batch /= expected_returns_batch.max()\n",
        "\n",
        "#     state_batch = torch.Tensor(np.array([s for (s,a,r) in transitions])) \n",
        "#     action_batch = torch.Tensor(np.array([a for (s,a,r) in transitions])) \n",
        "\n",
        "#     pred_batch = model(state_batch) \n",
        "#     prob_batch = pred_batch.gather(dim=1,index=action_batch\n",
        "#                  .long().view(-1,1)).squeeze() \n",
        "#     # so, compute the gradient\n",
        "#     loss= -torch.sum(torch.log(prob_batch)*expected_returns_batch) \n",
        "    \n",
        "#     optimizer.zero_grad()\n",
        "#     loss.backward()\n",
        "#     optimizer.step()"
      ],
      "metadata": {
        "id": "wSMkoZAGOZnU"
      },
      "execution_count": 495,
      "outputs": []
    },
    {
      "cell_type": "code",
      "source": [
        "import scipy\n",
        "\n",
        "def softmax_temperature(rewards):\n",
        "    T = 100\n",
        "    means = []\n",
        "    # mean for each action\n",
        "    for rew_list in rewards:\n",
        "        means.append(np.mean(rew_list) / T)\n",
        "     \n",
        "    return scipy.special.softmax(means)\n",
        "\n",
        "count_success = 0\n",
        "for trajectory in tqdm(range(MAX_TRAJECTORIES)):\n",
        "    curr_state = env.reset()\n",
        "    done = False\n",
        "    transitions = [] \n",
        "    # iterating the trajectory\n",
        "    for t in range(Horizon):\n",
        "        act_prob = model(torch.from_numpy(curr_state).float()).data.numpy()\n",
        "        # act_prob = softmax_temperature(act_prob.data.numpy())\n",
        "        if count_success / MAX_TRAJECTORIES > 0.8:\n",
        "            action = np.argmax(act_prob)\n",
        "        else:\n",
        "            action = np.random.choice(np.array([0,1]), \n",
        "                 p=act_prob)\n",
        "            # action = np.random.choice(np.array([0,1]), \n",
        "            #      p=act_prob.data.numpy())\n",
        "        prev_state = curr_state\n",
        "        curr_state, _, done, info = env.step(action) \n",
        "        transitions.append((prev_state, action, t+1)) \n",
        "        if done:\n",
        "            break\n",
        "        if t == Horizon - 1:\n",
        "            count_success += 1\n",
        "    # iters until fallen\n",
        "    score.append(len(transitions))\n",
        "    reward_batch = torch.Tensor([r for (s,a,r) in \n",
        "                   transitions]).flip(dims=(0,)) \n",
        "    \n",
        "    # fast computations using top-down approach\n",
        "    batch_Gvals = []\n",
        "    batch_Gvals = [reward_batch[len(transitions) - 1].numpy()]\n",
        "    for i in range(1, len(transitions)):\n",
        "        batch_Gvals.append(\n",
        "            batch_Gvals[i - 1] * gamma + reward_batch[len(transitions) - i - 1].numpy()\n",
        "            )\n",
        "    batch_Gvals.reverse()\n",
        "\n",
        "    expected_returns_batch=torch.FloatTensor(batch_Gvals)\n",
        "    expected_returns_batch /= expected_returns_batch.max()\n",
        "\n",
        "    state_batch = torch.Tensor(np.array([s for (s,a,r) in transitions])) \n",
        "    action_batch = torch.Tensor(np.array([a for (s,a,r) in transitions])) \n",
        "\n",
        "    pred_batch = model(state_batch) \n",
        "    prob_batch = pred_batch.gather(dim=1,index=action_batch\n",
        "                 .long().view(-1,1)).squeeze() \n",
        "    # so, compute the gradient\n",
        "    loss= -torch.sum(torch.log(prob_batch) * expected_returns_batch) \n",
        "    \n",
        "    optimizer.zero_grad()\n",
        "    loss.backward()\n",
        "    optimizer.step()"
      ],
      "metadata": {
        "colab": {
          "base_uri": "https://localhost:8080/",
          "height": 49,
          "referenced_widgets": [
            "38bd6c2dd0dc4cb39eff3918a9dd49bc",
            "46f27a657ed74fb781629ba7e7943a10",
            "adaab0c872684c89afce79286dceb723",
            "9cb2b4ee033a439889069071c9d8547a",
            "1fd28469bc4f4b9f90a002e1f939c1f5",
            "7c37d3e310694407a8362378576ed1bc",
            "34007ad5b62448f7837564a53ca8a02c",
            "1eb9d894fb0d4886913caad4f5aaef39",
            "52d470c0abac4306bd6526659ee7b062",
            "e7c1226792f04f70891227c5028e4781",
            "5815fa70ad3342a9b188f2f904c2f762"
          ]
        },
        "id": "AbxINedem7xJ",
        "outputId": "cbb11a1e-eca5-44df-d366-dd55ad7606f4"
      },
      "execution_count": 496,
      "outputs": [
        {
          "output_type": "display_data",
          "data": {
            "text/plain": [
              "  0%|          | 0/1000 [00:00<?, ?it/s]"
            ],
            "application/vnd.jupyter.widget-view+json": {
              "version_major": 2,
              "version_minor": 0,
              "model_id": "38bd6c2dd0dc4cb39eff3918a9dd49bc"
            }
          },
          "metadata": {}
        }
      ]
    },
    {
      "cell_type": "code",
      "source": [
        "def running_mean(x):\n",
        "    N=50\n",
        "    kernel = np.ones(N)\n",
        "    conv_len = x.shape[0]-N\n",
        "    y = np.zeros(conv_len)\n",
        "\n",
        "    shift = int(N/2)\n",
        "    for i in range(shift, conv_len + shift):\n",
        "        y[i - shift] = kernel @ x[i-shift:i+shift]\n",
        "        y[i - shift] /= N\n",
        "    return y\n",
        "\n",
        "score = np.array(score)\n",
        "avg_score = running_mean(score)\n",
        "\n",
        "plt.figure(figsize=(15,7))\n",
        "plt.ylabel(\"Trajectory Duration\",fontsize=12)\n",
        "plt.xlabel(\"Training Epochs\",fontsize=12)\n",
        "plt.plot(score, color='gray' , linewidth=1)\n",
        "plt.plot(np.arange(25, 25 + len(avg_score)), avg_score, color='blue', linewidth=3)\n",
        "plt.scatter(np.arange(score.shape[0]),score, \n",
        "            color='green' , linewidth=0.3)\n",
        "plt.show()"
      ],
      "metadata": {
        "colab": {
          "base_uri": "https://localhost:8080/",
          "height": 445
        },
        "id": "wOL--5W5RsX6",
        "outputId": "415f654b-c4ad-4e06-a06f-39ab1d30c7e4"
      },
      "execution_count": 497,
      "outputs": [
        {
          "output_type": "display_data",
          "data": {
            "text/plain": [
              "<Figure size 1080x504 with 1 Axes>"
            ],
            "image/png": "[encoded data removed]"
          },
          "metadata": {
            "needs_background": "light"
          }
        }
      ]
    },
    {
      "cell_type": "markdown",
      "source": [
        "### Task\n",
        "\n",
        "1. Change computation of `batch_Gvals`, so that it works faster\n",
        "\n",
        "> Сделано, применена динамика.\n",
        "\n",
        "2. Sometimes even if we proceed training for thousands of epochs, we may face situations when cart pole does not run for all the time. What is the reason? Change the code in a way cart pole does not fall quickly in the late simulations. \n",
        "\n",
        "\n",
        "> Потому что он скатывается в локальный минимум. Но нам надо как-то заставить его при хороших единичных действиях заставить их запоминать, т.е. стараться меньше выбирать действие по вероятности, а больше то, что соответствует праивльному действию. Сейчас я просто выбираю действие с максимальной вероятностью, если какое-то количество эпизодов каретка не падает.\n",
        "\n"
      ],
      "metadata": {
        "id": "PPmi8fSYUDfZ"
      }
    },
    {
      "cell_type": "markdown",
      "source": [
        "## Actor-Critic"
      ],
      "metadata": {
        "id": "vpxL7NnpVFwi"
      }
    },
    {
      "cell_type": "markdown",
      "source": [
        "Based on the [materials](https://github.com/nikhilbarhate99/Actor-Critic-PyTorch).\n",
        "\n",
        "<img src=\"https://github.com/nikhilbarhate99/Actor-Critic/raw/master/gif/gif3.gif\">"
      ],
      "metadata": {
        "id": "G3uCB18bY676"
      }
    },
    {
      "cell_type": "code",
      "source": [
        "!pip install gym[box2d]"
      ],
      "metadata": {
        "id": "F__qAeCCXyTZ"
      },
      "execution_count": null,
      "outputs": []
    },
    {
      "cell_type": "code",
      "source": [
        "import torch\n",
        "import torch.nn as nn\n",
        "import torch.nn.functional as F\n",
        "from torch.distributions import Categorical\n",
        "\n",
        "class ActorCritic(nn.Module):\n",
        "    def __init__(self):\n",
        "        super(ActorCritic, self).__init__()\n",
        "        self.affine = nn.Linear(8, 128)\n",
        "        \n",
        "        self.action_layer = nn.Linear(128, 4)\n",
        "        self.value_layer = nn.Linear(128, 1)\n",
        "        \n",
        "        self.logprobs = []\n",
        "        self.state_values = []\n",
        "        self.rewards = []\n",
        "\n",
        "    def forward(self, state):\n",
        "        state = torch.from_numpy(state).float()\n",
        "        state = F.relu(self.affine(state))\n",
        "        \n",
        "        state_value = self.value_layer(state)\n",
        "        \n",
        "        action_probs = F.softmax(self.action_layer(state))\n",
        "        action_distribution = Categorical(action_probs)\n",
        "        action = action_distribution.sample()\n",
        "        \n",
        "        self.logprobs.append(action_distribution.log_prob(action))\n",
        "        self.state_values.append(state_value)\n",
        "        \n",
        "        return action.item()\n",
        "    \n",
        "    def calculateLoss(self, gamma=0.99):\n",
        "        \n",
        "        # calculating discounted rewards:\n",
        "        rewards = []\n",
        "        dis_reward = 0\n",
        "        for reward in self.rewards[::-1]:\n",
        "            dis_reward = reward + gamma * dis_reward\n",
        "            rewards.insert(0, dis_reward)\n",
        "                \n",
        "        # normalizing the rewards:\n",
        "        rewards = torch.tensor(rewards)\n",
        "        rewards = (rewards - rewards.mean()) / (rewards.std())\n",
        "        \n",
        "        loss = 0\n",
        "        for logprob, value, reward in zip(self.logprobs, self.state_values, rewards):\n",
        "            advantage = reward - value.item()\n",
        "            action_loss = -logprob * advantage\n",
        "            value_loss = F.smooth_l1_loss(value, reward)\n",
        "            loss += (action_loss + value_loss)   \n",
        "        return loss\n",
        "    \n",
        "    def clearMemory(self):\n",
        "        del self.logprobs[:]\n",
        "        del self.state_values[:]\n",
        "        del self.rewards[:]"
      ],
      "metadata": {
        "id": "O7M1bhPzTXSs"
      },
      "execution_count": null,
      "outputs": []
    },
    {
      "cell_type": "code",
      "source": [
        "def test(n_episodes=5, name='LunarLander_TWO.pth'):\n",
        "    env = gym.make('LunarLander-v2')\n",
        "    policy = ActorCritic()\n",
        "    \n",
        "    policy.load_state_dict(torch.load('./preTrained/{}'.format(name)))\n",
        "    \n",
        "    render = True\n",
        "    save_gif = False\n",
        "\n",
        "    for i_episode in range(1, n_episodes+1):\n",
        "        state = env.reset()\n",
        "        running_reward = 0\n",
        "        for t in range(10000):\n",
        "            action = policy(state)\n",
        "            state, reward, done, _ = env.step(action)\n",
        "            running_reward += reward\n",
        "            if render:\n",
        "                 env.render()\n",
        "                 if save_gif:\n",
        "                     img = env.render(mode = 'rgb_array')\n",
        "                     img = Image.fromarray(img)\n",
        "                     img.save('./gif/{}.jpg'.format(t))\n",
        "            if done:\n",
        "                break\n",
        "        print('Episode {}\\tReward: {}'.format(i_episode, running_reward))\n",
        "    env.close()"
      ],
      "metadata": {
        "id": "rexuAYxlXsn5"
      },
      "execution_count": null,
      "outputs": []
    },
    {
      "cell_type": "code",
      "source": [
        "import torch\n",
        "import torch.optim as optim\n",
        "import gym\n",
        "\n",
        "def train():\n",
        "    # Defaults parameters:\n",
        "    #    gamma = 0.99\n",
        "    #    lr = 0.02\n",
        "    #    betas = (0.9, 0.999)\n",
        "    #    random_seed = 543\n",
        "\n",
        "    render = False\n",
        "    gamma = 0.99\n",
        "    lr = 0.02\n",
        "    betas = (0.9, 0.999)\n",
        "    random_seed = 543\n",
        "    \n",
        "    torch.manual_seed(random_seed)\n",
        "    \n",
        "    env = gym.make('LunarLander-v2')\n",
        "    env.seed(random_seed)\n",
        "    \n",
        "    policy = ActorCritic()\n",
        "    optimizer = optim.Adam(policy.parameters(), lr=lr, betas=betas)\n",
        "    print(lr,betas)\n",
        "    \n",
        "    running_reward = 0\n",
        "    for i_episode in range(0, 10000):\n",
        "        state = env.reset()\n",
        "        for t in range(10000):\n",
        "            action = policy(state)\n",
        "            state, reward, done, _ = env.step(action)\n",
        "            policy.rewards.append(reward)\n",
        "            running_reward += reward\n",
        "            if render and i_episode > 1000:\n",
        "                env.render()\n",
        "            if done:\n",
        "                break\n",
        "                    \n",
        "        # Updating the policy :\n",
        "        optimizer.zero_grad()\n",
        "        loss = policy.calculateLoss(gamma)\n",
        "        loss.backward()\n",
        "        optimizer.step()\n",
        "        policy.clearMemory()\n",
        "        \n",
        "        # saving the model if episodes > 999 OR avg reward > 200 \n",
        "        #if i_episode > 999:\n",
        "        #    torch.save(policy.state_dict(), './preTrained/LunarLander_{}_{}_{}.pth'.format(lr, betas[0], betas[1]))\n",
        "        \n",
        "        if running_reward > 4000:\n",
        "            torch.save(policy.state_dict(), './preTrained/LunarLander_{}_{}_{}.pth'.format(lr, betas[0], betas[1]))\n",
        "            print(\"########## Solved! ##########\")\n",
        "            test(name='LunarLander_{}_{}_{}.pth'.format(lr, betas[0], betas[1]))\n",
        "            break\n",
        "        \n",
        "        if i_episode % 20 == 0:\n",
        "            running_reward = running_reward/20\n",
        "            print('Episode {}\\tlength: {}\\treward: {}'.format(i_episode, t, running_reward))\n",
        "            running_reward = 0"
      ],
      "metadata": {
        "id": "rUMH_5TbXXTJ"
      },
      "execution_count": null,
      "outputs": []
    },
    {
      "cell_type": "code",
      "source": [
        "train()"
      ],
      "metadata": {
        "id": "lgw6cM02XnET"
      },
      "execution_count": null,
      "outputs": []
    },
    {
      "cell_type": "code",
      "source": [],
      "metadata": {
        "id": "KsfS7UZjXv6A"
      },
      "execution_count": null,
      "outputs": []
    }
  ]
}