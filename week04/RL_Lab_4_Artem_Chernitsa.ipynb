{
  "nbformat": 4,
  "nbformat_minor": 0,
  "metadata": {
    "colab": {
      "provenance": []
    },
    "kernelspec": {
      "name": "python3",
      "display_name": "Python 3"
    },
    "language_info": {
      "name": "python"
    },
    "accelerator": "GPU",
    "gpuClass": "standard",
    "widgets": {
      "application/vnd.jupyter.widget-state+json": {
        "6eb6336a98d9439f8e74252b651408db": {
          "model_module": "@jupyter-widgets/controls",
          "model_name": "HBoxModel",
          "model_module_version": "1.5.0",
          "state": {
            "_dom_classes": [],
            "_model_module": "@jupyter-widgets/controls",
            "_model_module_version": "1.5.0",
            "_model_name": "HBoxModel",
            "_view_count": null,
            "_view_module": "@jupyter-widgets/controls",
            "_view_module_version": "1.5.0",
            "_view_name": "HBoxView",
            "box_style": "",
            "children": [
              "IPY_MODEL_e1e6b7adf878481ea43dde5f9b9bb93d",
              "IPY_MODEL_35a6961dca0b42c9a5895e776198c129",
              "IPY_MODEL_f76190c86b264df1abb0f4454d919ac1"
            ],
            "layout": "IPY_MODEL_cccfcbd1f9ca44fcb6072285319046a8"
          }
        },
        "e1e6b7adf878481ea43dde5f9b9bb93d": {
          "model_module": "@jupyter-widgets/controls",
          "model_name": "HTMLModel",
          "model_module_version": "1.5.0",
          "state": {
            "_dom_classes": [],
            "_model_module": "@jupyter-widgets/controls",
            "_model_module_version": "1.5.0",
            "_model_name": "HTMLModel",
            "_view_count": null,
            "_view_module": "@jupyter-widgets/controls",
            "_view_module_version": "1.5.0",
            "_view_name": "HTMLView",
            "description": "",
            "description_tooltip": null,
            "layout": "IPY_MODEL_1d7cb5a2dd054277a1f8cf40b9f20ebd",
            "placeholder": "​",
            "style": "IPY_MODEL_5ed23657f3604c1bae174e6f04b23cf0",
            "value": "100%"
          }
        },
        "35a6961dca0b42c9a5895e776198c129": {
          "model_module": "@jupyter-widgets/controls",
          "model_name": "FloatProgressModel",
          "model_module_version": "1.5.0",
          "state": {
            "_dom_classes": [],
            "_model_module": "@jupyter-widgets/controls",
            "_model_module_version": "1.5.0",
            "_model_name": "FloatProgressModel",
            "_view_count": null,
            "_view_module": "@jupyter-widgets/controls",
            "_view_module_version": "1.5.0",
            "_view_name": "ProgressView",
            "bar_style": "success",
            "description": "",
            "description_tooltip": null,
            "layout": "IPY_MODEL_6eebe26d27b34e70a869d332f4776024",
            "max": 500,
            "min": 0,
            "orientation": "horizontal",
            "style": "IPY_MODEL_d6f7f2f5a7904a2eaea74b1b58665f2c",
            "value": 500
          }
        },
        "f76190c86b264df1abb0f4454d919ac1": {
          "model_module": "@jupyter-widgets/controls",
          "model_name": "HTMLModel",
          "model_module_version": "1.5.0",
          "state": {
            "_dom_classes": [],
            "_model_module": "@jupyter-widgets/controls",
            "_model_module_version": "1.5.0",
            "_model_name": "HTMLModel",
            "_view_count": null,
            "_view_module": "@jupyter-widgets/controls",
            "_view_module_version": "1.5.0",
            "_view_name": "HTMLView",
            "description": "",
            "description_tooltip": null,
            "layout": "IPY_MODEL_3823b81a903047d7abb4d05d781d506e",
            "placeholder": "​",
            "style": "IPY_MODEL_3c59fe9998724340acbb4579ac920f75",
            "value": " 500/500 [03:51&lt;00:00,  4.17it/s]"
          }
        },
        "cccfcbd1f9ca44fcb6072285319046a8": {
          "model_module": "@jupyter-widgets/base",
          "model_name": "LayoutModel",
          "model_module_version": "1.2.0",
          "state": {
            "_model_module": "@jupyter-widgets/base",
            "_model_module_version": "1.2.0",
            "_model_name": "LayoutModel",
            "_view_count": null,
            "_view_module": "@jupyter-widgets/base",
            "_view_module_version": "1.2.0",
            "_view_name": "LayoutView",
            "align_content": null,
            "align_items": null,
            "align_self": null,
            "border": null,
            "bottom": null,
            "display": null,
            "flex": null,
            "flex_flow": null,
            "grid_area": null,
            "grid_auto_columns": null,
            "grid_auto_flow": null,
            "grid_auto_rows": null,
            "grid_column": null,
            "grid_gap": null,
            "grid_row": null,
            "grid_template_areas": null,
            "grid_template_columns": null,
            "grid_template_rows": null,
            "height": null,
            "justify_content": null,
            "justify_items": null,
            "left": null,
            "margin": null,
            "max_height": null,
            "max_width": null,
            "min_height": null,
            "min_width": null,
            "object_fit": null,
            "object_position": null,
            "order": null,
            "overflow": null,
            "overflow_x": null,
            "overflow_y": null,
            "padding": null,
            "right": null,
            "top": null,
            "visibility": null,
            "width": null
          }
        },
        "1d7cb5a2dd054277a1f8cf40b9f20ebd": {
          "model_module": "@jupyter-widgets/base",
          "model_name": "LayoutModel",
          "model_module_version": "1.2.0",
          "state": {
            "_model_module": "@jupyter-widgets/base",
            "_model_module_version": "1.2.0",
            "_model_name": "LayoutModel",
            "_view_count": null,
            "_view_module": "@jupyter-widgets/base",
            "_view_module_version": "1.2.0",
            "_view_name": "LayoutView",
            "align_content": null,
            "align_items": null,
            "align_self": null,
            "border": null,
            "bottom": null,
            "display": null,
            "flex": null,
            "flex_flow": null,
            "grid_area": null,
            "grid_auto_columns": null,
            "grid_auto_flow": null,
            "grid_auto_rows": null,
            "grid_column": null,
            "grid_gap": null,
            "grid_row": null,
            "grid_template_areas": null,
            "grid_template_columns": null,
            "grid_template_rows": null,
            "height": null,
            "justify_content": null,
            "justify_items": null,
            "left": null,
            "margin": null,
            "max_height": null,
            "max_width": null,
            "min_height": null,
            "min_width": null,
            "object_fit": null,
            "object_position": null,
            "order": null,
            "overflow": null,
            "overflow_x": null,
            "overflow_y": null,
            "padding": null,
            "right": null,
            "top": null,
            "visibility": null,
            "width": null
          }
        },
        "5ed23657f3604c1bae174e6f04b23cf0": {
          "model_module": "@jupyter-widgets/controls",
          "model_name": "DescriptionStyleModel",
          "model_module_version": "1.5.0",
          "state": {
            "_model_module": "@jupyter-widgets/controls",
            "_model_module_version": "1.5.0",
            "_model_name": "DescriptionStyleModel",
            "_view_count": null,
            "_view_module": "@jupyter-widgets/base",
            "_view_module_version": "1.2.0",
            "_view_name": "StyleView",
            "description_width": ""
          }
        },
        "6eebe26d27b34e70a869d332f4776024": {
          "model_module": "@jupyter-widgets/base",
          "model_name": "LayoutModel",
          "model_module_version": "1.2.0",
          "state": {
            "_model_module": "@jupyter-widgets/base",
            "_model_module_version": "1.2.0",
            "_model_name": "LayoutModel",
            "_view_count": null,
            "_view_module": "@jupyter-widgets/base",
            "_view_module_version": "1.2.0",
            "_view_name": "LayoutView",
            "align_content": null,
            "align_items": null,
            "align_self": null,
            "border": null,
            "bottom": null,
            "display": null,
            "flex": null,
            "flex_flow": null,
            "grid_area": null,
            "grid_auto_columns": null,
            "grid_auto_flow": null,
            "grid_auto_rows": null,
            "grid_column": null,
            "grid_gap": null,
            "grid_row": null,
            "grid_template_areas": null,
            "grid_template_columns": null,
            "grid_template_rows": null,
            "height": null,
            "justify_content": null,
            "justify_items": null,
            "left": null,
            "margin": null,
            "max_height": null,
            "max_width": null,
            "min_height": null,
            "min_width": null,
            "object_fit": null,
            "object_position": null,
            "order": null,
            "overflow": null,
            "overflow_x": null,
            "overflow_y": null,
            "padding": null,
            "right": null,
            "top": null,
            "visibility": null,
            "width": null
          }
        },
        "d6f7f2f5a7904a2eaea74b1b58665f2c": {
          "model_module": "@jupyter-widgets/controls",
          "model_name": "ProgressStyleModel",
          "model_module_version": "1.5.0",
          "state": {
            "_model_module": "@jupyter-widgets/controls",
            "_model_module_version": "1.5.0",
            "_model_name": "ProgressStyleModel",
            "_view_count": null,
            "_view_module": "@jupyter-widgets/base",
            "_view_module_version": "1.2.0",
            "_view_name": "StyleView",
            "bar_color": null,
            "description_width": ""
          }
        },
        "3823b81a903047d7abb4d05d781d506e": {
          "model_module": "@jupyter-widgets/base",
          "model_name": "LayoutModel",
          "model_module_version": "1.2.0",
          "state": {
            "_model_module": "@jupyter-widgets/base",
            "_model_module_version": "1.2.0",
            "_model_name": "LayoutModel",
            "_view_count": null,
            "_view_module": "@jupyter-widgets/base",
            "_view_module_version": "1.2.0",
            "_view_name": "LayoutView",
            "align_content": null,
            "align_items": null,
            "align_self": null,
            "border": null,
            "bottom": null,
            "display": null,
            "flex": null,
            "flex_flow": null,
            "grid_area": null,
            "grid_auto_columns": null,
            "grid_auto_flow": null,
            "grid_auto_rows": null,
            "grid_column": null,
            "grid_gap": null,
            "grid_row": null,
            "grid_template_areas": null,
            "grid_template_columns": null,
            "grid_template_rows": null,
            "height": null,
            "justify_content": null,
            "justify_items": null,
            "left": null,
            "margin": null,
            "max_height": null,
            "max_width": null,
            "min_height": null,
            "min_width": null,
            "object_fit": null,
            "object_position": null,
            "order": null,
            "overflow": null,
            "overflow_x": null,
            "overflow_y": null,
            "padding": null,
            "right": null,
            "top": null,
            "visibility": null,
            "width": null
          }
        },
        "3c59fe9998724340acbb4579ac920f75": {
          "model_module": "@jupyter-widgets/controls",
          "model_name": "DescriptionStyleModel",
          "model_module_version": "1.5.0",
          "state": {
            "_model_module": "@jupyter-widgets/controls",
            "_model_module_version": "1.5.0",
            "_model_name": "DescriptionStyleModel",
            "_view_count": null,
            "_view_module": "@jupyter-widgets/base",
            "_view_module_version": "1.2.0",
            "_view_name": "StyleView",
            "description_width": ""
          }
        }
      }
    }
  },
  "cells": [
    {
      "cell_type": "markdown",
      "source": [
        "Artem Chernitsa, a.chernitsa@innopolis.university"
      ],
      "metadata": {
        "id": "SpGMQa0_GsQf"
      }
    },
    {
      "cell_type": "markdown",
      "source": [
        "# Task"
      ],
      "metadata": {
        "id": "V8vV9DQLRcMW"
      }
    },
    {
      "cell_type": "markdown",
      "source": [
        "Consider windy gridworld environment. Implement simple SARSA and SARSA($\\lambda$) learning algorithms. Given 100 episodes:\n",
        "\n",
        "1. Compare different values of lambda by the means of total number of actions over 100 episodes.\n",
        "2. Varying $\\alpha$ and $\\lambda$, train SARSA($\\lambda$). Then, stop learning and evaluate the SARSA results several times. Compute average number of performed actions until the end of the episode for each pair of $\\alpha$ and $\\lambda$. Display plots analogous to ones shown in the lecture. "
      ],
      "metadata": {
        "id": "DSBrSNVPResO"
      }
    },
    {
      "cell_type": "markdown",
      "source": [
        "# CartPole"
      ],
      "metadata": {
        "id": "lVQgSjLmVTaX"
      }
    },
    {
      "cell_type": "markdown",
      "source": [
        "[Source](https://pytorch.org/tutorials/intermediate/reinforcement_q_learning.html)"
      ],
      "metadata": {
        "id": "kV_MW7TGbSIp"
      }
    },
    {
      "cell_type": "code",
      "source": [
        "!pip install gym[classic_control]"
      ],
      "metadata": {
        "colab": {
          "base_uri": "https://localhost:8080/"
        },
        "id": "rIXD6R-WRdyG",
        "outputId": "de2784f6-79a6-4baa-a9ca-b33110cbe8f7"
      },
      "execution_count": 1,
      "outputs": [
        {
          "output_type": "stream",
          "name": "stdout",
          "text": [
            "Looking in indexes: https://pypi.org/simple, https://us-python.pkg.dev/colab-wheels/public/simple/\n",
            "Requirement already satisfied: gym[classic_control] in /usr/local/lib/python3.7/dist-packages (0.25.2)\n",
            "Requirement already satisfied: importlib-metadata>=4.8.0 in /usr/local/lib/python3.7/dist-packages (from gym[classic_control]) (4.13.0)\n",
            "Requirement already satisfied: gym-notices>=0.0.4 in /usr/local/lib/python3.7/dist-packages (from gym[classic_control]) (0.0.8)\n",
            "Requirement already satisfied: numpy>=1.18.0 in /usr/local/lib/python3.7/dist-packages (from gym[classic_control]) (1.21.6)\n",
            "Requirement already satisfied: cloudpickle>=1.2.0 in /usr/local/lib/python3.7/dist-packages (from gym[classic_control]) (1.5.0)\n",
            "Collecting pygame==2.1.0\n",
            "  Downloading pygame-2.1.0-cp37-cp37m-manylinux_2_17_x86_64.manylinux2014_x86_64.whl (18.3 MB)\n",
            "\u001b[K     |████████████████████████████████| 18.3 MB 65 kB/s \n",
            "\u001b[?25hRequirement already satisfied: zipp>=0.5 in /usr/local/lib/python3.7/dist-packages (from importlib-metadata>=4.8.0->gym[classic_control]) (3.10.0)\n",
            "Requirement already satisfied: typing-extensions>=3.6.4 in /usr/local/lib/python3.7/dist-packages (from importlib-metadata>=4.8.0->gym[classic_control]) (4.1.1)\n",
            "Installing collected packages: pygame\n",
            "Successfully installed pygame-2.1.0\n"
          ]
        }
      ]
    },
    {
      "cell_type": "code",
      "source": [
        "import gym\n",
        "import math\n",
        "import random\n",
        "import numpy as np\n",
        "import matplotlib\n",
        "import matplotlib.pyplot as plt\n",
        "from collections import namedtuple, deque\n",
        "from itertools import count\n",
        "from PIL import Image\n",
        "\n",
        "import torch\n",
        "import torch.nn as nn\n",
        "import torch.optim as optim\n",
        "import torch.nn.functional as F\n",
        "import torchvision.transforms as T\n",
        "\n",
        "\n",
        "if gym.__version__ < '0.26':\n",
        "    env = gym.make('CartPole-v0', new_step_api=True, render_mode='single_rgb_array').unwrapped\n",
        "else:\n",
        "    env = gym.make('CartPole-v0', render_mode='rgb_array').unwrapped\n",
        "\n",
        "# set up matplotlib\n",
        "is_ipython = 'inline' in matplotlib.get_backend()\n",
        "if is_ipython:\n",
        "    from IPython import display\n",
        "\n",
        "plt.ion()\n",
        "\n",
        "# if gpu is to be used\n",
        "device = torch.device(\"cuda\" if torch.cuda.is_available() else \"cpu\")"
      ],
      "metadata": {
        "colab": {
          "base_uri": "https://localhost:8080/"
        },
        "id": "j7sM8qyzVSXP",
        "outputId": "61d2b8dc-3910-4816-84bc-9fbab40a3428"
      },
      "execution_count": 2,
      "outputs": [
        {
          "output_type": "stream",
          "name": "stderr",
          "text": [
            "/usr/local/lib/python3.7/dist-packages/gym/envs/registration.py:594: UserWarning: \u001b[33mWARN: The environment CartPole-v0 is out of date. You should consider upgrading to version `v1`.\u001b[0m\n",
            "  f\"The environment {id} is out of date. You should consider \"\n"
          ]
        }
      ]
    },
    {
      "cell_type": "markdown",
      "source": [
        "Class for saving actions:"
      ],
      "metadata": {
        "id": "Nl2UTYA2V1YX"
      }
    },
    {
      "cell_type": "code",
      "source": [
        "Transition = namedtuple('Transition',\n",
        "                        ('state', 'action', 'next_state', 'reward'))\n",
        "\n",
        "\n",
        "class ReplayMemory(object):\n",
        "\n",
        "    def __init__(self, capacity):\n",
        "        self.memory = deque([],maxlen=capacity)\n",
        "\n",
        "    def push(self, *args):\n",
        "        \"\"\"Save a transition\"\"\"\n",
        "        self.memory.append(Transition(*args))\n",
        "\n",
        "    def sample(self, batch_size):\n",
        "        return random.sample(self.memory, batch_size)\n",
        "\n",
        "    def __len__(self):\n",
        "        return len(self.memory)"
      ],
      "metadata": {
        "id": "3GbGONU2ViTg"
      },
      "execution_count": 3,
      "outputs": []
    },
    {
      "cell_type": "markdown",
      "source": [
        "Neural Network:"
      ],
      "metadata": {
        "id": "4TZPAoDGVyXn"
      }
    },
    {
      "cell_type": "code",
      "source": [
        "class DQN(nn.Module):\n",
        "\n",
        "    def __init__(self, h, w, outputs):\n",
        "        super(DQN, self).__init__()\n",
        "        self.conv1 = nn.Conv2d(3, 16, kernel_size=5, stride=2)\n",
        "        self.bn1 = nn.BatchNorm2d(16)\n",
        "        self.conv2 = nn.Conv2d(16, 32, kernel_size=5, stride=2)\n",
        "        self.bn2 = nn.BatchNorm2d(32)\n",
        "        self.conv3 = nn.Conv2d(32, 32, kernel_size=5, stride=2)\n",
        "        self.bn3 = nn.BatchNorm2d(32)\n",
        "\n",
        "        # Number of Linear input connections depends on output of conv2d layers\n",
        "        # and therefore the input image size, so compute it.\n",
        "        def conv2d_size_out(size, kernel_size = 5, stride = 2):\n",
        "            return (size - (kernel_size - 1) - 1) // stride  + 1\n",
        "        convw = conv2d_size_out(conv2d_size_out(conv2d_size_out(w)))\n",
        "        convh = conv2d_size_out(conv2d_size_out(conv2d_size_out(h)))\n",
        "        linear_input_size = convw * convh * 32\n",
        "        self.head = nn.Linear(linear_input_size, outputs)\n",
        "\n",
        "    # Called with either one element to determine next action, or a batch\n",
        "    # during optimization. Returns tensor([[left0exp,right0exp]...]).\n",
        "    def forward(self, x):\n",
        "        x = x.to(device)\n",
        "        x = F.relu(self.bn1(self.conv1(x)))\n",
        "        x = F.relu(self.bn2(self.conv2(x)))\n",
        "        x = F.relu(self.bn3(self.conv3(x)))\n",
        "        return self.head(x.view(x.size(0), -1))\n"
      ],
      "metadata": {
        "id": "WeXWE0rnVsb_"
      },
      "execution_count": 4,
      "outputs": []
    },
    {
      "cell_type": "code",
      "source": [
        "resize = T.Compose([T.ToPILImage(),\n",
        "                    T.Resize(40, interpolation=Image.CUBIC),\n",
        "                    T.ToTensor()])\n",
        "\n",
        "\n",
        "def get_cart_location(screen_width):\n",
        "    world_width = env.x_threshold * 2\n",
        "    scale = screen_width / world_width\n",
        "    return int(env.state[0] * scale + screen_width / 2.0)  # MIDDLE OF CART\n",
        "\n",
        "def get_screen():\n",
        "    # Returned screen requested by gym is 400x600x3, but is sometimes larger\n",
        "    # such as 800x1200x3. Transpose it into torch order (CHW).\n",
        "    screen = env.render().transpose((2, 0, 1))\n",
        "    # Cart is in the lower half, so strip off the top and bottom of the screen\n",
        "    _, screen_height, screen_width = screen.shape\n",
        "    screen = screen[:, int(screen_height*0.4):int(screen_height * 0.8)]\n",
        "    view_width = int(screen_width * 0.6)\n",
        "    cart_location = get_cart_location(screen_width)\n",
        "    if cart_location < view_width // 2:\n",
        "        slice_range = slice(view_width)\n",
        "    elif cart_location > (screen_width - view_width // 2):\n",
        "        slice_range = slice(-view_width, None)\n",
        "    else:\n",
        "        slice_range = slice(cart_location - view_width // 2,\n",
        "                            cart_location + view_width // 2)\n",
        "    # Strip off the edges, so that we have a square image centered on a cart\n",
        "    screen = screen[:, :, slice_range]\n",
        "    # Convert to float, rescale, convert to torch tensor\n",
        "    # (this doesn't require a copy)\n",
        "    screen = np.ascontiguousarray(screen, dtype=np.float32) / 255\n",
        "    screen = torch.from_numpy(screen)\n",
        "    # Resize, and add a batch dimension (BCHW)\n",
        "    return resize(screen).unsqueeze(0)\n",
        "\n",
        "\n",
        "env.reset()\n",
        "plt.figure()\n",
        "plt.imshow(get_screen().cpu().squeeze(0).permute(1, 2, 0).numpy(),\n",
        "           interpolation='none')\n",
        "plt.title('Example extracted screen')\n",
        "plt.show()"
      ],
      "metadata": {
        "colab": {
          "base_uri": "https://localhost:8080/",
          "height": 270
        },
        "id": "1PqCP-HjVxuq",
        "outputId": "7501fcc0-2a74-471c-e49f-d86d5e145a0b"
      },
      "execution_count": 5,
      "outputs": [
        {
          "output_type": "stream",
          "name": "stderr",
          "text": [
            "/usr/local/lib/python3.7/dist-packages/torchvision/transforms/transforms.py:333: UserWarning: Argument 'interpolation' of type int is deprecated since 0.13 and will be removed in 0.15. Please use InterpolationMode enum.\n",
            "  \"Argument 'interpolation' of type int is deprecated since 0.13 and will be removed in 0.15. \"\n"
          ]
        },
        {
          "output_type": "display_data",
          "data": {
            "text/plain": [
              "<Figure size 432x288 with 1 Axes>"
            ],
            "image/png": "[encoded data removed]"
          },
          "metadata": {
            "needs_background": "light"
          }
        }
      ]
    },
    {
      "cell_type": "code",
      "source": [
        "BATCH_SIZE = 128\n",
        "GAMMA = 0.999\n",
        "EPS_START = 0.9\n",
        "EPS_END = 0.05\n",
        "EPS_DECAY = 200\n",
        "TARGET_UPDATE = 10\n",
        "\n",
        "# Get screen size so that we can initialize layers correctly based on shape\n",
        "# returned from AI gym. Typical dimensions at this point are close to 3x40x90\n",
        "# which is the result of a clamped and down-scaled render buffer in get_screen()\n",
        "init_screen = get_screen()\n",
        "_, _, screen_height, screen_width = init_screen.shape\n",
        "\n",
        "# Get number of actions from gym action space\n",
        "n_actions = env.action_space.n\n",
        "\n",
        "policy_net = DQN(screen_height, screen_width, n_actions).to(device)\n",
        "target_net = DQN(screen_height, screen_width, n_actions).to(device)\n",
        "target_net.load_state_dict(policy_net.state_dict())\n",
        "target_net.eval()\n",
        "\n",
        "optimizer = optim.RMSprop(policy_net.parameters())\n",
        "memory = ReplayMemory(10000)\n",
        "\n",
        "steps_done = 0\n",
        "\n",
        "\n",
        "def select_action(state):\n",
        "    global steps_done\n",
        "    sample = random.random()\n",
        "    eps_threshold = EPS_END + (EPS_START - EPS_END) * \\\n",
        "        math.exp(-1. * steps_done / EPS_DECAY)\n",
        "    steps_done += 1\n",
        "    if sample > eps_threshold:\n",
        "        with torch.no_grad():\n",
        "            # t.max(1) will return largest column value of each row.\n",
        "            # second column on max result is index of where max element was\n",
        "            # found, so we pick action with the larger expected reward.\n",
        "            return policy_net(state).max(1)[1].view(1, 1)\n",
        "    else:\n",
        "        return torch.tensor([[random.randrange(n_actions)]], device=device, dtype=torch.long)\n",
        "\n",
        "\n",
        "episode_durations = []\n",
        "\n",
        "\n",
        "def plot_durations():\n",
        "    plt.figure(2)\n",
        "    plt.clf()\n",
        "    durations_t = torch.tensor(episode_durations, dtype=torch.float)\n",
        "    plt.title('Training...')\n",
        "    plt.xlabel('Episode')\n",
        "    plt.ylabel('Duration')\n",
        "    plt.plot(durations_t.numpy())\n",
        "    # Take 100 episode averages and plot them too\n",
        "    if len(durations_t) >= 100:\n",
        "        means = durations_t.unfold(0, 100, 1).mean(1).view(-1)\n",
        "        means = torch.cat((torch.zeros(99), means))\n",
        "        plt.plot(means.numpy())"
      ],
      "metadata": {
        "id": "uJE53fSvV-F2"
      },
      "execution_count": 6,
      "outputs": []
    },
    {
      "cell_type": "code",
      "source": [
        "def optimize_model():\n",
        "    if len(memory) < BATCH_SIZE:\n",
        "        return\n",
        "    transitions = memory.sample(BATCH_SIZE)\n",
        "    # Transpose the batch (see https://stackoverflow.com/a/19343/3343043 for\n",
        "    # detailed explanation). This converts batch-array of Transitions\n",
        "    # to Transition of batch-arrays.\n",
        "    batch = Transition(*zip(*transitions))\n",
        "\n",
        "    # Compute a mask of non-final states and concatenate the batch elements\n",
        "    # (a final state would've been the one after which simulation ended)\n",
        "    non_final_mask = torch.tensor(tuple(map(lambda s: s is not None,\n",
        "                                          batch.next_state)), device=device, dtype=torch.bool)\n",
        "    non_final_next_states = torch.cat([s for s in batch.next_state\n",
        "                                                if s is not None])\n",
        "    state_batch = torch.cat(batch.state)\n",
        "    action_batch = torch.cat(batch.action)\n",
        "    reward_batch = torch.cat(batch.reward)\n",
        "\n",
        "    # Compute Q(s_t, a) - the model computes Q(s_t), then we select the\n",
        "    # columns of actions taken. These are the actions which would've been taken\n",
        "    # for each batch state according to policy_net\n",
        "    state_action_values = policy_net(state_batch).gather(1, action_batch)\n",
        "\n",
        "    # Compute V(s_{t+1}) for all next states.\n",
        "    # Expected values of actions for non_final_next_states are computed based\n",
        "    # on the \"older\" target_net; selecting their best reward with max(1)[0].\n",
        "    # This is merged based on the mask, such that we'll have either the expected\n",
        "    # state value or 0 in case the state was final.\n",
        "    next_state_values = torch.zeros(BATCH_SIZE, device=device)\n",
        "    next_state_values[non_final_mask] = target_net(non_final_next_states).max(1)[0].detach()\n",
        "    # Compute the expected Q values\n",
        "    expected_state_action_values = (next_state_values * GAMMA) + reward_batch\n",
        "\n",
        "    # Compute Huber loss\n",
        "    criterion = nn.SmoothL1Loss()\n",
        "    loss = criterion(state_action_values, expected_state_action_values.unsqueeze(1))\n",
        "\n",
        "    # Optimize the model\n",
        "    optimizer.zero_grad()\n",
        "    loss.backward()\n",
        "    for param in policy_net.parameters():\n",
        "        param.grad.data.clamp_(-1, 1)\n",
        "    optimizer.step()"
      ],
      "metadata": {
        "id": "KJ801jUBWsAX"
      },
      "execution_count": 7,
      "outputs": []
    },
    {
      "cell_type": "code",
      "source": [
        "from tqdm.auto import tqdm\n",
        "\n",
        "num_episodes = 500\n",
        "for i_episode in tqdm(range(num_episodes)):\n",
        "    # Initialize the environment and state\n",
        "    env.reset()\n",
        "    last_screen = get_screen()\n",
        "    current_screen = get_screen()\n",
        "    state = current_screen - last_screen\n",
        "    for t in count():\n",
        "        # Select and perform an action\n",
        "        action = select_action(state)\n",
        "        _, reward, done, _, _ = env.step(action.item())\n",
        "        reward = torch.tensor([reward], device=device)\n",
        "\n",
        "        # Observe new state\n",
        "        last_screen = current_screen\n",
        "        current_screen = get_screen()\n",
        "        if not done:\n",
        "            next_state = current_screen - last_screen\n",
        "        else:\n",
        "            next_state = None\n",
        "\n",
        "        # Store the transition in memory\n",
        "        memory.push(state, action, next_state, reward)\n",
        "\n",
        "        # Move to the next state\n",
        "        state = next_state\n",
        "\n",
        "        # Perform one step of the optimization (on the policy network)\n",
        "        optimize_model()\n",
        "        if done:\n",
        "            episode_durations.append(t + 1)\n",
        "            plot_durations()\n",
        "            break\n",
        "\n",
        "        # Update the target network, copying all weights and biases in DQN\n",
        "        if t % TARGET_UPDATE == 0:\n",
        "            target_net.load_state_dict(policy_net.state_dict())\n",
        "\n",
        "print('Complete')\n",
        "env.render()\n",
        "env.close()\n",
        "plt.ioff()\n",
        "plt.show()"
      ],
      "metadata": {
        "colab": {
          "base_uri": "https://localhost:8080/",
          "height": 345,
          "referenced_widgets": [
            "6eb6336a98d9439f8e74252b651408db",
            "e1e6b7adf878481ea43dde5f9b9bb93d",
            "35a6961dca0b42c9a5895e776198c129",
            "f76190c86b264df1abb0f4454d919ac1",
            "cccfcbd1f9ca44fcb6072285319046a8",
            "1d7cb5a2dd054277a1f8cf40b9f20ebd",
            "5ed23657f3604c1bae174e6f04b23cf0",
            "6eebe26d27b34e70a869d332f4776024",
            "d6f7f2f5a7904a2eaea74b1b58665f2c",
            "3823b81a903047d7abb4d05d781d506e",
            "3c59fe9998724340acbb4579ac920f75"
          ]
        },
        "id": "LJbM73h6WOd6",
        "outputId": "fdaa4fb0-fd3e-4cf6-b535-2dbd0daf1051"
      },
      "execution_count": 8,
      "outputs": [
        {
          "output_type": "display_data",
          "data": {
            "text/plain": [
              "  0%|          | 0/500 [00:00<?, ?it/s]"
            ],
            "application/vnd.jupyter.widget-view+json": {
              "version_major": 2,
              "version_minor": 0,
              "model_id": "6eb6336a98d9439f8e74252b651408db"
            }
          },
          "metadata": {}
        },
        {
          "output_type": "stream",
          "name": "stdout",
          "text": [
            "Complete\n"
          ]
        },
        {
          "output_type": "display_data",
          "data": {
            "text/plain": [
              "<Figure size 432x288 with 1 Axes>"
            ],
            "image/png": "[encoded data removed]"
          },
          "metadata": {
            "needs_background": "light"
          }
        }
      ]
    },
    {
      "cell_type": "markdown",
      "source": [
        "# Windy Gridworld"
      ],
      "metadata": {
        "id": "Q3arjmrweZVO"
      }
    },
    {
      "cell_type": "code",
      "source": [
        "import numpy as np\n",
        "import pylab as pl\n",
        "import matplotlib.pyplot as plt \n",
        "import seaborn as sns\n",
        "import time\n",
        "\n",
        "%matplotlib inline\n",
        "sns.set_style(\"whitegrid\")"
      ],
      "metadata": {
        "id": "ENuUUPhSebFf"
      },
      "execution_count": 6,
      "outputs": []
    },
    {
      "cell_type": "code",
      "source": [
        "class GridWorld(object):\n",
        "    \n",
        "    def __init__(self):\n",
        "        super(GridWorld, self).__init__()\n",
        "        self.start = 0\n",
        "        self.goal = 0\n",
        "        \n",
        "        # Provide the setting of gridWorld rows and columns\n",
        "        self.row = 7\n",
        "        self.col = 10\n",
        "        self.x_max = self.col - 1\n",
        "        self.y_max = self.row - 1\n",
        "\n",
        "        # Declare windy columns and their effect\n",
        "        self.wind_1 = [3, 4, 5, 8]\n",
        "        self.wind_2 = [6, 7]\n",
        "        \n",
        "        # Provide action list : Up/Down/Left/Right\n",
        "        self.actions_list = ['N', 'E', 'S', 'W']\n",
        "      \n",
        "    # here, cells defined by index\n",
        "    def cell(self,pos):\n",
        "        return pos[1] + self.col * pos[0]\n",
        "    \n",
        "    def setTerminal(self, startState, goalState):\n",
        "        # startState and goalState are tuples\n",
        "        self.start = self.cell(startState)\n",
        "        self.goal = self.cell(goalState)\n",
        "        \n",
        "    def nextState(self, state, action):\n",
        "        # The \"state\" parameter is an integer that represents position in grid\n",
        "        x = state % self.col\n",
        "        y = (state - x) / self.col\n",
        "\n",
        "        # Now let's define and interpret actions\n",
        "        del_x = 0\n",
        "        del_y = 0\n",
        "        if action == 'E':\n",
        "            del_x = 1\n",
        "        elif action == 'W':\n",
        "            del_x = -1\n",
        "        elif action == 'N':\n",
        "            del_y = -1\n",
        "        elif action == 'S':\n",
        "            del_y = 1\n",
        "        else:\n",
        "            raise('Invalid action! Actions taken must be in: ', self.actions_list)\n",
        "\n",
        "        # Now move to new position\n",
        "        new_x = max(0, min(x + del_x, self.x_max))\n",
        "        new_y = max(0, min(y + del_y, self.y_max))\n",
        "        \n",
        "        # When wind blows to a new state\n",
        "        if new_x in self.wind_1:\n",
        "            new_y = max(0, new_y - 1)\n",
        "        if new_x in self.wind_2:\n",
        "            new_y = max(0, new_y - 2)\n",
        "        \n",
        "        # now let's return these new state values\n",
        "        return self.cell((new_y,new_x))\n",
        "    \n",
        "    def checkTerminal(self, state):\n",
        "        return state == self.goal\n",
        "    \n",
        "    def rewardFunction(self, state_prime):\n",
        "        # When it reaches terminal state then reward is 0 else all actions should yield -1\n",
        "        if self.checkTerminal(state_prime):\n",
        "            return 0\n",
        "        else:\n",
        "            return -1"
      ],
      "metadata": {
        "id": "el76khUFebzt"
      },
      "execution_count": 26,
      "outputs": []
    },
    {
      "cell_type": "code",
      "source": [
        "def trajectoryPath(world, traj):\n",
        "    # Initialize gridworld\n",
        "    world_map = np.zeros((world.row, world.col))\n",
        "    for i,state in enumerate(traj):\n",
        "        x = int(state % world.col)\n",
        "        y = int((state - x) / world.col)\n",
        "        world_map[y, x] = i + 1\n",
        "    print(world_map)\n",
        "    print(\"\\n\")"
      ],
      "metadata": {
        "id": "zPcI5I1QegUi"
      },
      "execution_count": 16,
      "outputs": []
    },
    {
      "cell_type": "markdown",
      "source": [
        "## SARSA"
      ],
      "metadata": {
        "id": "EEF1DN9keiwr"
      }
    },
    {
      "cell_type": "code",
      "source": [
        "# function for greedy action\n",
        "def greedyAct(_q_dict):\n",
        "    greedy_act = ''\n",
        "    max_q = -1e10\n",
        "    for act in world.actions_list:\n",
        "        if _q_dict[act] > max_q:\n",
        "            greedy_act = act\n",
        "            max_q = _q_dict[act]\n",
        "    return greedy_act\n",
        "\n",
        "# function for epsilon-greedy action\n",
        "def epsGreedy(episode, q_dict, epsilon):\n",
        "    \n",
        "    m = len(world.actions_list)\n",
        "    greedy_act = greedyAct(q_dict)\n",
        "    \n",
        "    # strange implementation; today you will see better ones\n",
        "    p = []\n",
        "    for act in world.actions_list:\n",
        "        if act == greedy_act:\n",
        "            p.append((epsilon * 1. / m) + 1 - epsilon)\n",
        "        else:\n",
        "            p.append(epsilon * 1. / m)\n",
        "\n",
        "    # choose one action given proba\n",
        "    choice = np.random.choice(world.actions_list, size = 1, p = p)\n",
        "    return choice[0]"
      ],
      "metadata": {
        "id": "YGo2_P6Qens5"
      },
      "execution_count": 92,
      "outputs": []
    },
    {
      "cell_type": "code",
      "source": [
        "def gridWorld_SARSA(world, startState, goalState, alpha=0.1, gamma=1, epsilon=0.1):\n",
        "    # Consider input parameters:\n",
        "    # gamma = 1 as discounted factor\n",
        "    # default values of alpha and epsilon considered, it will be changed for multiple analysis\n",
        "    world.setTerminal(startState, goalState)\n",
        "    \n",
        "    # Initialize Q(s,a)\n",
        "    q_table = {}\n",
        "    for state in range(world.row * world.col):\n",
        "        q_table[state] = {}\n",
        "        for act in world.actions_list:\n",
        "            q_table[state][act] = 0\n",
        "\n",
        "    \n",
        "    ep = 1 # Episode number\n",
        "    ep_max = 101 # number of max episodes\n",
        "    step_ep_list = []\n",
        "    step = 0\n",
        "\n",
        "    # strange implementation\n",
        "    while ep < ep_max:\n",
        "\n",
        "        # Initialize state\n",
        "        state = world.cell(startState)\n",
        "        trajectory = [state]\n",
        "        \n",
        "        # Choose action from state\n",
        "        act = epsGreedy(ep, q_table[state], epsilon)\n",
        "\n",
        "        # Processing action\n",
        "        while not world.checkTerminal(state):\n",
        "            state_prime = world.nextState(state, act)\n",
        "            reward = world.rewardFunction(state_prime)\n",
        "            act_prime = epsGreedy(ep, q_table[state_prime], epsilon)\n",
        "            # what's wrong with it?\n",
        "            q_table[state][act] += alpha * (reward + gamma * q_table[state_prime][act_prime] - q_table[state][act])\n",
        "            state = state_prime\n",
        "            act = act_prime\n",
        "\n",
        "            # Increase Step Counter\n",
        "            step += 1\n",
        "            \n",
        "            # Store the index of the episode of this time step\n",
        "            step_ep_list.append(ep)\n",
        "            \n",
        "            # Update the trajectory\n",
        "            trajectory.append(state)\n",
        "        \n",
        "        if ep == (ep_max - 1):\n",
        "            trajectoryPath(world, trajectory)\n",
        "        # Increase the episode counter\n",
        "        ep += 1\n",
        "    \n",
        "    start_time = time.time()\n",
        "    plt.plot(step_ep_list)\n",
        "    print(\"Time elapsed is (in Secs): \", time.time() - start_time)\n",
        "    plt.title('WindyGridWorld_SARSA ', fontsize = 'large')\n",
        "    plt.xlabel(\"Number of Steps taken\")\n",
        "    plt.ylabel(\"Number of Episodes\")\n",
        "    plt.show()"
      ],
      "metadata": {
        "id": "g3Rnb4ieeprz"
      },
      "execution_count": 18,
      "outputs": []
    },
    {
      "cell_type": "code",
      "source": [
        "startState = (3, 0)\n",
        "goalState = (3, 7)\n",
        "world = GridWorld()\n",
        "print(\"Plot for Option: ∈=0.1, α=0.5 \\n\")\n",
        "gridWorld_SARSA(world, startState, goalState, alpha=0.5, epsilon=0.1)"
      ],
      "metadata": {
        "colab": {
          "base_uri": "https://localhost:8080/",
          "height": 515
        },
        "id": "M-SoAXrpeuh4",
        "outputId": "877b0bfc-3a82-483c-e15e-d19c40995545"
      },
      "execution_count": 73,
      "outputs": [
        {
          "output_type": "stream",
          "name": "stdout",
          "text": [
            "Plot for Option: ∈=0.1, α=0.5 \n",
            "\n",
            "[[ 0.  0.  0.  0.  0. 12. 13. 14. 15. 16.]\n",
            " [ 0.  0.  0.  0. 11.  0.  0.  0.  0. 17.]\n",
            " [ 0.  0.  0.  0.  0.  0.  0.  0.  0. 18.]\n",
            " [ 1.  0.  0.  0.  9.  0.  0. 32.  0. 19.]\n",
            " [ 2.  0.  0.  6.  0.  0.  0.  0. 27. 28.]\n",
            " [ 3.  4.  5.  0.  0.  0.  0.  0. 31. 29.]\n",
            " [ 0.  0.  0.  0.  0.  0.  0.  0.  0. 30.]]\n",
            "\n",
            "\n",
            "Time elapsed is (in Secs):  0.015294551849365234\n"
          ]
        },
        {
          "output_type": "display_data",
          "data": {
            "text/plain": [
              "<Figure size 432x288 with 1 Axes>"
            ],
            "image/png": "[encoded data removed]"
          },
          "metadata": {}
        }
      ]
    },
    {
      "cell_type": "code",
      "source": [
        "world = GridWorld()\n",
        "print(\"Plot for Option: ∈=0.2, α=0.1 \\n\")\n",
        "gridWorld_SARSA(world, startState, goalState, alpha=0.1, epsilon=0.2)"
      ],
      "metadata": {
        "colab": {
          "base_uri": "https://localhost:8080/",
          "height": 515
        },
        "id": "oLdZQ5m1eudZ",
        "outputId": "c275c0e7-a586-474a-e382-9a0fee27246e"
      },
      "execution_count": 20,
      "outputs": [
        {
          "output_type": "stream",
          "name": "stdout",
          "text": [
            "Plot for Option: ∈=0.2, α=0.1 \n",
            "\n",
            "[[33. 34. 35. 20. 78. 79. 80. 81. 82. 84.]\n",
            " [59. 60. 61.  0.  0.  0.  0.  0.  0. 86.]\n",
            " [58. 51. 62. 41. 75.  0.  0.  0.  0. 87.]\n",
            " [49. 46. 63.  0.  0.  0.  0. 94.  0. 88.]\n",
            " [48. 13. 66. 16. 74.  0.  0.  0.  0. 89.]\n",
            " [ 9. 14. 67. 73.  0.  0.  0.  0. 93. 91.]\n",
            " [ 0.  0. 70.  0.  0.  0.  0.  0.  0. 92.]]\n",
            "\n",
            "\n",
            "Time elapsed is (in Secs):  0.011916637420654297\n"
          ]
        },
        {
          "output_type": "display_data",
          "data": {
            "text/plain": [
              "<Figure size 432x288 with 1 Axes>"
            ],
            "image/png": "[encoded data removed]"
          },
          "metadata": {}
        }
      ]
    },
    {
      "cell_type": "code",
      "source": [
        "world = GridWorld()\n",
        "print(\"Plot for Option: ∈=0.05, α=0.2 \\n\")\n",
        "gridWorld_SARSA(world, startState, goalState, alpha=0.2, epsilon=0.05)"
      ],
      "metadata": {
        "colab": {
          "base_uri": "https://localhost:8080/",
          "height": 515
        },
        "id": "TNlWGVpVezBh",
        "outputId": "bbda537c-bbb4-48e7-e38b-cc7577c9e8ab"
      },
      "execution_count": 21,
      "outputs": [
        {
          "output_type": "stream",
          "name": "stdout",
          "text": [
            "Plot for Option: ∈=0.05, α=0.2 \n",
            "\n",
            "[[ 0.  0.  0.  0.  0.  0. 11. 12. 21. 22.]\n",
            " [ 0.  0.  0.  0.  0.  0.  0. 20.  0. 23.]\n",
            " [ 0.  0.  0.  0.  0. 10.  0.  0.  0. 24.]\n",
            " [ 1.  2.  3.  0.  9.  0.  0. 31. 19. 25.]\n",
            " [ 0.  0.  4.  8.  0.  0.  0.  0.  0. 27.]\n",
            " [ 0.  0.  5.  0.  0.  0.  0.  0. 30. 28.]\n",
            " [ 0.  0.  0.  0.  0.  0.  0.  0.  0. 29.]]\n",
            "\n",
            "\n",
            "Time elapsed is (in Secs):  0.012499332427978516\n"
          ]
        },
        {
          "output_type": "display_data",
          "data": {
            "text/plain": [
              "<Figure size 432x288 with 1 Axes>"
            ],
            "image/png": "[encoded data removed]"
          },
          "metadata": {}
        }
      ]
    },
    {
      "cell_type": "code",
      "source": [
        "def gridWorld_SARSA_lambda(world, startState, goalState, alpha=0.1, gamma=1, epsilon=0.1, lambda_=0.9):\n",
        "    # Consider input parameters:\n",
        "    # gamma = 1 as discounted factor\n",
        "    # default values of alpha and epsilon considered, it will be changed for multiple analysis\n",
        "    world.setTerminal(startState, goalState)\n",
        "    \n",
        "    # Initialize Q(s,a)\n",
        "    q_table = {}\n",
        "    for state in range(world.row * world.col):\n",
        "        q_table[state] = {}\n",
        "        for act in world.actions_list:\n",
        "            q_table[state][act] = 0\n",
        "    \n",
        "    # Initialize E(s,a) - eligibility traces\n",
        "    e_traces = {}\n",
        "    for state in range(world.row * world.col):\n",
        "        e_traces[state] = {}\n",
        "        for act in world.actions_list:\n",
        "            e_traces[state][act] = 0\n",
        "    \n",
        "    ep = 1 # Episode number\n",
        "    ep_max = 101 # number of max episodes\n",
        "    step_ep_list = []\n",
        "    step = 0\n",
        "\n",
        "    # strange implementation\n",
        "    while ep < ep_max:\n",
        "\n",
        "        # Initialize state\n",
        "        state = world.cell(startState)\n",
        "        trajectory = [state]\n",
        "        \n",
        "        # Choose action from state\n",
        "        act = epsGreedy(ep, q_table[state], epsilon)\n",
        "\n",
        "        # Processing action\n",
        "        while not world.checkTerminal(state):\n",
        "            state_prime = world.nextState(state, act)\n",
        "            reward = world.rewardFunction(state_prime)\n",
        "            act_prime = epsGreedy(ep, q_table[state_prime], epsilon)\n",
        "            # what's wrong with it?\n",
        "            delta = reward + gamma * q_table[state_prime][act_prime] - q_table[state][act]\n",
        "            e_traces[state][act] += 1\n",
        "            for s in range(world.row * world.col):\n",
        "                for a in world.actions_list:\n",
        "                    q_table[s][a] += alpha * delta * e_traces[s][a]\n",
        "                    e_traces[s][a] *= gamma * lambda_\n",
        "\n",
        "            state = state_prime\n",
        "            act = act_prime\n",
        "\n",
        "            # Increase Step Counter\n",
        "            step += 1\n",
        "            \n",
        "            # Store the index of the episode of this time step\n",
        "            step_ep_list.append(ep)\n",
        "            \n",
        "            # Update the trajectory\n",
        "            trajectory.append(state)\n",
        "        \n",
        "        # if ep == (ep_max - 1):\n",
        "            # trajectoryPath(world, trajectory)\n",
        "        # Increase the episode counter\n",
        "        ep += 1\n",
        "    \n",
        "    start_time = time.time()\n",
        "    return len(step_ep_list)\n",
        "    plt.plot(step_ep_list)\n",
        "    print(\"Time elapsed is (in Secs): \", time.time() - start_time)\n",
        "    plt.title('WindyGridWorld_SARSA ', fontsize = 'large')\n",
        "    plt.xlabel(\"Number of Steps taken\")\n",
        "    plt.ylabel(\"Number of Episodes\")\n",
        "    plt.show()"
      ],
      "metadata": {
        "id": "CU6B-XBhsi9S"
      },
      "execution_count": 85,
      "outputs": []
    },
    {
      "cell_type": "code",
      "source": [
        "startState = (3, 0)\n",
        "goalState = (3, 7)\n",
        "world = GridWorld()\n",
        "print(\"Plot for Option: ∈=0.1, α=0.5 \\n\")\n",
        "\n",
        "lambdas = np.linspace(0, 0.8, 10, dtype=np.float32)\n",
        "steps = []\n",
        "for l in lambdas:\n",
        "    steps.append(\n",
        "        gridWorld_SARSA_lambda(world, startState, goalState, alpha=0.5, gamma=1, epsilon=0.1, lambda_=l)\n",
        "    )\n",
        "\n",
        "plt.scatter(lambdas, steps)\n",
        "plt.xlabel(\"lambda value\")\n",
        "plt.ylabel(\"number of steps in 100 episodes\")\n",
        "plt.show()"
      ],
      "metadata": {
        "colab": {
          "base_uri": "https://localhost:8080/",
          "height": 317
        },
        "id": "ES-kmjzlwg5s",
        "outputId": "c7ca1076-90ff-4f50-bcf6-7fcf8204193d"
      },
      "execution_count": 94,
      "outputs": [
        {
          "output_type": "stream",
          "name": "stdout",
          "text": [
            "Plot for Option: ∈=0.1, α=0.5 \n",
            "\n"
          ]
        },
        {
          "output_type": "display_data",
          "data": {
            "text/plain": [
              "<Figure size 432x288 with 1 Axes>"
            ],
            "image/png": "[encoded data removed]"
          },
          "metadata": {}
        }
      ]
    },
    {
      "cell_type": "markdown",
      "source": [
        "Как можем видеть, чем мы ставим больше лямбду, тем скорее должен скоходиться SARSA($\\lambda$)."
      ],
      "metadata": {
        "id": "y--nkUka_mf_"
      }
    },
    {
      "cell_type": "code",
      "source": [
        "startState = (3, 0)\n",
        "goalState = (3, 7)\n",
        "world = GridWorld()\n",
        "# print(\"Plot for Option: ∈=0.1, α=0.5 \\n\")\n",
        "\n",
        "lambdas = np.linspace(0, 0.8, 10, dtype=np.float32)\n",
        "alphas = np.linspace(0.1, 0.5, 5, dtype=np.float32)\n",
        "steps = []\n",
        "for l in lambdas:\n",
        "    steps = []\n",
        "    for a in alphas:\n",
        "        # тут нужен цикл, чтобы среднее по моделям взять, типа несколько раз вызвать с те ми же параметрами, и посчитать среднее\n",
        "        # но я уже не успеваю посчитать, колаб медленный, я только этот график считал 10 минут.\n",
        "        steps.append(\n",
        "            gridWorld_SARSA_lambda(world, startState, goalState, alpha=a, gamma=1, epsilon=0.1, lambda_=l) / 100\n",
        "        )\n",
        "    plt.plot(alphas, steps, label=f\"lambda={l}\")\n",
        "\n",
        "# plt.scatter(alphas, steps)\n",
        "plt.legend(loc=\"upper right\")\n",
        "plt.ylabel(\"number of steps in 100 episodes\")\n",
        "plt.show()"
      ],
      "metadata": {
        "colab": {
          "base_uri": "https://localhost:8080/",
          "height": 265
        },
        "id": "ctSVCYOAANWr",
        "outputId": "e3c4cc7f-d8f9-40c5-f100-29e36e6c1878"
      },
      "execution_count": 106,
      "outputs": [
        {
          "output_type": "display_data",
          "data": {
            "text/plain": [
              "<Figure size 432x288 with 1 Axes>"
            ],
            "image/png": "[encoded data removed]"
          },
          "metadata": {}
        }
      ]
    }
  ]
}