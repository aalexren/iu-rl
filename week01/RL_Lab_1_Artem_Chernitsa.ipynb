{
  "nbformat": 4,
  "nbformat_minor": 0,
  "metadata": {
    "colab": {
      "provenance": [],
      "collapsed_sections": [
        "qE7NYfkJ5BnI",
        "fnpGA0F19YOw",
        "giwXZJkL84SQ",
        "jr6SBuoJ_4Lg",
        "8xGgpVSmCdCf",
        "2-mG3nDvDghW"
      ]
    },
    "kernelspec": {
      "name": "python3",
      "display_name": "Python 3"
    },
    "language_info": {
      "name": "python"
    },
    "widgets": {
      "application/vnd.jupyter.widget-state+json": {
        "2ef0edc18657473087688f483eef1303": {
          "model_module": "@jupyter-widgets/controls",
          "model_name": "HBoxModel",
          "model_module_version": "1.5.0",
          "state": {
            "_dom_classes": [],
            "_model_module": "@jupyter-widgets/controls",
            "_model_module_version": "1.5.0",
            "_model_name": "HBoxModel",
            "_view_count": null,
            "_view_module": "@jupyter-widgets/controls",
            "_view_module_version": "1.5.0",
            "_view_name": "HBoxView",
            "box_style": "",
            "children": [
              "IPY_MODEL_771a3f909f004f7bbc7295bbc5f25e4f",
              "IPY_MODEL_ff840045c20a432b9bbc887781133644",
              "IPY_MODEL_fc2798ef5fbd422eb50aeef9f7e3cf0e"
            ],
            "layout": "IPY_MODEL_78bfe9d7f4404a73aedf4abbf63ff4e3"
          }
        },
        "771a3f909f004f7bbc7295bbc5f25e4f": {
          "model_module": "@jupyter-widgets/controls",
          "model_name": "HTMLModel",
          "model_module_version": "1.5.0",
          "state": {
            "_dom_classes": [],
            "_model_module": "@jupyter-widgets/controls",
            "_model_module_version": "1.5.0",
            "_model_name": "HTMLModel",
            "_view_count": null,
            "_view_module": "@jupyter-widgets/controls",
            "_view_module_version": "1.5.0",
            "_view_name": "HTMLView",
            "description": "",
            "description_tooltip": null,
            "layout": "IPY_MODEL_e84bd50061eb4b04a0b87a593251dfaf",
            "placeholder": "​",
            "style": "IPY_MODEL_4ccd8e8c21984e8eb7136c895d504921",
            "value": "100%"
          }
        },
        "ff840045c20a432b9bbc887781133644": {
          "model_module": "@jupyter-widgets/controls",
          "model_name": "FloatProgressModel",
          "model_module_version": "1.5.0",
          "state": {
            "_dom_classes": [],
            "_model_module": "@jupyter-widgets/controls",
            "_model_module_version": "1.5.0",
            "_model_name": "FloatProgressModel",
            "_view_count": null,
            "_view_module": "@jupyter-widgets/controls",
            "_view_module_version": "1.5.0",
            "_view_name": "ProgressView",
            "bar_style": "success",
            "description": "",
            "description_tooltip": null,
            "layout": "IPY_MODEL_196e1d94bd234c77a84d25d18af02f8a",
            "max": 1000,
            "min": 0,
            "orientation": "horizontal",
            "style": "IPY_MODEL_238e97a8a8ce4f729a534ebe011d06f7",
            "value": 1000
          }
        },
        "fc2798ef5fbd422eb50aeef9f7e3cf0e": {
          "model_module": "@jupyter-widgets/controls",
          "model_name": "HTMLModel",
          "model_module_version": "1.5.0",
          "state": {
            "_dom_classes": [],
            "_model_module": "@jupyter-widgets/controls",
            "_model_module_version": "1.5.0",
            "_model_name": "HTMLModel",
            "_view_count": null,
            "_view_module": "@jupyter-widgets/controls",
            "_view_module_version": "1.5.0",
            "_view_name": "HTMLView",
            "description": "",
            "description_tooltip": null,
            "layout": "IPY_MODEL_8ef0d39cbcc94102a18f49bbf8bb759e",
            "placeholder": "​",
            "style": "IPY_MODEL_2d2231fe3a87443ea6c377b67be5c38a",
            "value": " 1000/1000 [01:03&lt;00:00, 16.09it/s]"
          }
        },
        "78bfe9d7f4404a73aedf4abbf63ff4e3": {
          "model_module": "@jupyter-widgets/base",
          "model_name": "LayoutModel",
          "model_module_version": "1.2.0",
          "state": {
            "_model_module": "@jupyter-widgets/base",
            "_model_module_version": "1.2.0",
            "_model_name": "LayoutModel",
            "_view_count": null,
            "_view_module": "@jupyter-widgets/base",
            "_view_module_version": "1.2.0",
            "_view_name": "LayoutView",
            "align_content": null,
            "align_items": null,
            "align_self": null,
            "border": null,
            "bottom": null,
            "display": null,
            "flex": null,
            "flex_flow": null,
            "grid_area": null,
            "grid_auto_columns": null,
            "grid_auto_flow": null,
            "grid_auto_rows": null,
            "grid_column": null,
            "grid_gap": null,
            "grid_row": null,
            "grid_template_areas": null,
            "grid_template_columns": null,
            "grid_template_rows": null,
            "height": null,
            "justify_content": null,
            "justify_items": null,
            "left": null,
            "margin": null,
            "max_height": null,
            "max_width": null,
            "min_height": null,
            "min_width": null,
            "object_fit": null,
            "object_position": null,
            "order": null,
            "overflow": null,
            "overflow_x": null,
            "overflow_y": null,
            "padding": null,
            "right": null,
            "top": null,
            "visibility": null,
            "width": null
          }
        },
        "e84bd50061eb4b04a0b87a593251dfaf": {
          "model_module": "@jupyter-widgets/base",
          "model_name": "LayoutModel",
          "model_module_version": "1.2.0",
          "state": {
            "_model_module": "@jupyter-widgets/base",
            "_model_module_version": "1.2.0",
            "_model_name": "LayoutModel",
            "_view_count": null,
            "_view_module": "@jupyter-widgets/base",
            "_view_module_version": "1.2.0",
            "_view_name": "LayoutView",
            "align_content": null,
            "align_items": null,
            "align_self": null,
            "border": null,
            "bottom": null,
            "display": null,
            "flex": null,
            "flex_flow": null,
            "grid_area": null,
            "grid_auto_columns": null,
            "grid_auto_flow": null,
            "grid_auto_rows": null,
            "grid_column": null,
            "grid_gap": null,
            "grid_row": null,
            "grid_template_areas": null,
            "grid_template_columns": null,
            "grid_template_rows": null,
            "height": null,
            "justify_content": null,
            "justify_items": null,
            "left": null,
            "margin": null,
            "max_height": null,
            "max_width": null,
            "min_height": null,
            "min_width": null,
            "object_fit": null,
            "object_position": null,
            "order": null,
            "overflow": null,
            "overflow_x": null,
            "overflow_y": null,
            "padding": null,
            "right": null,
            "top": null,
            "visibility": null,
            "width": null
          }
        },
        "4ccd8e8c21984e8eb7136c895d504921": {
          "model_module": "@jupyter-widgets/controls",
          "model_name": "DescriptionStyleModel",
          "model_module_version": "1.5.0",
          "state": {
            "_model_module": "@jupyter-widgets/controls",
            "_model_module_version": "1.5.0",
            "_model_name": "DescriptionStyleModel",
            "_view_count": null,
            "_view_module": "@jupyter-widgets/base",
            "_view_module_version": "1.2.0",
            "_view_name": "StyleView",
            "description_width": ""
          }
        },
        "196e1d94bd234c77a84d25d18af02f8a": {
          "model_module": "@jupyter-widgets/base",
          "model_name": "LayoutModel",
          "model_module_version": "1.2.0",
          "state": {
            "_model_module": "@jupyter-widgets/base",
            "_model_module_version": "1.2.0",
            "_model_name": "LayoutModel",
            "_view_count": null,
            "_view_module": "@jupyter-widgets/base",
            "_view_module_version": "1.2.0",
            "_view_name": "LayoutView",
            "align_content": null,
            "align_items": null,
            "align_self": null,
            "border": null,
            "bottom": null,
            "display": null,
            "flex": null,
            "flex_flow": null,
            "grid_area": null,
            "grid_auto_columns": null,
            "grid_auto_flow": null,
            "grid_auto_rows": null,
            "grid_column": null,
            "grid_gap": null,
            "grid_row": null,
            "grid_template_areas": null,
            "grid_template_columns": null,
            "grid_template_rows": null,
            "height": null,
            "justify_content": null,
            "justify_items": null,
            "left": null,
            "margin": null,
            "max_height": null,
            "max_width": null,
            "min_height": null,
            "min_width": null,
            "object_fit": null,
            "object_position": null,
            "order": null,
            "overflow": null,
            "overflow_x": null,
            "overflow_y": null,
            "padding": null,
            "right": null,
            "top": null,
            "visibility": null,
            "width": null
          }
        },
        "238e97a8a8ce4f729a534ebe011d06f7": {
          "model_module": "@jupyter-widgets/controls",
          "model_name": "ProgressStyleModel",
          "model_module_version": "1.5.0",
          "state": {
            "_model_module": "@jupyter-widgets/controls",
            "_model_module_version": "1.5.0",
            "_model_name": "ProgressStyleModel",
            "_view_count": null,
            "_view_module": "@jupyter-widgets/base",
            "_view_module_version": "1.2.0",
            "_view_name": "StyleView",
            "bar_color": null,
            "description_width": ""
          }
        },
        "8ef0d39cbcc94102a18f49bbf8bb759e": {
          "model_module": "@jupyter-widgets/base",
          "model_name": "LayoutModel",
          "model_module_version": "1.2.0",
          "state": {
            "_model_module": "@jupyter-widgets/base",
            "_model_module_version": "1.2.0",
            "_model_name": "LayoutModel",
            "_view_count": null,
            "_view_module": "@jupyter-widgets/base",
            "_view_module_version": "1.2.0",
            "_view_name": "LayoutView",
            "align_content": null,
            "align_items": null,
            "align_self": null,
            "border": null,
            "bottom": null,
            "display": null,
            "flex": null,
            "flex_flow": null,
            "grid_area": null,
            "grid_auto_columns": null,
            "grid_auto_flow": null,
            "grid_auto_rows": null,
            "grid_column": null,
            "grid_gap": null,
            "grid_row": null,
            "grid_template_areas": null,
            "grid_template_columns": null,
            "grid_template_rows": null,
            "height": null,
            "justify_content": null,
            "justify_items": null,
            "left": null,
            "margin": null,
            "max_height": null,
            "max_width": null,
            "min_height": null,
            "min_width": null,
            "object_fit": null,
            "object_position": null,
            "order": null,
            "overflow": null,
            "overflow_x": null,
            "overflow_y": null,
            "padding": null,
            "right": null,
            "top": null,
            "visibility": null,
            "width": null
          }
        },
        "2d2231fe3a87443ea6c377b67be5c38a": {
          "model_module": "@jupyter-widgets/controls",
          "model_name": "DescriptionStyleModel",
          "model_module_version": "1.5.0",
          "state": {
            "_model_module": "@jupyter-widgets/controls",
            "_model_module_version": "1.5.0",
            "_model_name": "DescriptionStyleModel",
            "_view_count": null,
            "_view_module": "@jupyter-widgets/base",
            "_view_module_version": "1.2.0",
            "_view_name": "StyleView",
            "description_width": ""
          }
        },
        "374f2bc204f4436c8e205ce8fe4b4a44": {
          "model_module": "@jupyter-widgets/controls",
          "model_name": "HBoxModel",
          "model_module_version": "1.5.0",
          "state": {
            "_dom_classes": [],
            "_model_module": "@jupyter-widgets/controls",
            "_model_module_version": "1.5.0",
            "_model_name": "HBoxModel",
            "_view_count": null,
            "_view_module": "@jupyter-widgets/controls",
            "_view_module_version": "1.5.0",
            "_view_name": "HBoxView",
            "box_style": "",
            "children": [
              "IPY_MODEL_f52dfa07101c47c1bea4965c86dcffe9",
              "IPY_MODEL_3b825d46e39a4c3bab3ffb5a84540c93",
              "IPY_MODEL_6e8d05b1dfd84d4f89997ba3651b7c34"
            ],
            "layout": "IPY_MODEL_aa41aa4efa07477ba5bafe060785a2a5"
          }
        },
        "f52dfa07101c47c1bea4965c86dcffe9": {
          "model_module": "@jupyter-widgets/controls",
          "model_name": "HTMLModel",
          "model_module_version": "1.5.0",
          "state": {
            "_dom_classes": [],
            "_model_module": "@jupyter-widgets/controls",
            "_model_module_version": "1.5.0",
            "_model_name": "HTMLModel",
            "_view_count": null,
            "_view_module": "@jupyter-widgets/controls",
            "_view_module_version": "1.5.0",
            "_view_name": "HTMLView",
            "description": "",
            "description_tooltip": null,
            "layout": "IPY_MODEL_7863b55ffde7440abc0963ea11bd0b3a",
            "placeholder": "​",
            "style": "IPY_MODEL_1357d53db28b4b90b3f7eaa0b85ab386",
            "value": "100%"
          }
        },
        "3b825d46e39a4c3bab3ffb5a84540c93": {
          "model_module": "@jupyter-widgets/controls",
          "model_name": "FloatProgressModel",
          "model_module_version": "1.5.0",
          "state": {
            "_dom_classes": [],
            "_model_module": "@jupyter-widgets/controls",
            "_model_module_version": "1.5.0",
            "_model_name": "FloatProgressModel",
            "_view_count": null,
            "_view_module": "@jupyter-widgets/controls",
            "_view_module_version": "1.5.0",
            "_view_name": "ProgressView",
            "bar_style": "success",
            "description": "",
            "description_tooltip": null,
            "layout": "IPY_MODEL_b71196043189410ba27a24a3e3f7c225",
            "max": 1000,
            "min": 0,
            "orientation": "horizontal",
            "style": "IPY_MODEL_7deb65fdabfe405eae974ccf5013afba",
            "value": 1000
          }
        },
        "6e8d05b1dfd84d4f89997ba3651b7c34": {
          "model_module": "@jupyter-widgets/controls",
          "model_name": "HTMLModel",
          "model_module_version": "1.5.0",
          "state": {
            "_dom_classes": [],
            "_model_module": "@jupyter-widgets/controls",
            "_model_module_version": "1.5.0",
            "_model_name": "HTMLModel",
            "_view_count": null,
            "_view_module": "@jupyter-widgets/controls",
            "_view_module_version": "1.5.0",
            "_view_name": "HTMLView",
            "description": "",
            "description_tooltip": null,
            "layout": "IPY_MODEL_fbd82007fabc4bc691cadb518654f5a6",
            "placeholder": "​",
            "style": "IPY_MODEL_2adf5a2f130e493eb5ab4960f12d56e0",
            "value": " 1000/1000 [00:01&lt;00:00, 1821.70it/s]"
          }
        },
        "aa41aa4efa07477ba5bafe060785a2a5": {
          "model_module": "@jupyter-widgets/base",
          "model_name": "LayoutModel",
          "model_module_version": "1.2.0",
          "state": {
            "_model_module": "@jupyter-widgets/base",
            "_model_module_version": "1.2.0",
            "_model_name": "LayoutModel",
            "_view_count": null,
            "_view_module": "@jupyter-widgets/base",
            "_view_module_version": "1.2.0",
            "_view_name": "LayoutView",
            "align_content": null,
            "align_items": null,
            "align_self": null,
            "border": null,
            "bottom": null,
            "display": null,
            "flex": null,
            "flex_flow": null,
            "grid_area": null,
            "grid_auto_columns": null,
            "grid_auto_flow": null,
            "grid_auto_rows": null,
            "grid_column": null,
            "grid_gap": null,
            "grid_row": null,
            "grid_template_areas": null,
            "grid_template_columns": null,
            "grid_template_rows": null,
            "height": null,
            "justify_content": null,
            "justify_items": null,
            "left": null,
            "margin": null,
            "max_height": null,
            "max_width": null,
            "min_height": null,
            "min_width": null,
            "object_fit": null,
            "object_position": null,
            "order": null,
            "overflow": null,
            "overflow_x": null,
            "overflow_y": null,
            "padding": null,
            "right": null,
            "top": null,
            "visibility": null,
            "width": null
          }
        },
        "7863b55ffde7440abc0963ea11bd0b3a": {
          "model_module": "@jupyter-widgets/base",
          "model_name": "LayoutModel",
          "model_module_version": "1.2.0",
          "state": {
            "_model_module": "@jupyter-widgets/base",
            "_model_module_version": "1.2.0",
            "_model_name": "LayoutModel",
            "_view_count": null,
            "_view_module": "@jupyter-widgets/base",
            "_view_module_version": "1.2.0",
            "_view_name": "LayoutView",
            "align_content": null,
            "align_items": null,
            "align_self": null,
            "border": null,
            "bottom": null,
            "display": null,
            "flex": null,
            "flex_flow": null,
            "grid_area": null,
            "grid_auto_columns": null,
            "grid_auto_flow": null,
            "grid_auto_rows": null,
            "grid_column": null,
            "grid_gap": null,
            "grid_row": null,
            "grid_template_areas": null,
            "grid_template_columns": null,
            "grid_template_rows": null,
            "height": null,
            "justify_content": null,
            "justify_items": null,
            "left": null,
            "margin": null,
            "max_height": null,
            "max_width": null,
            "min_height": null,
            "min_width": null,
            "object_fit": null,
            "object_position": null,
            "order": null,
            "overflow": null,
            "overflow_x": null,
            "overflow_y": null,
            "padding": null,
            "right": null,
            "top": null,
            "visibility": null,
            "width": null
          }
        },
        "1357d53db28b4b90b3f7eaa0b85ab386": {
          "model_module": "@jupyter-widgets/controls",
          "model_name": "DescriptionStyleModel",
          "model_module_version": "1.5.0",
          "state": {
            "_model_module": "@jupyter-widgets/controls",
            "_model_module_version": "1.5.0",
            "_model_name": "DescriptionStyleModel",
            "_view_count": null,
            "_view_module": "@jupyter-widgets/base",
            "_view_module_version": "1.2.0",
            "_view_name": "StyleView",
            "description_width": ""
          }
        },
        "b71196043189410ba27a24a3e3f7c225": {
          "model_module": "@jupyter-widgets/base",
          "model_name": "LayoutModel",
          "model_module_version": "1.2.0",
          "state": {
            "_model_module": "@jupyter-widgets/base",
            "_model_module_version": "1.2.0",
            "_model_name": "LayoutModel",
            "_view_count": null,
            "_view_module": "@jupyter-widgets/base",
            "_view_module_version": "1.2.0",
            "_view_name": "LayoutView",
            "align_content": null,
            "align_items": null,
            "align_self": null,
            "border": null,
            "bottom": null,
            "display": null,
            "flex": null,
            "flex_flow": null,
            "grid_area": null,
            "grid_auto_columns": null,
            "grid_auto_flow": null,
            "grid_auto_rows": null,
            "grid_column": null,
            "grid_gap": null,
            "grid_row": null,
            "grid_template_areas": null,
            "grid_template_columns": null,
            "grid_template_rows": null,
            "height": null,
            "justify_content": null,
            "justify_items": null,
            "left": null,
            "margin": null,
            "max_height": null,
            "max_width": null,
            "min_height": null,
            "min_width": null,
            "object_fit": null,
            "object_position": null,
            "order": null,
            "overflow": null,
            "overflow_x": null,
            "overflow_y": null,
            "padding": null,
            "right": null,
            "top": null,
            "visibility": null,
            "width": null
          }
        },
        "7deb65fdabfe405eae974ccf5013afba": {
          "model_module": "@jupyter-widgets/controls",
          "model_name": "ProgressStyleModel",
          "model_module_version": "1.5.0",
          "state": {
            "_model_module": "@jupyter-widgets/controls",
            "_model_module_version": "1.5.0",
            "_model_name": "ProgressStyleModel",
            "_view_count": null,
            "_view_module": "@jupyter-widgets/base",
            "_view_module_version": "1.2.0",
            "_view_name": "StyleView",
            "bar_color": null,
            "description_width": ""
          }
        },
        "fbd82007fabc4bc691cadb518654f5a6": {
          "model_module": "@jupyter-widgets/base",
          "model_name": "LayoutModel",
          "model_module_version": "1.2.0",
          "state": {
            "_model_module": "@jupyter-widgets/base",
            "_model_module_version": "1.2.0",
            "_model_name": "LayoutModel",
            "_view_count": null,
            "_view_module": "@jupyter-widgets/base",
            "_view_module_version": "1.2.0",
            "_view_name": "LayoutView",
            "align_content": null,
            "align_items": null,
            "align_self": null,
            "border": null,
            "bottom": null,
            "display": null,
            "flex": null,
            "flex_flow": null,
            "grid_area": null,
            "grid_auto_columns": null,
            "grid_auto_flow": null,
            "grid_auto_rows": null,
            "grid_column": null,
            "grid_gap": null,
            "grid_row": null,
            "grid_template_areas": null,
            "grid_template_columns": null,
            "grid_template_rows": null,
            "height": null,
            "justify_content": null,
            "justify_items": null,
            "left": null,
            "margin": null,
            "max_height": null,
            "max_width": null,
            "min_height": null,
            "min_width": null,
            "object_fit": null,
            "object_position": null,
            "order": null,
            "overflow": null,
            "overflow_x": null,
            "overflow_y": null,
            "padding": null,
            "right": null,
            "top": null,
            "visibility": null,
            "width": null
          }
        },
        "2adf5a2f130e493eb5ab4960f12d56e0": {
          "model_module": "@jupyter-widgets/controls",
          "model_name": "DescriptionStyleModel",
          "model_module_version": "1.5.0",
          "state": {
            "_model_module": "@jupyter-widgets/controls",
            "_model_module_version": "1.5.0",
            "_model_name": "DescriptionStyleModel",
            "_view_count": null,
            "_view_module": "@jupyter-widgets/base",
            "_view_module_version": "1.2.0",
            "_view_name": "StyleView",
            "description_width": ""
          }
        },
        "235c9a6831e547a6a83a2421c4040e38": {
          "model_module": "@jupyter-widgets/controls",
          "model_name": "HBoxModel",
          "model_module_version": "1.5.0",
          "state": {
            "_dom_classes": [],
            "_model_module": "@jupyter-widgets/controls",
            "_model_module_version": "1.5.0",
            "_model_name": "HBoxModel",
            "_view_count": null,
            "_view_module": "@jupyter-widgets/controls",
            "_view_module_version": "1.5.0",
            "_view_name": "HBoxView",
            "box_style": "",
            "children": [
              "IPY_MODEL_79c93505ed6d44e8b401bb97771ca397",
              "IPY_MODEL_5eca3d7dd6f743acb77be31487d98fe5",
              "IPY_MODEL_3371b24639914ce3aabb71c617061ecd"
            ],
            "layout": "IPY_MODEL_af4ec2ad4e25478c98b312eb223c4607"
          }
        },
        "79c93505ed6d44e8b401bb97771ca397": {
          "model_module": "@jupyter-widgets/controls",
          "model_name": "HTMLModel",
          "model_module_version": "1.5.0",
          "state": {
            "_dom_classes": [],
            "_model_module": "@jupyter-widgets/controls",
            "_model_module_version": "1.5.0",
            "_model_name": "HTMLModel",
            "_view_count": null,
            "_view_module": "@jupyter-widgets/controls",
            "_view_module_version": "1.5.0",
            "_view_name": "HTMLView",
            "description": "",
            "description_tooltip": null,
            "layout": "IPY_MODEL_e511277a1042405e8f7f2f7b59ca4d44",
            "placeholder": "​",
            "style": "IPY_MODEL_798d5f926f1d4b92b8f1cd3c1102ddbd",
            "value": "100%"
          }
        },
        "5eca3d7dd6f743acb77be31487d98fe5": {
          "model_module": "@jupyter-widgets/controls",
          "model_name": "FloatProgressModel",
          "model_module_version": "1.5.0",
          "state": {
            "_dom_classes": [],
            "_model_module": "@jupyter-widgets/controls",
            "_model_module_version": "1.5.0",
            "_model_name": "FloatProgressModel",
            "_view_count": null,
            "_view_module": "@jupyter-widgets/controls",
            "_view_module_version": "1.5.0",
            "_view_name": "ProgressView",
            "bar_style": "success",
            "description": "",
            "description_tooltip": null,
            "layout": "IPY_MODEL_e592ee3e7fad41bc89a9274bf42b7b33",
            "max": 1000,
            "min": 0,
            "orientation": "horizontal",
            "style": "IPY_MODEL_ea9f3dd6b9fe416d95d5f1c2bb505b38",
            "value": 1000
          }
        },
        "3371b24639914ce3aabb71c617061ecd": {
          "model_module": "@jupyter-widgets/controls",
          "model_name": "HTMLModel",
          "model_module_version": "1.5.0",
          "state": {
            "_dom_classes": [],
            "_model_module": "@jupyter-widgets/controls",
            "_model_module_version": "1.5.0",
            "_model_name": "HTMLModel",
            "_view_count": null,
            "_view_module": "@jupyter-widgets/controls",
            "_view_module_version": "1.5.0",
            "_view_name": "HTMLView",
            "description": "",
            "description_tooltip": null,
            "layout": "IPY_MODEL_f5f627cda1d34f7a9e4267691044ca4a",
            "placeholder": "​",
            "style": "IPY_MODEL_8589f3433b0744ef94bfcd4b89f0355c",
            "value": " 1000/1000 [00:00&lt;00:00, 2454.27it/s]"
          }
        },
        "af4ec2ad4e25478c98b312eb223c4607": {
          "model_module": "@jupyter-widgets/base",
          "model_name": "LayoutModel",
          "model_module_version": "1.2.0",
          "state": {
            "_model_module": "@jupyter-widgets/base",
            "_model_module_version": "1.2.0",
            "_model_name": "LayoutModel",
            "_view_count": null,
            "_view_module": "@jupyter-widgets/base",
            "_view_module_version": "1.2.0",
            "_view_name": "LayoutView",
            "align_content": null,
            "align_items": null,
            "align_self": null,
            "border": null,
            "bottom": null,
            "display": null,
            "flex": null,
            "flex_flow": null,
            "grid_area": null,
            "grid_auto_columns": null,
            "grid_auto_flow": null,
            "grid_auto_rows": null,
            "grid_column": null,
            "grid_gap": null,
            "grid_row": null,
            "grid_template_areas": null,
            "grid_template_columns": null,
            "grid_template_rows": null,
            "height": null,
            "justify_content": null,
            "justify_items": null,
            "left": null,
            "margin": null,
            "max_height": null,
            "max_width": null,
            "min_height": null,
            "min_width": null,
            "object_fit": null,
            "object_position": null,
            "order": null,
            "overflow": null,
            "overflow_x": null,
            "overflow_y": null,
            "padding": null,
            "right": null,
            "top": null,
            "visibility": null,
            "width": null
          }
        },
        "e511277a1042405e8f7f2f7b59ca4d44": {
          "model_module": "@jupyter-widgets/base",
          "model_name": "LayoutModel",
          "model_module_version": "1.2.0",
          "state": {
            "_model_module": "@jupyter-widgets/base",
            "_model_module_version": "1.2.0",
            "_model_name": "LayoutModel",
            "_view_count": null,
            "_view_module": "@jupyter-widgets/base",
            "_view_module_version": "1.2.0",
            "_view_name": "LayoutView",
            "align_content": null,
            "align_items": null,
            "align_self": null,
            "border": null,
            "bottom": null,
            "display": null,
            "flex": null,
            "flex_flow": null,
            "grid_area": null,
            "grid_auto_columns": null,
            "grid_auto_flow": null,
            "grid_auto_rows": null,
            "grid_column": null,
            "grid_gap": null,
            "grid_row": null,
            "grid_template_areas": null,
            "grid_template_columns": null,
            "grid_template_rows": null,
            "height": null,
            "justify_content": null,
            "justify_items": null,
            "left": null,
            "margin": null,
            "max_height": null,
            "max_width": null,
            "min_height": null,
            "min_width": null,
            "object_fit": null,
            "object_position": null,
            "order": null,
            "overflow": null,
            "overflow_x": null,
            "overflow_y": null,
            "padding": null,
            "right": null,
            "top": null,
            "visibility": null,
            "width": null
          }
        },
        "798d5f926f1d4b92b8f1cd3c1102ddbd": {
          "model_module": "@jupyter-widgets/controls",
          "model_name": "DescriptionStyleModel",
          "model_module_version": "1.5.0",
          "state": {
            "_model_module": "@jupyter-widgets/controls",
            "_model_module_version": "1.5.0",
            "_model_name": "DescriptionStyleModel",
            "_view_count": null,
            "_view_module": "@jupyter-widgets/base",
            "_view_module_version": "1.2.0",
            "_view_name": "StyleView",
            "description_width": ""
          }
        },
        "e592ee3e7fad41bc89a9274bf42b7b33": {
          "model_module": "@jupyter-widgets/base",
          "model_name": "LayoutModel",
          "model_module_version": "1.2.0",
          "state": {
            "_model_module": "@jupyter-widgets/base",
            "_model_module_version": "1.2.0",
            "_model_name": "LayoutModel",
            "_view_count": null,
            "_view_module": "@jupyter-widgets/base",
            "_view_module_version": "1.2.0",
            "_view_name": "LayoutView",
            "align_content": null,
            "align_items": null,
            "align_self": null,
            "border": null,
            "bottom": null,
            "display": null,
            "flex": null,
            "flex_flow": null,
            "grid_area": null,
            "grid_auto_columns": null,
            "grid_auto_flow": null,
            "grid_auto_rows": null,
            "grid_column": null,
            "grid_gap": null,
            "grid_row": null,
            "grid_template_areas": null,
            "grid_template_columns": null,
            "grid_template_rows": null,
            "height": null,
            "justify_content": null,
            "justify_items": null,
            "left": null,
            "margin": null,
            "max_height": null,
            "max_width": null,
            "min_height": null,
            "min_width": null,
            "object_fit": null,
            "object_position": null,
            "order": null,
            "overflow": null,
            "overflow_x": null,
            "overflow_y": null,
            "padding": null,
            "right": null,
            "top": null,
            "visibility": null,
            "width": null
          }
        },
        "ea9f3dd6b9fe416d95d5f1c2bb505b38": {
          "model_module": "@jupyter-widgets/controls",
          "model_name": "ProgressStyleModel",
          "model_module_version": "1.5.0",
          "state": {
            "_model_module": "@jupyter-widgets/controls",
            "_model_module_version": "1.5.0",
            "_model_name": "ProgressStyleModel",
            "_view_count": null,
            "_view_module": "@jupyter-widgets/base",
            "_view_module_version": "1.2.0",
            "_view_name": "StyleView",
            "bar_color": null,
            "description_width": ""
          }
        },
        "f5f627cda1d34f7a9e4267691044ca4a": {
          "model_module": "@jupyter-widgets/base",
          "model_name": "LayoutModel",
          "model_module_version": "1.2.0",
          "state": {
            "_model_module": "@jupyter-widgets/base",
            "_model_module_version": "1.2.0",
            "_model_name": "LayoutModel",
            "_view_count": null,
            "_view_module": "@jupyter-widgets/base",
            "_view_module_version": "1.2.0",
            "_view_name": "LayoutView",
            "align_content": null,
            "align_items": null,
            "align_self": null,
            "border": null,
            "bottom": null,
            "display": null,
            "flex": null,
            "flex_flow": null,
            "grid_area": null,
            "grid_auto_columns": null,
            "grid_auto_flow": null,
            "grid_auto_rows": null,
            "grid_column": null,
            "grid_gap": null,
            "grid_row": null,
            "grid_template_areas": null,
            "grid_template_columns": null,
            "grid_template_rows": null,
            "height": null,
            "justify_content": null,
            "justify_items": null,
            "left": null,
            "margin": null,
            "max_height": null,
            "max_width": null,
            "min_height": null,
            "min_width": null,
            "object_fit": null,
            "object_position": null,
            "order": null,
            "overflow": null,
            "overflow_x": null,
            "overflow_y": null,
            "padding": null,
            "right": null,
            "top": null,
            "visibility": null,
            "width": null
          }
        },
        "8589f3433b0744ef94bfcd4b89f0355c": {
          "model_module": "@jupyter-widgets/controls",
          "model_name": "DescriptionStyleModel",
          "model_module_version": "1.5.0",
          "state": {
            "_model_module": "@jupyter-widgets/controls",
            "_model_module_version": "1.5.0",
            "_model_name": "DescriptionStyleModel",
            "_view_count": null,
            "_view_module": "@jupyter-widgets/base",
            "_view_module_version": "1.2.0",
            "_view_name": "StyleView",
            "description_width": ""
          }
        },
        "b21adc384a7b4f568e8f07d7a745c40b": {
          "model_module": "@jupyter-widgets/controls",
          "model_name": "HBoxModel",
          "model_module_version": "1.5.0",
          "state": {
            "_dom_classes": [],
            "_model_module": "@jupyter-widgets/controls",
            "_model_module_version": "1.5.0",
            "_model_name": "HBoxModel",
            "_view_count": null,
            "_view_module": "@jupyter-widgets/controls",
            "_view_module_version": "1.5.0",
            "_view_name": "HBoxView",
            "box_style": "",
            "children": [
              "IPY_MODEL_8ea7d4423d15486b9097045b4f688846",
              "IPY_MODEL_41c742ee44ed46469e0a24f53313dc4c",
              "IPY_MODEL_ff28d3b70f0b4991b3a3bede0ab0e82a"
            ],
            "layout": "IPY_MODEL_67b30c978b3a430898470d6633458b41"
          }
        },
        "8ea7d4423d15486b9097045b4f688846": {
          "model_module": "@jupyter-widgets/controls",
          "model_name": "HTMLModel",
          "model_module_version": "1.5.0",
          "state": {
            "_dom_classes": [],
            "_model_module": "@jupyter-widgets/controls",
            "_model_module_version": "1.5.0",
            "_model_name": "HTMLModel",
            "_view_count": null,
            "_view_module": "@jupyter-widgets/controls",
            "_view_module_version": "1.5.0",
            "_view_name": "HTMLView",
            "description": "",
            "description_tooltip": null,
            "layout": "IPY_MODEL_cec26b8f02df420d8400fa46a1809d4b",
            "placeholder": "​",
            "style": "IPY_MODEL_8d2926597e7149ac8f94d882327fc913",
            "value": "100%"
          }
        },
        "41c742ee44ed46469e0a24f53313dc4c": {
          "model_module": "@jupyter-widgets/controls",
          "model_name": "FloatProgressModel",
          "model_module_version": "1.5.0",
          "state": {
            "_dom_classes": [],
            "_model_module": "@jupyter-widgets/controls",
            "_model_module_version": "1.5.0",
            "_model_name": "FloatProgressModel",
            "_view_count": null,
            "_view_module": "@jupyter-widgets/controls",
            "_view_module_version": "1.5.0",
            "_view_name": "ProgressView",
            "bar_style": "success",
            "description": "",
            "description_tooltip": null,
            "layout": "IPY_MODEL_5268b210687141818cbc18731d40fb63",
            "max": 1000,
            "min": 0,
            "orientation": "horizontal",
            "style": "IPY_MODEL_c5d36ab3401b4e80b0a4655b34a6fdd8",
            "value": 1000
          }
        },
        "ff28d3b70f0b4991b3a3bede0ab0e82a": {
          "model_module": "@jupyter-widgets/controls",
          "model_name": "HTMLModel",
          "model_module_version": "1.5.0",
          "state": {
            "_dom_classes": [],
            "_model_module": "@jupyter-widgets/controls",
            "_model_module_version": "1.5.0",
            "_model_name": "HTMLModel",
            "_view_count": null,
            "_view_module": "@jupyter-widgets/controls",
            "_view_module_version": "1.5.0",
            "_view_name": "HTMLView",
            "description": "",
            "description_tooltip": null,
            "layout": "IPY_MODEL_f78408fab93244f3b0a7177a5cab54ea",
            "placeholder": "​",
            "style": "IPY_MODEL_74910eddda0241268423cadc7b9d7d1a",
            "value": " 1000/1000 [00:00&lt;00:00, 2478.15it/s]"
          }
        },
        "67b30c978b3a430898470d6633458b41": {
          "model_module": "@jupyter-widgets/base",
          "model_name": "LayoutModel",
          "model_module_version": "1.2.0",
          "state": {
            "_model_module": "@jupyter-widgets/base",
            "_model_module_version": "1.2.0",
            "_model_name": "LayoutModel",
            "_view_count": null,
            "_view_module": "@jupyter-widgets/base",
            "_view_module_version": "1.2.0",
            "_view_name": "LayoutView",
            "align_content": null,
            "align_items": null,
            "align_self": null,
            "border": null,
            "bottom": null,
            "display": null,
            "flex": null,
            "flex_flow": null,
            "grid_area": null,
            "grid_auto_columns": null,
            "grid_auto_flow": null,
            "grid_auto_rows": null,
            "grid_column": null,
            "grid_gap": null,
            "grid_row": null,
            "grid_template_areas": null,
            "grid_template_columns": null,
            "grid_template_rows": null,
            "height": null,
            "justify_content": null,
            "justify_items": null,
            "left": null,
            "margin": null,
            "max_height": null,
            "max_width": null,
            "min_height": null,
            "min_width": null,
            "object_fit": null,
            "object_position": null,
            "order": null,
            "overflow": null,
            "overflow_x": null,
            "overflow_y": null,
            "padding": null,
            "right": null,
            "top": null,
            "visibility": null,
            "width": null
          }
        },
        "cec26b8f02df420d8400fa46a1809d4b": {
          "model_module": "@jupyter-widgets/base",
          "model_name": "LayoutModel",
          "model_module_version": "1.2.0",
          "state": {
            "_model_module": "@jupyter-widgets/base",
            "_model_module_version": "1.2.0",
            "_model_name": "LayoutModel",
            "_view_count": null,
            "_view_module": "@jupyter-widgets/base",
            "_view_module_version": "1.2.0",
            "_view_name": "LayoutView",
            "align_content": null,
            "align_items": null,
            "align_self": null,
            "border": null,
            "bottom": null,
            "display": null,
            "flex": null,
            "flex_flow": null,
            "grid_area": null,
            "grid_auto_columns": null,
            "grid_auto_flow": null,
            "grid_auto_rows": null,
            "grid_column": null,
            "grid_gap": null,
            "grid_row": null,
            "grid_template_areas": null,
            "grid_template_columns": null,
            "grid_template_rows": null,
            "height": null,
            "justify_content": null,
            "justify_items": null,
            "left": null,
            "margin": null,
            "max_height": null,
            "max_width": null,
            "min_height": null,
            "min_width": null,
            "object_fit": null,
            "object_position": null,
            "order": null,
            "overflow": null,
            "overflow_x": null,
            "overflow_y": null,
            "padding": null,
            "right": null,
            "top": null,
            "visibility": null,
            "width": null
          }
        },
        "8d2926597e7149ac8f94d882327fc913": {
          "model_module": "@jupyter-widgets/controls",
          "model_name": "DescriptionStyleModel",
          "model_module_version": "1.5.0",
          "state": {
            "_model_module": "@jupyter-widgets/controls",
            "_model_module_version": "1.5.0",
            "_model_name": "DescriptionStyleModel",
            "_view_count": null,
            "_view_module": "@jupyter-widgets/base",
            "_view_module_version": "1.2.0",
            "_view_name": "StyleView",
            "description_width": ""
          }
        },
        "5268b210687141818cbc18731d40fb63": {
          "model_module": "@jupyter-widgets/base",
          "model_name": "LayoutModel",
          "model_module_version": "1.2.0",
          "state": {
            "_model_module": "@jupyter-widgets/base",
            "_model_module_version": "1.2.0",
            "_model_name": "LayoutModel",
            "_view_count": null,
            "_view_module": "@jupyter-widgets/base",
            "_view_module_version": "1.2.0",
            "_view_name": "LayoutView",
            "align_content": null,
            "align_items": null,
            "align_self": null,
            "border": null,
            "bottom": null,
            "display": null,
            "flex": null,
            "flex_flow": null,
            "grid_area": null,
            "grid_auto_columns": null,
            "grid_auto_flow": null,
            "grid_auto_rows": null,
            "grid_column": null,
            "grid_gap": null,
            "grid_row": null,
            "grid_template_areas": null,
            "grid_template_columns": null,
            "grid_template_rows": null,
            "height": null,
            "justify_content": null,
            "justify_items": null,
            "left": null,
            "margin": null,
            "max_height": null,
            "max_width": null,
            "min_height": null,
            "min_width": null,
            "object_fit": null,
            "object_position": null,
            "order": null,
            "overflow": null,
            "overflow_x": null,
            "overflow_y": null,
            "padding": null,
            "right": null,
            "top": null,
            "visibility": null,
            "width": null
          }
        },
        "c5d36ab3401b4e80b0a4655b34a6fdd8": {
          "model_module": "@jupyter-widgets/controls",
          "model_name": "ProgressStyleModel",
          "model_module_version": "1.5.0",
          "state": {
            "_model_module": "@jupyter-widgets/controls",
            "_model_module_version": "1.5.0",
            "_model_name": "ProgressStyleModel",
            "_view_count": null,
            "_view_module": "@jupyter-widgets/base",
            "_view_module_version": "1.2.0",
            "_view_name": "StyleView",
            "bar_color": null,
            "description_width": ""
          }
        },
        "f78408fab93244f3b0a7177a5cab54ea": {
          "model_module": "@jupyter-widgets/base",
          "model_name": "LayoutModel",
          "model_module_version": "1.2.0",
          "state": {
            "_model_module": "@jupyter-widgets/base",
            "_model_module_version": "1.2.0",
            "_model_name": "LayoutModel",
            "_view_count": null,
            "_view_module": "@jupyter-widgets/base",
            "_view_module_version": "1.2.0",
            "_view_name": "LayoutView",
            "align_content": null,
            "align_items": null,
            "align_self": null,
            "border": null,
            "bottom": null,
            "display": null,
            "flex": null,
            "flex_flow": null,
            "grid_area": null,
            "grid_auto_columns": null,
            "grid_auto_flow": null,
            "grid_auto_rows": null,
            "grid_column": null,
            "grid_gap": null,
            "grid_row": null,
            "grid_template_areas": null,
            "grid_template_columns": null,
            "grid_template_rows": null,
            "height": null,
            "justify_content": null,
            "justify_items": null,
            "left": null,
            "margin": null,
            "max_height": null,
            "max_width": null,
            "min_height": null,
            "min_width": null,
            "object_fit": null,
            "object_position": null,
            "order": null,
            "overflow": null,
            "overflow_x": null,
            "overflow_y": null,
            "padding": null,
            "right": null,
            "top": null,
            "visibility": null,
            "width": null
          }
        },
        "74910eddda0241268423cadc7b9d7d1a": {
          "model_module": "@jupyter-widgets/controls",
          "model_name": "DescriptionStyleModel",
          "model_module_version": "1.5.0",
          "state": {
            "_model_module": "@jupyter-widgets/controls",
            "_model_module_version": "1.5.0",
            "_model_name": "DescriptionStyleModel",
            "_view_count": null,
            "_view_module": "@jupyter-widgets/base",
            "_view_module_version": "1.2.0",
            "_view_name": "StyleView",
            "description_width": ""
          }
        },
        "83ac06e37545418d8b7be320367c1c87": {
          "model_module": "@jupyter-widgets/controls",
          "model_name": "HBoxModel",
          "model_module_version": "1.5.0",
          "state": {
            "_dom_classes": [],
            "_model_module": "@jupyter-widgets/controls",
            "_model_module_version": "1.5.0",
            "_model_name": "HBoxModel",
            "_view_count": null,
            "_view_module": "@jupyter-widgets/controls",
            "_view_module_version": "1.5.0",
            "_view_name": "HBoxView",
            "box_style": "",
            "children": [
              "IPY_MODEL_0ec8c11db331439cbbc2caef94e2d138",
              "IPY_MODEL_6756d214e69a4b70bcc2778c35110985",
              "IPY_MODEL_29ee57e59852477eaeb1a26e00501b35"
            ],
            "layout": "IPY_MODEL_4565a1be1c65450b844beccc5893eb5c"
          }
        },
        "0ec8c11db331439cbbc2caef94e2d138": {
          "model_module": "@jupyter-widgets/controls",
          "model_name": "HTMLModel",
          "model_module_version": "1.5.0",
          "state": {
            "_dom_classes": [],
            "_model_module": "@jupyter-widgets/controls",
            "_model_module_version": "1.5.0",
            "_model_name": "HTMLModel",
            "_view_count": null,
            "_view_module": "@jupyter-widgets/controls",
            "_view_module_version": "1.5.0",
            "_view_name": "HTMLView",
            "description": "",
            "description_tooltip": null,
            "layout": "IPY_MODEL_3ee1d769b055427893b90f27620ef60c",
            "placeholder": "​",
            "style": "IPY_MODEL_fedab8cd8c4141afa7a31c7d54b37fb3",
            "value": "100%"
          }
        },
        "6756d214e69a4b70bcc2778c35110985": {
          "model_module": "@jupyter-widgets/controls",
          "model_name": "FloatProgressModel",
          "model_module_version": "1.5.0",
          "state": {
            "_dom_classes": [],
            "_model_module": "@jupyter-widgets/controls",
            "_model_module_version": "1.5.0",
            "_model_name": "FloatProgressModel",
            "_view_count": null,
            "_view_module": "@jupyter-widgets/controls",
            "_view_module_version": "1.5.0",
            "_view_name": "ProgressView",
            "bar_style": "success",
            "description": "",
            "description_tooltip": null,
            "layout": "IPY_MODEL_9f05f85150c24f8b8c0a444cae6d3c78",
            "max": 1000,
            "min": 0,
            "orientation": "horizontal",
            "style": "IPY_MODEL_1e15faebb38c40db8a4d6a1ab7903355",
            "value": 1000
          }
        },
        "29ee57e59852477eaeb1a26e00501b35": {
          "model_module": "@jupyter-widgets/controls",
          "model_name": "HTMLModel",
          "model_module_version": "1.5.0",
          "state": {
            "_dom_classes": [],
            "_model_module": "@jupyter-widgets/controls",
            "_model_module_version": "1.5.0",
            "_model_name": "HTMLModel",
            "_view_count": null,
            "_view_module": "@jupyter-widgets/controls",
            "_view_module_version": "1.5.0",
            "_view_name": "HTMLView",
            "description": "",
            "description_tooltip": null,
            "layout": "IPY_MODEL_42bad4085f8f462684a429195795c582",
            "placeholder": "​",
            "style": "IPY_MODEL_7e6b064bae5246c1987905a23130c1fd",
            "value": " 1000/1000 [00:00&lt;00:00, 2467.19it/s]"
          }
        },
        "4565a1be1c65450b844beccc5893eb5c": {
          "model_module": "@jupyter-widgets/base",
          "model_name": "LayoutModel",
          "model_module_version": "1.2.0",
          "state": {
            "_model_module": "@jupyter-widgets/base",
            "_model_module_version": "1.2.0",
            "_model_name": "LayoutModel",
            "_view_count": null,
            "_view_module": "@jupyter-widgets/base",
            "_view_module_version": "1.2.0",
            "_view_name": "LayoutView",
            "align_content": null,
            "align_items": null,
            "align_self": null,
            "border": null,
            "bottom": null,
            "display": null,
            "flex": null,
            "flex_flow": null,
            "grid_area": null,
            "grid_auto_columns": null,
            "grid_auto_flow": null,
            "grid_auto_rows": null,
            "grid_column": null,
            "grid_gap": null,
            "grid_row": null,
            "grid_template_areas": null,
            "grid_template_columns": null,
            "grid_template_rows": null,
            "height": null,
            "justify_content": null,
            "justify_items": null,
            "left": null,
            "margin": null,
            "max_height": null,
            "max_width": null,
            "min_height": null,
            "min_width": null,
            "object_fit": null,
            "object_position": null,
            "order": null,
            "overflow": null,
            "overflow_x": null,
            "overflow_y": null,
            "padding": null,
            "right": null,
            "top": null,
            "visibility": null,
            "width": null
          }
        },
        "3ee1d769b055427893b90f27620ef60c": {
          "model_module": "@jupyter-widgets/base",
          "model_name": "LayoutModel",
          "model_module_version": "1.2.0",
          "state": {
            "_model_module": "@jupyter-widgets/base",
            "_model_module_version": "1.2.0",
            "_model_name": "LayoutModel",
            "_view_count": null,
            "_view_module": "@jupyter-widgets/base",
            "_view_module_version": "1.2.0",
            "_view_name": "LayoutView",
            "align_content": null,
            "align_items": null,
            "align_self": null,
            "border": null,
            "bottom": null,
            "display": null,
            "flex": null,
            "flex_flow": null,
            "grid_area": null,
            "grid_auto_columns": null,
            "grid_auto_flow": null,
            "grid_auto_rows": null,
            "grid_column": null,
            "grid_gap": null,
            "grid_row": null,
            "grid_template_areas": null,
            "grid_template_columns": null,
            "grid_template_rows": null,
            "height": null,
            "justify_content": null,
            "justify_items": null,
            "left": null,
            "margin": null,
            "max_height": null,
            "max_width": null,
            "min_height": null,
            "min_width": null,
            "object_fit": null,
            "object_position": null,
            "order": null,
            "overflow": null,
            "overflow_x": null,
            "overflow_y": null,
            "padding": null,
            "right": null,
            "top": null,
            "visibility": null,
            "width": null
          }
        },
        "fedab8cd8c4141afa7a31c7d54b37fb3": {
          "model_module": "@jupyter-widgets/controls",
          "model_name": "DescriptionStyleModel",
          "model_module_version": "1.5.0",
          "state": {
            "_model_module": "@jupyter-widgets/controls",
            "_model_module_version": "1.5.0",
            "_model_name": "DescriptionStyleModel",
            "_view_count": null,
            "_view_module": "@jupyter-widgets/base",
            "_view_module_version": "1.2.0",
            "_view_name": "StyleView",
            "description_width": ""
          }
        },
        "9f05f85150c24f8b8c0a444cae6d3c78": {
          "model_module": "@jupyter-widgets/base",
          "model_name": "LayoutModel",
          "model_module_version": "1.2.0",
          "state": {
            "_model_module": "@jupyter-widgets/base",
            "_model_module_version": "1.2.0",
            "_model_name": "LayoutModel",
            "_view_count": null,
            "_view_module": "@jupyter-widgets/base",
            "_view_module_version": "1.2.0",
            "_view_name": "LayoutView",
            "align_content": null,
            "align_items": null,
            "align_self": null,
            "border": null,
            "bottom": null,
            "display": null,
            "flex": null,
            "flex_flow": null,
            "grid_area": null,
            "grid_auto_columns": null,
            "grid_auto_flow": null,
            "grid_auto_rows": null,
            "grid_column": null,
            "grid_gap": null,
            "grid_row": null,
            "grid_template_areas": null,
            "grid_template_columns": null,
            "grid_template_rows": null,
            "height": null,
            "justify_content": null,
            "justify_items": null,
            "left": null,
            "margin": null,
            "max_height": null,
            "max_width": null,
            "min_height": null,
            "min_width": null,
            "object_fit": null,
            "object_position": null,
            "order": null,
            "overflow": null,
            "overflow_x": null,
            "overflow_y": null,
            "padding": null,
            "right": null,
            "top": null,
            "visibility": null,
            "width": null
          }
        },
        "1e15faebb38c40db8a4d6a1ab7903355": {
          "model_module": "@jupyter-widgets/controls",
          "model_name": "ProgressStyleModel",
          "model_module_version": "1.5.0",
          "state": {
            "_model_module": "@jupyter-widgets/controls",
            "_model_module_version": "1.5.0",
            "_model_name": "ProgressStyleModel",
            "_view_count": null,
            "_view_module": "@jupyter-widgets/base",
            "_view_module_version": "1.2.0",
            "_view_name": "StyleView",
            "bar_color": null,
            "description_width": ""
          }
        },
        "42bad4085f8f462684a429195795c582": {
          "model_module": "@jupyter-widgets/base",
          "model_name": "LayoutModel",
          "model_module_version": "1.2.0",
          "state": {
            "_model_module": "@jupyter-widgets/base",
            "_model_module_version": "1.2.0",
            "_model_name": "LayoutModel",
            "_view_count": null,
            "_view_module": "@jupyter-widgets/base",
            "_view_module_version": "1.2.0",
            "_view_name": "LayoutView",
            "align_content": null,
            "align_items": null,
            "align_self": null,
            "border": null,
            "bottom": null,
            "display": null,
            "flex": null,
            "flex_flow": null,
            "grid_area": null,
            "grid_auto_columns": null,
            "grid_auto_flow": null,
            "grid_auto_rows": null,
            "grid_column": null,
            "grid_gap": null,
            "grid_row": null,
            "grid_template_areas": null,
            "grid_template_columns": null,
            "grid_template_rows": null,
            "height": null,
            "justify_content": null,
            "justify_items": null,
            "left": null,
            "margin": null,
            "max_height": null,
            "max_width": null,
            "min_height": null,
            "min_width": null,
            "object_fit": null,
            "object_position": null,
            "order": null,
            "overflow": null,
            "overflow_x": null,
            "overflow_y": null,
            "padding": null,
            "right": null,
            "top": null,
            "visibility": null,
            "width": null
          }
        },
        "7e6b064bae5246c1987905a23130c1fd": {
          "model_module": "@jupyter-widgets/controls",
          "model_name": "DescriptionStyleModel",
          "model_module_version": "1.5.0",
          "state": {
            "_model_module": "@jupyter-widgets/controls",
            "_model_module_version": "1.5.0",
            "_model_name": "DescriptionStyleModel",
            "_view_count": null,
            "_view_module": "@jupyter-widgets/base",
            "_view_module_version": "1.2.0",
            "_view_name": "StyleView",
            "description_width": ""
          }
        },
        "0b18e418db814412b169485d612d5175": {
          "model_module": "@jupyter-widgets/controls",
          "model_name": "HBoxModel",
          "model_module_version": "1.5.0",
          "state": {
            "_dom_classes": [],
            "_model_module": "@jupyter-widgets/controls",
            "_model_module_version": "1.5.0",
            "_model_name": "HBoxModel",
            "_view_count": null,
            "_view_module": "@jupyter-widgets/controls",
            "_view_module_version": "1.5.0",
            "_view_name": "HBoxView",
            "box_style": "",
            "children": [
              "IPY_MODEL_fd15c0d3014745808f5d409c9eba9d90",
              "IPY_MODEL_f69e5ef09ae34426a49bb971a30d2422",
              "IPY_MODEL_074819e9d6dc4c49a31d85992109ac61"
            ],
            "layout": "IPY_MODEL_62b6510eee43430aa82062bb36c2859a"
          }
        },
        "fd15c0d3014745808f5d409c9eba9d90": {
          "model_module": "@jupyter-widgets/controls",
          "model_name": "HTMLModel",
          "model_module_version": "1.5.0",
          "state": {
            "_dom_classes": [],
            "_model_module": "@jupyter-widgets/controls",
            "_model_module_version": "1.5.0",
            "_model_name": "HTMLModel",
            "_view_count": null,
            "_view_module": "@jupyter-widgets/controls",
            "_view_module_version": "1.5.0",
            "_view_name": "HTMLView",
            "description": "",
            "description_tooltip": null,
            "layout": "IPY_MODEL_afe93e54290d45098c37d2da1588a58f",
            "placeholder": "​",
            "style": "IPY_MODEL_ac03279ffd8142839f0f2031321a6ad7",
            "value": "100%"
          }
        },
        "f69e5ef09ae34426a49bb971a30d2422": {
          "model_module": "@jupyter-widgets/controls",
          "model_name": "FloatProgressModel",
          "model_module_version": "1.5.0",
          "state": {
            "_dom_classes": [],
            "_model_module": "@jupyter-widgets/controls",
            "_model_module_version": "1.5.0",
            "_model_name": "FloatProgressModel",
            "_view_count": null,
            "_view_module": "@jupyter-widgets/controls",
            "_view_module_version": "1.5.0",
            "_view_name": "ProgressView",
            "bar_style": "success",
            "description": "",
            "description_tooltip": null,
            "layout": "IPY_MODEL_2fb8176483924d7a8325c8ecf296af25",
            "max": 1000,
            "min": 0,
            "orientation": "horizontal",
            "style": "IPY_MODEL_c89f8da0b96e4f9a8d4066e210b8aa83",
            "value": 1000
          }
        },
        "074819e9d6dc4c49a31d85992109ac61": {
          "model_module": "@jupyter-widgets/controls",
          "model_name": "HTMLModel",
          "model_module_version": "1.5.0",
          "state": {
            "_dom_classes": [],
            "_model_module": "@jupyter-widgets/controls",
            "_model_module_version": "1.5.0",
            "_model_name": "HTMLModel",
            "_view_count": null,
            "_view_module": "@jupyter-widgets/controls",
            "_view_module_version": "1.5.0",
            "_view_name": "HTMLView",
            "description": "",
            "description_tooltip": null,
            "layout": "IPY_MODEL_f2f543f853064dbd9daff4da6425dbc6",
            "placeholder": "​",
            "style": "IPY_MODEL_5e4296be000245589173732f2f573fd5",
            "value": " 1000/1000 [00:50&lt;00:00, 18.48it/s]"
          }
        },
        "62b6510eee43430aa82062bb36c2859a": {
          "model_module": "@jupyter-widgets/base",
          "model_name": "LayoutModel",
          "model_module_version": "1.2.0",
          "state": {
            "_model_module": "@jupyter-widgets/base",
            "_model_module_version": "1.2.0",
            "_model_name": "LayoutModel",
            "_view_count": null,
            "_view_module": "@jupyter-widgets/base",
            "_view_module_version": "1.2.0",
            "_view_name": "LayoutView",
            "align_content": null,
            "align_items": null,
            "align_self": null,
            "border": null,
            "bottom": null,
            "display": null,
            "flex": null,
            "flex_flow": null,
            "grid_area": null,
            "grid_auto_columns": null,
            "grid_auto_flow": null,
            "grid_auto_rows": null,
            "grid_column": null,
            "grid_gap": null,
            "grid_row": null,
            "grid_template_areas": null,
            "grid_template_columns": null,
            "grid_template_rows": null,
            "height": null,
            "justify_content": null,
            "justify_items": null,
            "left": null,
            "margin": null,
            "max_height": null,
            "max_width": null,
            "min_height": null,
            "min_width": null,
            "object_fit": null,
            "object_position": null,
            "order": null,
            "overflow": null,
            "overflow_x": null,
            "overflow_y": null,
            "padding": null,
            "right": null,
            "top": null,
            "visibility": null,
            "width": null
          }
        },
        "afe93e54290d45098c37d2da1588a58f": {
          "model_module": "@jupyter-widgets/base",
          "model_name": "LayoutModel",
          "model_module_version": "1.2.0",
          "state": {
            "_model_module": "@jupyter-widgets/base",
            "_model_module_version": "1.2.0",
            "_model_name": "LayoutModel",
            "_view_count": null,
            "_view_module": "@jupyter-widgets/base",
            "_view_module_version": "1.2.0",
            "_view_name": "LayoutView",
            "align_content": null,
            "align_items": null,
            "align_self": null,
            "border": null,
            "bottom": null,
            "display": null,
            "flex": null,
            "flex_flow": null,
            "grid_area": null,
            "grid_auto_columns": null,
            "grid_auto_flow": null,
            "grid_auto_rows": null,
            "grid_column": null,
            "grid_gap": null,
            "grid_row": null,
            "grid_template_areas": null,
            "grid_template_columns": null,
            "grid_template_rows": null,
            "height": null,
            "justify_content": null,
            "justify_items": null,
            "left": null,
            "margin": null,
            "max_height": null,
            "max_width": null,
            "min_height": null,
            "min_width": null,
            "object_fit": null,
            "object_position": null,
            "order": null,
            "overflow": null,
            "overflow_x": null,
            "overflow_y": null,
            "padding": null,
            "right": null,
            "top": null,
            "visibility": null,
            "width": null
          }
        },
        "ac03279ffd8142839f0f2031321a6ad7": {
          "model_module": "@jupyter-widgets/controls",
          "model_name": "DescriptionStyleModel",
          "model_module_version": "1.5.0",
          "state": {
            "_model_module": "@jupyter-widgets/controls",
            "_model_module_version": "1.5.0",
            "_model_name": "DescriptionStyleModel",
            "_view_count": null,
            "_view_module": "@jupyter-widgets/base",
            "_view_module_version": "1.2.0",
            "_view_name": "StyleView",
            "description_width": ""
          }
        },
        "2fb8176483924d7a8325c8ecf296af25": {
          "model_module": "@jupyter-widgets/base",
          "model_name": "LayoutModel",
          "model_module_version": "1.2.0",
          "state": {
            "_model_module": "@jupyter-widgets/base",
            "_model_module_version": "1.2.0",
            "_model_name": "LayoutModel",
            "_view_count": null,
            "_view_module": "@jupyter-widgets/base",
            "_view_module_version": "1.2.0",
            "_view_name": "LayoutView",
            "align_content": null,
            "align_items": null,
            "align_self": null,
            "border": null,
            "bottom": null,
            "display": null,
            "flex": null,
            "flex_flow": null,
            "grid_area": null,
            "grid_auto_columns": null,
            "grid_auto_flow": null,
            "grid_auto_rows": null,
            "grid_column": null,
            "grid_gap": null,
            "grid_row": null,
            "grid_template_areas": null,
            "grid_template_columns": null,
            "grid_template_rows": null,
            "height": null,
            "justify_content": null,
            "justify_items": null,
            "left": null,
            "margin": null,
            "max_height": null,
            "max_width": null,
            "min_height": null,
            "min_width": null,
            "object_fit": null,
            "object_position": null,
            "order": null,
            "overflow": null,
            "overflow_x": null,
            "overflow_y": null,
            "padding": null,
            "right": null,
            "top": null,
            "visibility": null,
            "width": null
          }
        },
        "c89f8da0b96e4f9a8d4066e210b8aa83": {
          "model_module": "@jupyter-widgets/controls",
          "model_name": "ProgressStyleModel",
          "model_module_version": "1.5.0",
          "state": {
            "_model_module": "@jupyter-widgets/controls",
            "_model_module_version": "1.5.0",
            "_model_name": "ProgressStyleModel",
            "_view_count": null,
            "_view_module": "@jupyter-widgets/base",
            "_view_module_version": "1.2.0",
            "_view_name": "StyleView",
            "bar_color": null,
            "description_width": ""
          }
        },
        "f2f543f853064dbd9daff4da6425dbc6": {
          "model_module": "@jupyter-widgets/base",
          "model_name": "LayoutModel",
          "model_module_version": "1.2.0",
          "state": {
            "_model_module": "@jupyter-widgets/base",
            "_model_module_version": "1.2.0",
            "_model_name": "LayoutModel",
            "_view_count": null,
            "_view_module": "@jupyter-widgets/base",
            "_view_module_version": "1.2.0",
            "_view_name": "LayoutView",
            "align_content": null,
            "align_items": null,
            "align_self": null,
            "border": null,
            "bottom": null,
            "display": null,
            "flex": null,
            "flex_flow": null,
            "grid_area": null,
            "grid_auto_columns": null,
            "grid_auto_flow": null,
            "grid_auto_rows": null,
            "grid_column": null,
            "grid_gap": null,
            "grid_row": null,
            "grid_template_areas": null,
            "grid_template_columns": null,
            "grid_template_rows": null,
            "height": null,
            "justify_content": null,
            "justify_items": null,
            "left": null,
            "margin": null,
            "max_height": null,
            "max_width": null,
            "min_height": null,
            "min_width": null,
            "object_fit": null,
            "object_position": null,
            "order": null,
            "overflow": null,
            "overflow_x": null,
            "overflow_y": null,
            "padding": null,
            "right": null,
            "top": null,
            "visibility": null,
            "width": null
          }
        },
        "5e4296be000245589173732f2f573fd5": {
          "model_module": "@jupyter-widgets/controls",
          "model_name": "DescriptionStyleModel",
          "model_module_version": "1.5.0",
          "state": {
            "_model_module": "@jupyter-widgets/controls",
            "_model_module_version": "1.5.0",
            "_model_name": "DescriptionStyleModel",
            "_view_count": null,
            "_view_module": "@jupyter-widgets/base",
            "_view_module_version": "1.2.0",
            "_view_name": "StyleView",
            "description_width": ""
          }
        },
        "f6d662779afb46309a395df0b27387cf": {
          "model_module": "@jupyter-widgets/controls",
          "model_name": "HBoxModel",
          "model_module_version": "1.5.0",
          "state": {
            "_dom_classes": [],
            "_model_module": "@jupyter-widgets/controls",
            "_model_module_version": "1.5.0",
            "_model_name": "HBoxModel",
            "_view_count": null,
            "_view_module": "@jupyter-widgets/controls",
            "_view_module_version": "1.5.0",
            "_view_name": "HBoxView",
            "box_style": "",
            "children": [
              "IPY_MODEL_b5d8b1b0163d45c4b04ea73111faf60b",
              "IPY_MODEL_1276805c3ee54b5783cedc67319b8cec",
              "IPY_MODEL_622346dc00804f47b660b025194b76dc"
            ],
            "layout": "IPY_MODEL_53e82dcfedb04c5a987d218428a014a8"
          }
        },
        "b5d8b1b0163d45c4b04ea73111faf60b": {
          "model_module": "@jupyter-widgets/controls",
          "model_name": "HTMLModel",
          "model_module_version": "1.5.0",
          "state": {
            "_dom_classes": [],
            "_model_module": "@jupyter-widgets/controls",
            "_model_module_version": "1.5.0",
            "_model_name": "HTMLModel",
            "_view_count": null,
            "_view_module": "@jupyter-widgets/controls",
            "_view_module_version": "1.5.0",
            "_view_name": "HTMLView",
            "description": "",
            "description_tooltip": null,
            "layout": "IPY_MODEL_75b4c078fb8e4f46a04a18f7a9ae6bed",
            "placeholder": "​",
            "style": "IPY_MODEL_2db155b63c1949d686cd7ed2022f02ea",
            "value": "100%"
          }
        },
        "1276805c3ee54b5783cedc67319b8cec": {
          "model_module": "@jupyter-widgets/controls",
          "model_name": "FloatProgressModel",
          "model_module_version": "1.5.0",
          "state": {
            "_dom_classes": [],
            "_model_module": "@jupyter-widgets/controls",
            "_model_module_version": "1.5.0",
            "_model_name": "FloatProgressModel",
            "_view_count": null,
            "_view_module": "@jupyter-widgets/controls",
            "_view_module_version": "1.5.0",
            "_view_name": "ProgressView",
            "bar_style": "success",
            "description": "",
            "description_tooltip": null,
            "layout": "IPY_MODEL_4ad5698d9bdc440582a170af9b8196e4",
            "max": 1000,
            "min": 0,
            "orientation": "horizontal",
            "style": "IPY_MODEL_37ecf33f34a64cc1980c37cea3ed4590",
            "value": 1000
          }
        },
        "622346dc00804f47b660b025194b76dc": {
          "model_module": "@jupyter-widgets/controls",
          "model_name": "HTMLModel",
          "model_module_version": "1.5.0",
          "state": {
            "_dom_classes": [],
            "_model_module": "@jupyter-widgets/controls",
            "_model_module_version": "1.5.0",
            "_model_name": "HTMLModel",
            "_view_count": null,
            "_view_module": "@jupyter-widgets/controls",
            "_view_module_version": "1.5.0",
            "_view_name": "HTMLView",
            "description": "",
            "description_tooltip": null,
            "layout": "IPY_MODEL_bc843c7330f048508bcf4248028eb310",
            "placeholder": "​",
            "style": "IPY_MODEL_cd51578e4fbb43b88da49f03761f94d6",
            "value": " 1000/1000 [00:00&lt;00:00, 2194.11it/s]"
          }
        },
        "53e82dcfedb04c5a987d218428a014a8": {
          "model_module": "@jupyter-widgets/base",
          "model_name": "LayoutModel",
          "model_module_version": "1.2.0",
          "state": {
            "_model_module": "@jupyter-widgets/base",
            "_model_module_version": "1.2.0",
            "_model_name": "LayoutModel",
            "_view_count": null,
            "_view_module": "@jupyter-widgets/base",
            "_view_module_version": "1.2.0",
            "_view_name": "LayoutView",
            "align_content": null,
            "align_items": null,
            "align_self": null,
            "border": null,
            "bottom": null,
            "display": null,
            "flex": null,
            "flex_flow": null,
            "grid_area": null,
            "grid_auto_columns": null,
            "grid_auto_flow": null,
            "grid_auto_rows": null,
            "grid_column": null,
            "grid_gap": null,
            "grid_row": null,
            "grid_template_areas": null,
            "grid_template_columns": null,
            "grid_template_rows": null,
            "height": null,
            "justify_content": null,
            "justify_items": null,
            "left": null,
            "margin": null,
            "max_height": null,
            "max_width": null,
            "min_height": null,
            "min_width": null,
            "object_fit": null,
            "object_position": null,
            "order": null,
            "overflow": null,
            "overflow_x": null,
            "overflow_y": null,
            "padding": null,
            "right": null,
            "top": null,
            "visibility": null,
            "width": null
          }
        },
        "75b4c078fb8e4f46a04a18f7a9ae6bed": {
          "model_module": "@jupyter-widgets/base",
          "model_name": "LayoutModel",
          "model_module_version": "1.2.0",
          "state": {
            "_model_module": "@jupyter-widgets/base",
            "_model_module_version": "1.2.0",
            "_model_name": "LayoutModel",
            "_view_count": null,
            "_view_module": "@jupyter-widgets/base",
            "_view_module_version": "1.2.0",
            "_view_name": "LayoutView",
            "align_content": null,
            "align_items": null,
            "align_self": null,
            "border": null,
            "bottom": null,
            "display": null,
            "flex": null,
            "flex_flow": null,
            "grid_area": null,
            "grid_auto_columns": null,
            "grid_auto_flow": null,
            "grid_auto_rows": null,
            "grid_column": null,
            "grid_gap": null,
            "grid_row": null,
            "grid_template_areas": null,
            "grid_template_columns": null,
            "grid_template_rows": null,
            "height": null,
            "justify_content": null,
            "justify_items": null,
            "left": null,
            "margin": null,
            "max_height": null,
            "max_width": null,
            "min_height": null,
            "min_width": null,
            "object_fit": null,
            "object_position": null,
            "order": null,
            "overflow": null,
            "overflow_x": null,
            "overflow_y": null,
            "padding": null,
            "right": null,
            "top": null,
            "visibility": null,
            "width": null
          }
        },
        "2db155b63c1949d686cd7ed2022f02ea": {
          "model_module": "@jupyter-widgets/controls",
          "model_name": "DescriptionStyleModel",
          "model_module_version": "1.5.0",
          "state": {
            "_model_module": "@jupyter-widgets/controls",
            "_model_module_version": "1.5.0",
            "_model_name": "DescriptionStyleModel",
            "_view_count": null,
            "_view_module": "@jupyter-widgets/base",
            "_view_module_version": "1.2.0",
            "_view_name": "StyleView",
            "description_width": ""
          }
        },
        "4ad5698d9bdc440582a170af9b8196e4": {
          "model_module": "@jupyter-widgets/base",
          "model_name": "LayoutModel",
          "model_module_version": "1.2.0",
          "state": {
            "_model_module": "@jupyter-widgets/base",
            "_model_module_version": "1.2.0",
            "_model_name": "LayoutModel",
            "_view_count": null,
            "_view_module": "@jupyter-widgets/base",
            "_view_module_version": "1.2.0",
            "_view_name": "LayoutView",
            "align_content": null,
            "align_items": null,
            "align_self": null,
            "border": null,
            "bottom": null,
            "display": null,
            "flex": null,
            "flex_flow": null,
            "grid_area": null,
            "grid_auto_columns": null,
            "grid_auto_flow": null,
            "grid_auto_rows": null,
            "grid_column": null,
            "grid_gap": null,
            "grid_row": null,
            "grid_template_areas": null,
            "grid_template_columns": null,
            "grid_template_rows": null,
            "height": null,
            "justify_content": null,
            "justify_items": null,
            "left": null,
            "margin": null,
            "max_height": null,
            "max_width": null,
            "min_height": null,
            "min_width": null,
            "object_fit": null,
            "object_position": null,
            "order": null,
            "overflow": null,
            "overflow_x": null,
            "overflow_y": null,
            "padding": null,
            "right": null,
            "top": null,
            "visibility": null,
            "width": null
          }
        },
        "37ecf33f34a64cc1980c37cea3ed4590": {
          "model_module": "@jupyter-widgets/controls",
          "model_name": "ProgressStyleModel",
          "model_module_version": "1.5.0",
          "state": {
            "_model_module": "@jupyter-widgets/controls",
            "_model_module_version": "1.5.0",
            "_model_name": "ProgressStyleModel",
            "_view_count": null,
            "_view_module": "@jupyter-widgets/base",
            "_view_module_version": "1.2.0",
            "_view_name": "StyleView",
            "bar_color": null,
            "description_width": ""
          }
        },
        "bc843c7330f048508bcf4248028eb310": {
          "model_module": "@jupyter-widgets/base",
          "model_name": "LayoutModel",
          "model_module_version": "1.2.0",
          "state": {
            "_model_module": "@jupyter-widgets/base",
            "_model_module_version": "1.2.0",
            "_model_name": "LayoutModel",
            "_view_count": null,
            "_view_module": "@jupyter-widgets/base",
            "_view_module_version": "1.2.0",
            "_view_name": "LayoutView",
            "align_content": null,
            "align_items": null,
            "align_self": null,
            "border": null,
            "bottom": null,
            "display": null,
            "flex": null,
            "flex_flow": null,
            "grid_area": null,
            "grid_auto_columns": null,
            "grid_auto_flow": null,
            "grid_auto_rows": null,
            "grid_column": null,
            "grid_gap": null,
            "grid_row": null,
            "grid_template_areas": null,
            "grid_template_columns": null,
            "grid_template_rows": null,
            "height": null,
            "justify_content": null,
            "justify_items": null,
            "left": null,
            "margin": null,
            "max_height": null,
            "max_width": null,
            "min_height": null,
            "min_width": null,
            "object_fit": null,
            "object_position": null,
            "order": null,
            "overflow": null,
            "overflow_x": null,
            "overflow_y": null,
            "padding": null,
            "right": null,
            "top": null,
            "visibility": null,
            "width": null
          }
        },
        "cd51578e4fbb43b88da49f03761f94d6": {
          "model_module": "@jupyter-widgets/controls",
          "model_name": "DescriptionStyleModel",
          "model_module_version": "1.5.0",
          "state": {
            "_model_module": "@jupyter-widgets/controls",
            "_model_module_version": "1.5.0",
            "_model_name": "DescriptionStyleModel",
            "_view_count": null,
            "_view_module": "@jupyter-widgets/base",
            "_view_module_version": "1.2.0",
            "_view_name": "StyleView",
            "description_width": ""
          }
        },
        "eefdf6b795bf4dec9bde5ddbb4875b57": {
          "model_module": "@jupyter-widgets/controls",
          "model_name": "HBoxModel",
          "model_module_version": "1.5.0",
          "state": {
            "_dom_classes": [],
            "_model_module": "@jupyter-widgets/controls",
            "_model_module_version": "1.5.0",
            "_model_name": "HBoxModel",
            "_view_count": null,
            "_view_module": "@jupyter-widgets/controls",
            "_view_module_version": "1.5.0",
            "_view_name": "HBoxView",
            "box_style": "",
            "children": [
              "IPY_MODEL_187602328e1b4d55bc5feb67fa94695c",
              "IPY_MODEL_8c4e0340ce8d4293bc0c74b1f9d05d5a",
              "IPY_MODEL_465080e11125417993c9a5d4cd51f8fa"
            ],
            "layout": "IPY_MODEL_adc40caf5b15494190a5ceb8f11e7349"
          }
        },
        "187602328e1b4d55bc5feb67fa94695c": {
          "model_module": "@jupyter-widgets/controls",
          "model_name": "HTMLModel",
          "model_module_version": "1.5.0",
          "state": {
            "_dom_classes": [],
            "_model_module": "@jupyter-widgets/controls",
            "_model_module_version": "1.5.0",
            "_model_name": "HTMLModel",
            "_view_count": null,
            "_view_module": "@jupyter-widgets/controls",
            "_view_module_version": "1.5.0",
            "_view_name": "HTMLView",
            "description": "",
            "description_tooltip": null,
            "layout": "IPY_MODEL_d6c9f145f3f2422c99cefaac8afe98c8",
            "placeholder": "​",
            "style": "IPY_MODEL_f16b749f6b524ad2920f0570490d5840",
            "value": "100%"
          }
        },
        "8c4e0340ce8d4293bc0c74b1f9d05d5a": {
          "model_module": "@jupyter-widgets/controls",
          "model_name": "FloatProgressModel",
          "model_module_version": "1.5.0",
          "state": {
            "_dom_classes": [],
            "_model_module": "@jupyter-widgets/controls",
            "_model_module_version": "1.5.0",
            "_model_name": "FloatProgressModel",
            "_view_count": null,
            "_view_module": "@jupyter-widgets/controls",
            "_view_module_version": "1.5.0",
            "_view_name": "ProgressView",
            "bar_style": "success",
            "description": "",
            "description_tooltip": null,
            "layout": "IPY_MODEL_262ba3ae8ab04ede83eb8ecdd8b4f47f",
            "max": 1000,
            "min": 0,
            "orientation": "horizontal",
            "style": "IPY_MODEL_e053bb0bfb574ce4bf2b0a056e29129e",
            "value": 1000
          }
        },
        "465080e11125417993c9a5d4cd51f8fa": {
          "model_module": "@jupyter-widgets/controls",
          "model_name": "HTMLModel",
          "model_module_version": "1.5.0",
          "state": {
            "_dom_classes": [],
            "_model_module": "@jupyter-widgets/controls",
            "_model_module_version": "1.5.0",
            "_model_name": "HTMLModel",
            "_view_count": null,
            "_view_module": "@jupyter-widgets/controls",
            "_view_module_version": "1.5.0",
            "_view_name": "HTMLView",
            "description": "",
            "description_tooltip": null,
            "layout": "IPY_MODEL_0df9460ba3c44e028060bb35a16b502d",
            "placeholder": "​",
            "style": "IPY_MODEL_a941ea1a9d01487ba70a14b72e06dfdc",
            "value": " 1000/1000 [00:00&lt;00:00, 2271.43it/s]"
          }
        },
        "adc40caf5b15494190a5ceb8f11e7349": {
          "model_module": "@jupyter-widgets/base",
          "model_name": "LayoutModel",
          "model_module_version": "1.2.0",
          "state": {
            "_model_module": "@jupyter-widgets/base",
            "_model_module_version": "1.2.0",
            "_model_name": "LayoutModel",
            "_view_count": null,
            "_view_module": "@jupyter-widgets/base",
            "_view_module_version": "1.2.0",
            "_view_name": "LayoutView",
            "align_content": null,
            "align_items": null,
            "align_self": null,
            "border": null,
            "bottom": null,
            "display": null,
            "flex": null,
            "flex_flow": null,
            "grid_area": null,
            "grid_auto_columns": null,
            "grid_auto_flow": null,
            "grid_auto_rows": null,
            "grid_column": null,
            "grid_gap": null,
            "grid_row": null,
            "grid_template_areas": null,
            "grid_template_columns": null,
            "grid_template_rows": null,
            "height": null,
            "justify_content": null,
            "justify_items": null,
            "left": null,
            "margin": null,
            "max_height": null,
            "max_width": null,
            "min_height": null,
            "min_width": null,
            "object_fit": null,
            "object_position": null,
            "order": null,
            "overflow": null,
            "overflow_x": null,
            "overflow_y": null,
            "padding": null,
            "right": null,
            "top": null,
            "visibility": null,
            "width": null
          }
        },
        "d6c9f145f3f2422c99cefaac8afe98c8": {
          "model_module": "@jupyter-widgets/base",
          "model_name": "LayoutModel",
          "model_module_version": "1.2.0",
          "state": {
            "_model_module": "@jupyter-widgets/base",
            "_model_module_version": "1.2.0",
            "_model_name": "LayoutModel",
            "_view_count": null,
            "_view_module": "@jupyter-widgets/base",
            "_view_module_version": "1.2.0",
            "_view_name": "LayoutView",
            "align_content": null,
            "align_items": null,
            "align_self": null,
            "border": null,
            "bottom": null,
            "display": null,
            "flex": null,
            "flex_flow": null,
            "grid_area": null,
            "grid_auto_columns": null,
            "grid_auto_flow": null,
            "grid_auto_rows": null,
            "grid_column": null,
            "grid_gap": null,
            "grid_row": null,
            "grid_template_areas": null,
            "grid_template_columns": null,
            "grid_template_rows": null,
            "height": null,
            "justify_content": null,
            "justify_items": null,
            "left": null,
            "margin": null,
            "max_height": null,
            "max_width": null,
            "min_height": null,
            "min_width": null,
            "object_fit": null,
            "object_position": null,
            "order": null,
            "overflow": null,
            "overflow_x": null,
            "overflow_y": null,
            "padding": null,
            "right": null,
            "top": null,
            "visibility": null,
            "width": null
          }
        },
        "f16b749f6b524ad2920f0570490d5840": {
          "model_module": "@jupyter-widgets/controls",
          "model_name": "DescriptionStyleModel",
          "model_module_version": "1.5.0",
          "state": {
            "_model_module": "@jupyter-widgets/controls",
            "_model_module_version": "1.5.0",
            "_model_name": "DescriptionStyleModel",
            "_view_count": null,
            "_view_module": "@jupyter-widgets/base",
            "_view_module_version": "1.2.0",
            "_view_name": "StyleView",
            "description_width": ""
          }
        },
        "262ba3ae8ab04ede83eb8ecdd8b4f47f": {
          "model_module": "@jupyter-widgets/base",
          "model_name": "LayoutModel",
          "model_module_version": "1.2.0",
          "state": {
            "_model_module": "@jupyter-widgets/base",
            "_model_module_version": "1.2.0",
            "_model_name": "LayoutModel",
            "_view_count": null,
            "_view_module": "@jupyter-widgets/base",
            "_view_module_version": "1.2.0",
            "_view_name": "LayoutView",
            "align_content": null,
            "align_items": null,
            "align_self": null,
            "border": null,
            "bottom": null,
            "display": null,
            "flex": null,
            "flex_flow": null,
            "grid_area": null,
            "grid_auto_columns": null,
            "grid_auto_flow": null,
            "grid_auto_rows": null,
            "grid_column": null,
            "grid_gap": null,
            "grid_row": null,
            "grid_template_areas": null,
            "grid_template_columns": null,
            "grid_template_rows": null,
            "height": null,
            "justify_content": null,
            "justify_items": null,
            "left": null,
            "margin": null,
            "max_height": null,
            "max_width": null,
            "min_height": null,
            "min_width": null,
            "object_fit": null,
            "object_position": null,
            "order": null,
            "overflow": null,
            "overflow_x": null,
            "overflow_y": null,
            "padding": null,
            "right": null,
            "top": null,
            "visibility": null,
            "width": null
          }
        },
        "e053bb0bfb574ce4bf2b0a056e29129e": {
          "model_module": "@jupyter-widgets/controls",
          "model_name": "ProgressStyleModel",
          "model_module_version": "1.5.0",
          "state": {
            "_model_module": "@jupyter-widgets/controls",
            "_model_module_version": "1.5.0",
            "_model_name": "ProgressStyleModel",
            "_view_count": null,
            "_view_module": "@jupyter-widgets/base",
            "_view_module_version": "1.2.0",
            "_view_name": "StyleView",
            "bar_color": null,
            "description_width": ""
          }
        },
        "0df9460ba3c44e028060bb35a16b502d": {
          "model_module": "@jupyter-widgets/base",
          "model_name": "LayoutModel",
          "model_module_version": "1.2.0",
          "state": {
            "_model_module": "@jupyter-widgets/base",
            "_model_module_version": "1.2.0",
            "_model_name": "LayoutModel",
            "_view_count": null,
            "_view_module": "@jupyter-widgets/base",
            "_view_module_version": "1.2.0",
            "_view_name": "LayoutView",
            "align_content": null,
            "align_items": null,
            "align_self": null,
            "border": null,
            "bottom": null,
            "display": null,
            "flex": null,
            "flex_flow": null,
            "grid_area": null,
            "grid_auto_columns": null,
            "grid_auto_flow": null,
            "grid_auto_rows": null,
            "grid_column": null,
            "grid_gap": null,
            "grid_row": null,
            "grid_template_areas": null,
            "grid_template_columns": null,
            "grid_template_rows": null,
            "height": null,
            "justify_content": null,
            "justify_items": null,
            "left": null,
            "margin": null,
            "max_height": null,
            "max_width": null,
            "min_height": null,
            "min_width": null,
            "object_fit": null,
            "object_position": null,
            "order": null,
            "overflow": null,
            "overflow_x": null,
            "overflow_y": null,
            "padding": null,
            "right": null,
            "top": null,
            "visibility": null,
            "width": null
          }
        },
        "a941ea1a9d01487ba70a14b72e06dfdc": {
          "model_module": "@jupyter-widgets/controls",
          "model_name": "DescriptionStyleModel",
          "model_module_version": "1.5.0",
          "state": {
            "_model_module": "@jupyter-widgets/controls",
            "_model_module_version": "1.5.0",
            "_model_name": "DescriptionStyleModel",
            "_view_count": null,
            "_view_module": "@jupyter-widgets/base",
            "_view_module_version": "1.2.0",
            "_view_name": "StyleView",
            "description_width": ""
          }
        },
        "f58ae50b47cb4ef58be9b22cef3179c9": {
          "model_module": "@jupyter-widgets/controls",
          "model_name": "HBoxModel",
          "model_module_version": "1.5.0",
          "state": {
            "_dom_classes": [],
            "_model_module": "@jupyter-widgets/controls",
            "_model_module_version": "1.5.0",
            "_model_name": "HBoxModel",
            "_view_count": null,
            "_view_module": "@jupyter-widgets/controls",
            "_view_module_version": "1.5.0",
            "_view_name": "HBoxView",
            "box_style": "",
            "children": [
              "IPY_MODEL_18341f62596c4dc4b006b7cc2bd6b5e9",
              "IPY_MODEL_43e656f949ed489caa361d14b49b7480",
              "IPY_MODEL_f9380c2af7f04ab8af5cf2d89a442c99"
            ],
            "layout": "IPY_MODEL_4c0596f52a9f4f349387c9a9f2d2f2ef"
          }
        },
        "18341f62596c4dc4b006b7cc2bd6b5e9": {
          "model_module": "@jupyter-widgets/controls",
          "model_name": "HTMLModel",
          "model_module_version": "1.5.0",
          "state": {
            "_dom_classes": [],
            "_model_module": "@jupyter-widgets/controls",
            "_model_module_version": "1.5.0",
            "_model_name": "HTMLModel",
            "_view_count": null,
            "_view_module": "@jupyter-widgets/controls",
            "_view_module_version": "1.5.0",
            "_view_name": "HTMLView",
            "description": "",
            "description_tooltip": null,
            "layout": "IPY_MODEL_fa275299b8f74804ae1a8c228e3b5e0d",
            "placeholder": "​",
            "style": "IPY_MODEL_3958359e4f414274a0dbae17e5a1322e",
            "value": "100%"
          }
        },
        "43e656f949ed489caa361d14b49b7480": {
          "model_module": "@jupyter-widgets/controls",
          "model_name": "FloatProgressModel",
          "model_module_version": "1.5.0",
          "state": {
            "_dom_classes": [],
            "_model_module": "@jupyter-widgets/controls",
            "_model_module_version": "1.5.0",
            "_model_name": "FloatProgressModel",
            "_view_count": null,
            "_view_module": "@jupyter-widgets/controls",
            "_view_module_version": "1.5.0",
            "_view_name": "ProgressView",
            "bar_style": "success",
            "description": "",
            "description_tooltip": null,
            "layout": "IPY_MODEL_941ef81f6d9b4669b92fc9c001b869a5",
            "max": 1000,
            "min": 0,
            "orientation": "horizontal",
            "style": "IPY_MODEL_6027fa6fc72b4c7e9cec880f9f0fe9e2",
            "value": 1000
          }
        },
        "f9380c2af7f04ab8af5cf2d89a442c99": {
          "model_module": "@jupyter-widgets/controls",
          "model_name": "HTMLModel",
          "model_module_version": "1.5.0",
          "state": {
            "_dom_classes": [],
            "_model_module": "@jupyter-widgets/controls",
            "_model_module_version": "1.5.0",
            "_model_name": "HTMLModel",
            "_view_count": null,
            "_view_module": "@jupyter-widgets/controls",
            "_view_module_version": "1.5.0",
            "_view_name": "HTMLView",
            "description": "",
            "description_tooltip": null,
            "layout": "IPY_MODEL_ebdb955dae0040a3bf4c0a112b26d4f0",
            "placeholder": "​",
            "style": "IPY_MODEL_f05f4581ca374b798a66b214bc18ca01",
            "value": " 1000/1000 [00:00&lt;00:00, 2394.60it/s]"
          }
        },
        "4c0596f52a9f4f349387c9a9f2d2f2ef": {
          "model_module": "@jupyter-widgets/base",
          "model_name": "LayoutModel",
          "model_module_version": "1.2.0",
          "state": {
            "_model_module": "@jupyter-widgets/base",
            "_model_module_version": "1.2.0",
            "_model_name": "LayoutModel",
            "_view_count": null,
            "_view_module": "@jupyter-widgets/base",
            "_view_module_version": "1.2.0",
            "_view_name": "LayoutView",
            "align_content": null,
            "align_items": null,
            "align_self": null,
            "border": null,
            "bottom": null,
            "display": null,
            "flex": null,
            "flex_flow": null,
            "grid_area": null,
            "grid_auto_columns": null,
            "grid_auto_flow": null,
            "grid_auto_rows": null,
            "grid_column": null,
            "grid_gap": null,
            "grid_row": null,
            "grid_template_areas": null,
            "grid_template_columns": null,
            "grid_template_rows": null,
            "height": null,
            "justify_content": null,
            "justify_items": null,
            "left": null,
            "margin": null,
            "max_height": null,
            "max_width": null,
            "min_height": null,
            "min_width": null,
            "object_fit": null,
            "object_position": null,
            "order": null,
            "overflow": null,
            "overflow_x": null,
            "overflow_y": null,
            "padding": null,
            "right": null,
            "top": null,
            "visibility": null,
            "width": null
          }
        },
        "fa275299b8f74804ae1a8c228e3b5e0d": {
          "model_module": "@jupyter-widgets/base",
          "model_name": "LayoutModel",
          "model_module_version": "1.2.0",
          "state": {
            "_model_module": "@jupyter-widgets/base",
            "_model_module_version": "1.2.0",
            "_model_name": "LayoutModel",
            "_view_count": null,
            "_view_module": "@jupyter-widgets/base",
            "_view_module_version": "1.2.0",
            "_view_name": "LayoutView",
            "align_content": null,
            "align_items": null,
            "align_self": null,
            "border": null,
            "bottom": null,
            "display": null,
            "flex": null,
            "flex_flow": null,
            "grid_area": null,
            "grid_auto_columns": null,
            "grid_auto_flow": null,
            "grid_auto_rows": null,
            "grid_column": null,
            "grid_gap": null,
            "grid_row": null,
            "grid_template_areas": null,
            "grid_template_columns": null,
            "grid_template_rows": null,
            "height": null,
            "justify_content": null,
            "justify_items": null,
            "left": null,
            "margin": null,
            "max_height": null,
            "max_width": null,
            "min_height": null,
            "min_width": null,
            "object_fit": null,
            "object_position": null,
            "order": null,
            "overflow": null,
            "overflow_x": null,
            "overflow_y": null,
            "padding": null,
            "right": null,
            "top": null,
            "visibility": null,
            "width": null
          }
        },
        "3958359e4f414274a0dbae17e5a1322e": {
          "model_module": "@jupyter-widgets/controls",
          "model_name": "DescriptionStyleModel",
          "model_module_version": "1.5.0",
          "state": {
            "_model_module": "@jupyter-widgets/controls",
            "_model_module_version": "1.5.0",
            "_model_name": "DescriptionStyleModel",
            "_view_count": null,
            "_view_module": "@jupyter-widgets/base",
            "_view_module_version": "1.2.0",
            "_view_name": "StyleView",
            "description_width": ""
          }
        },
        "941ef81f6d9b4669b92fc9c001b869a5": {
          "model_module": "@jupyter-widgets/base",
          "model_name": "LayoutModel",
          "model_module_version": "1.2.0",
          "state": {
            "_model_module": "@jupyter-widgets/base",
            "_model_module_version": "1.2.0",
            "_model_name": "LayoutModel",
            "_view_count": null,
            "_view_module": "@jupyter-widgets/base",
            "_view_module_version": "1.2.0",
            "_view_name": "LayoutView",
            "align_content": null,
            "align_items": null,
            "align_self": null,
            "border": null,
            "bottom": null,
            "display": null,
            "flex": null,
            "flex_flow": null,
            "grid_area": null,
            "grid_auto_columns": null,
            "grid_auto_flow": null,
            "grid_auto_rows": null,
            "grid_column": null,
            "grid_gap": null,
            "grid_row": null,
            "grid_template_areas": null,
            "grid_template_columns": null,
            "grid_template_rows": null,
            "height": null,
            "justify_content": null,
            "justify_items": null,
            "left": null,
            "margin": null,
            "max_height": null,
            "max_width": null,
            "min_height": null,
            "min_width": null,
            "object_fit": null,
            "object_position": null,
            "order": null,
            "overflow": null,
            "overflow_x": null,
            "overflow_y": null,
            "padding": null,
            "right": null,
            "top": null,
            "visibility": null,
            "width": null
          }
        },
        "6027fa6fc72b4c7e9cec880f9f0fe9e2": {
          "model_module": "@jupyter-widgets/controls",
          "model_name": "ProgressStyleModel",
          "model_module_version": "1.5.0",
          "state": {
            "_model_module": "@jupyter-widgets/controls",
            "_model_module_version": "1.5.0",
            "_model_name": "ProgressStyleModel",
            "_view_count": null,
            "_view_module": "@jupyter-widgets/base",
            "_view_module_version": "1.2.0",
            "_view_name": "StyleView",
            "bar_color": null,
            "description_width": ""
          }
        },
        "ebdb955dae0040a3bf4c0a112b26d4f0": {
          "model_module": "@jupyter-widgets/base",
          "model_name": "LayoutModel",
          "model_module_version": "1.2.0",
          "state": {
            "_model_module": "@jupyter-widgets/base",
            "_model_module_version": "1.2.0",
            "_model_name": "LayoutModel",
            "_view_count": null,
            "_view_module": "@jupyter-widgets/base",
            "_view_module_version": "1.2.0",
            "_view_name": "LayoutView",
            "align_content": null,
            "align_items": null,
            "align_self": null,
            "border": null,
            "bottom": null,
            "display": null,
            "flex": null,
            "flex_flow": null,
            "grid_area": null,
            "grid_auto_columns": null,
            "grid_auto_flow": null,
            "grid_auto_rows": null,
            "grid_column": null,
            "grid_gap": null,
            "grid_row": null,
            "grid_template_areas": null,
            "grid_template_columns": null,
            "grid_template_rows": null,
            "height": null,
            "justify_content": null,
            "justify_items": null,
            "left": null,
            "margin": null,
            "max_height": null,
            "max_width": null,
            "min_height": null,
            "min_width": null,
            "object_fit": null,
            "object_position": null,
            "order": null,
            "overflow": null,
            "overflow_x": null,
            "overflow_y": null,
            "padding": null,
            "right": null,
            "top": null,
            "visibility": null,
            "width": null
          }
        },
        "f05f4581ca374b798a66b214bc18ca01": {
          "model_module": "@jupyter-widgets/controls",
          "model_name": "DescriptionStyleModel",
          "model_module_version": "1.5.0",
          "state": {
            "_model_module": "@jupyter-widgets/controls",
            "_model_module_version": "1.5.0",
            "_model_name": "DescriptionStyleModel",
            "_view_count": null,
            "_view_module": "@jupyter-widgets/base",
            "_view_module_version": "1.2.0",
            "_view_name": "StyleView",
            "description_width": ""
          }
        },
        "5ae6059985f443a08ea90527a35f6dcf": {
          "model_module": "@jupyter-widgets/controls",
          "model_name": "HBoxModel",
          "model_module_version": "1.5.0",
          "state": {
            "_dom_classes": [],
            "_model_module": "@jupyter-widgets/controls",
            "_model_module_version": "1.5.0",
            "_model_name": "HBoxModel",
            "_view_count": null,
            "_view_module": "@jupyter-widgets/controls",
            "_view_module_version": "1.5.0",
            "_view_name": "HBoxView",
            "box_style": "",
            "children": [
              "IPY_MODEL_b6fca91c1cd046ccbc370ce0c27c5c5f",
              "IPY_MODEL_f1a5dcb94dfb4e41b507a41891ba67cd",
              "IPY_MODEL_26425fb5f01743b49be6daaafef4a787"
            ],
            "layout": "IPY_MODEL_3ac990591d9d482b960282052e4df020"
          }
        },
        "b6fca91c1cd046ccbc370ce0c27c5c5f": {
          "model_module": "@jupyter-widgets/controls",
          "model_name": "HTMLModel",
          "model_module_version": "1.5.0",
          "state": {
            "_dom_classes": [],
            "_model_module": "@jupyter-widgets/controls",
            "_model_module_version": "1.5.0",
            "_model_name": "HTMLModel",
            "_view_count": null,
            "_view_module": "@jupyter-widgets/controls",
            "_view_module_version": "1.5.0",
            "_view_name": "HTMLView",
            "description": "",
            "description_tooltip": null,
            "layout": "IPY_MODEL_f4819d07db96444e856bf9ff881c7399",
            "placeholder": "​",
            "style": "IPY_MODEL_7021383f37cf4f92be626c309e1b0711",
            "value": "100%"
          }
        },
        "f1a5dcb94dfb4e41b507a41891ba67cd": {
          "model_module": "@jupyter-widgets/controls",
          "model_name": "FloatProgressModel",
          "model_module_version": "1.5.0",
          "state": {
            "_dom_classes": [],
            "_model_module": "@jupyter-widgets/controls",
            "_model_module_version": "1.5.0",
            "_model_name": "FloatProgressModel",
            "_view_count": null,
            "_view_module": "@jupyter-widgets/controls",
            "_view_module_version": "1.5.0",
            "_view_name": "ProgressView",
            "bar_style": "success",
            "description": "",
            "description_tooltip": null,
            "layout": "IPY_MODEL_299e679527604471b0ab1f90d6a49982",
            "max": 1000,
            "min": 0,
            "orientation": "horizontal",
            "style": "IPY_MODEL_19c203aa6cf14ca6825f28af6812b9ee",
            "value": 1000
          }
        },
        "26425fb5f01743b49be6daaafef4a787": {
          "model_module": "@jupyter-widgets/controls",
          "model_name": "HTMLModel",
          "model_module_version": "1.5.0",
          "state": {
            "_dom_classes": [],
            "_model_module": "@jupyter-widgets/controls",
            "_model_module_version": "1.5.0",
            "_model_name": "HTMLModel",
            "_view_count": null,
            "_view_module": "@jupyter-widgets/controls",
            "_view_module_version": "1.5.0",
            "_view_name": "HTMLView",
            "description": "",
            "description_tooltip": null,
            "layout": "IPY_MODEL_413cf01351144ad6b4fbb4c8743b401a",
            "placeholder": "​",
            "style": "IPY_MODEL_18eb254174b1442f96204a0b9a45f39e",
            "value": " 1000/1000 [00:00&lt;00:00, 2358.78it/s]"
          }
        },
        "3ac990591d9d482b960282052e4df020": {
          "model_module": "@jupyter-widgets/base",
          "model_name": "LayoutModel",
          "model_module_version": "1.2.0",
          "state": {
            "_model_module": "@jupyter-widgets/base",
            "_model_module_version": "1.2.0",
            "_model_name": "LayoutModel",
            "_view_count": null,
            "_view_module": "@jupyter-widgets/base",
            "_view_module_version": "1.2.0",
            "_view_name": "LayoutView",
            "align_content": null,
            "align_items": null,
            "align_self": null,
            "border": null,
            "bottom": null,
            "display": null,
            "flex": null,
            "flex_flow": null,
            "grid_area": null,
            "grid_auto_columns": null,
            "grid_auto_flow": null,
            "grid_auto_rows": null,
            "grid_column": null,
            "grid_gap": null,
            "grid_row": null,
            "grid_template_areas": null,
            "grid_template_columns": null,
            "grid_template_rows": null,
            "height": null,
            "justify_content": null,
            "justify_items": null,
            "left": null,
            "margin": null,
            "max_height": null,
            "max_width": null,
            "min_height": null,
            "min_width": null,
            "object_fit": null,
            "object_position": null,
            "order": null,
            "overflow": null,
            "overflow_x": null,
            "overflow_y": null,
            "padding": null,
            "right": null,
            "top": null,
            "visibility": null,
            "width": null
          }
        },
        "f4819d07db96444e856bf9ff881c7399": {
          "model_module": "@jupyter-widgets/base",
          "model_name": "LayoutModel",
          "model_module_version": "1.2.0",
          "state": {
            "_model_module": "@jupyter-widgets/base",
            "_model_module_version": "1.2.0",
            "_model_name": "LayoutModel",
            "_view_count": null,
            "_view_module": "@jupyter-widgets/base",
            "_view_module_version": "1.2.0",
            "_view_name": "LayoutView",
            "align_content": null,
            "align_items": null,
            "align_self": null,
            "border": null,
            "bottom": null,
            "display": null,
            "flex": null,
            "flex_flow": null,
            "grid_area": null,
            "grid_auto_columns": null,
            "grid_auto_flow": null,
            "grid_auto_rows": null,
            "grid_column": null,
            "grid_gap": null,
            "grid_row": null,
            "grid_template_areas": null,
            "grid_template_columns": null,
            "grid_template_rows": null,
            "height": null,
            "justify_content": null,
            "justify_items": null,
            "left": null,
            "margin": null,
            "max_height": null,
            "max_width": null,
            "min_height": null,
            "min_width": null,
            "object_fit": null,
            "object_position": null,
            "order": null,
            "overflow": null,
            "overflow_x": null,
            "overflow_y": null,
            "padding": null,
            "right": null,
            "top": null,
            "visibility": null,
            "width": null
          }
        },
        "7021383f37cf4f92be626c309e1b0711": {
          "model_module": "@jupyter-widgets/controls",
          "model_name": "DescriptionStyleModel",
          "model_module_version": "1.5.0",
          "state": {
            "_model_module": "@jupyter-widgets/controls",
            "_model_module_version": "1.5.0",
            "_model_name": "DescriptionStyleModel",
            "_view_count": null,
            "_view_module": "@jupyter-widgets/base",
            "_view_module_version": "1.2.0",
            "_view_name": "StyleView",
            "description_width": ""
          }
        },
        "299e679527604471b0ab1f90d6a49982": {
          "model_module": "@jupyter-widgets/base",
          "model_name": "LayoutModel",
          "model_module_version": "1.2.0",
          "state": {
            "_model_module": "@jupyter-widgets/base",
            "_model_module_version": "1.2.0",
            "_model_name": "LayoutModel",
            "_view_count": null,
            "_view_module": "@jupyter-widgets/base",
            "_view_module_version": "1.2.0",
            "_view_name": "LayoutView",
            "align_content": null,
            "align_items": null,
            "align_self": null,
            "border": null,
            "bottom": null,
            "display": null,
            "flex": null,
            "flex_flow": null,
            "grid_area": null,
            "grid_auto_columns": null,
            "grid_auto_flow": null,
            "grid_auto_rows": null,
            "grid_column": null,
            "grid_gap": null,
            "grid_row": null,
            "grid_template_areas": null,
            "grid_template_columns": null,
            "grid_template_rows": null,
            "height": null,
            "justify_content": null,
            "justify_items": null,
            "left": null,
            "margin": null,
            "max_height": null,
            "max_width": null,
            "min_height": null,
            "min_width": null,
            "object_fit": null,
            "object_position": null,
            "order": null,
            "overflow": null,
            "overflow_x": null,
            "overflow_y": null,
            "padding": null,
            "right": null,
            "top": null,
            "visibility": null,
            "width": null
          }
        },
        "19c203aa6cf14ca6825f28af6812b9ee": {
          "model_module": "@jupyter-widgets/controls",
          "model_name": "ProgressStyleModel",
          "model_module_version": "1.5.0",
          "state": {
            "_model_module": "@jupyter-widgets/controls",
            "_model_module_version": "1.5.0",
            "_model_name": "ProgressStyleModel",
            "_view_count": null,
            "_view_module": "@jupyter-widgets/base",
            "_view_module_version": "1.2.0",
            "_view_name": "StyleView",
            "bar_color": null,
            "description_width": ""
          }
        },
        "413cf01351144ad6b4fbb4c8743b401a": {
          "model_module": "@jupyter-widgets/base",
          "model_name": "LayoutModel",
          "model_module_version": "1.2.0",
          "state": {
            "_model_module": "@jupyter-widgets/base",
            "_model_module_version": "1.2.0",
            "_model_name": "LayoutModel",
            "_view_count": null,
            "_view_module": "@jupyter-widgets/base",
            "_view_module_version": "1.2.0",
            "_view_name": "LayoutView",
            "align_content": null,
            "align_items": null,
            "align_self": null,
            "border": null,
            "bottom": null,
            "display": null,
            "flex": null,
            "flex_flow": null,
            "grid_area": null,
            "grid_auto_columns": null,
            "grid_auto_flow": null,
            "grid_auto_rows": null,
            "grid_column": null,
            "grid_gap": null,
            "grid_row": null,
            "grid_template_areas": null,
            "grid_template_columns": null,
            "grid_template_rows": null,
            "height": null,
            "justify_content": null,
            "justify_items": null,
            "left": null,
            "margin": null,
            "max_height": null,
            "max_width": null,
            "min_height": null,
            "min_width": null,
            "object_fit": null,
            "object_position": null,
            "order": null,
            "overflow": null,
            "overflow_x": null,
            "overflow_y": null,
            "padding": null,
            "right": null,
            "top": null,
            "visibility": null,
            "width": null
          }
        },
        "18eb254174b1442f96204a0b9a45f39e": {
          "model_module": "@jupyter-widgets/controls",
          "model_name": "DescriptionStyleModel",
          "model_module_version": "1.5.0",
          "state": {
            "_model_module": "@jupyter-widgets/controls",
            "_model_module_version": "1.5.0",
            "_model_name": "DescriptionStyleModel",
            "_view_count": null,
            "_view_module": "@jupyter-widgets/base",
            "_view_module_version": "1.2.0",
            "_view_name": "StyleView",
            "description_width": ""
          }
        }
      }
    }
  },
  "cells": [
    {
      "cell_type": "markdown",
      "source": [
        "# Multi-armed bandit"
      ],
      "metadata": {
        "id": "FfzNDJVG0jLy"
      }
    },
    {
      "cell_type": "code",
      "source": [
        "import matplotlib.pyplot as plt\n",
        "import seaborn as sns\n",
        "import numpy as np\n",
        "import scipy.stats as stats\n",
        "\n",
        "sns.set_style(\"whitegrid\")"
      ],
      "metadata": {
        "id": "pRbqHhrl2cjS"
      },
      "execution_count": 153,
      "outputs": []
    },
    {
      "cell_type": "code",
      "source": [
        "class UniformMultiArmedBandit:\n",
        "\n",
        "    class Arm:\n",
        "\n",
        "        def __init__(self, cost, distribution):\n",
        "            self.cost = cost\n",
        "            self.distribution = distribution\n",
        "\n",
        "        def trigger(self):\n",
        "            return self.distribution.rvs(1)[0] - self.cost\n",
        "\n",
        "    def __init__(self, n_arms, costs = None, distributions = None):\n",
        "\n",
        "        if not (distributions is None):\n",
        "            assert len(distributions) == n_arms, \"Distributions size should be equal to n_arms\"\n",
        "        else: \n",
        "            a_list = np.random.randint(1, 5, n_arms)\n",
        "            b_list = np.random.randint(6, 10, n_arms)\n",
        "            distributions = [stats.randint(a, b) for a, b in zip(a_list, b_list)]\n",
        "        \n",
        "        if not (costs is None):\n",
        "            assert len(costs) == n_arms, \"Costs size should be equal to n_arms\"\n",
        "        else:\n",
        "            costs = np.random.randint(3, 8, n_arms)\n",
        "\n",
        "        self.n_arms = n_arms\n",
        "\n",
        "        self.arms = []\n",
        "        for i in range(n_arms):\n",
        "            new_arm = self.Arm(costs[i], distributions[i])\n",
        "            self.arms.append(new_arm)\n",
        "        \n",
        "    def trigger(self, idx):\n",
        "        return self.arms[idx].trigger()"
      ],
      "metadata": {
        "id": "g1RovfX-0ndh"
      },
      "execution_count": 154,
      "outputs": []
    },
    {
      "cell_type": "markdown",
      "source": [
        "## Single Arm"
      ],
      "metadata": {
        "id": "QdlKTvZXXlZF"
      }
    },
    {
      "cell_type": "code",
      "source": [
        "cost = 3\n",
        "distribution = stats.randint(1, 7)\n",
        "\n",
        "bandit = UniformMultiArmedBandit(1, [cost], [distribution])"
      ],
      "metadata": {
        "id": "Oqo-i3wQ4L8i"
      },
      "execution_count": 155,
      "outputs": []
    },
    {
      "cell_type": "code",
      "source": [
        "real_exp = distribution.mean() - cost\n",
        "print(real_exp)"
      ],
      "metadata": {
        "colab": {
          "base_uri": "https://localhost:8080/"
        },
        "id": "hN1H7gwNu4lH",
        "outputId": "eaa80d63-c53a-4da7-c37a-47b6266ca566"
      },
      "execution_count": 156,
      "outputs": [
        {
          "output_type": "stream",
          "name": "stdout",
          "text": [
            "0.5\n"
          ]
        }
      ]
    },
    {
      "cell_type": "code",
      "source": [
        "N = 1000\n",
        "records = []\n",
        "means = []\n",
        "\n",
        "for i in range(N):\n",
        "    records.append(bandit.trigger(0))\n",
        "    means.append(np.mean(records))"
      ],
      "metadata": {
        "id": "OCwikBOavSvo"
      },
      "execution_count": 157,
      "outputs": []
    },
    {
      "cell_type": "code",
      "source": [
        "plt.figure(figsize = (10, 3))#, dpi = 300)\n",
        "plt.plot(np.arange(N), [real_exp] * N)\n",
        "plt.plot(np.arange(N), means)\n",
        "plt.xlabel(\"Timestamp\")\n",
        "plt.ylabel(\"Value\")\n",
        "plt.legend(['Real', 'Estimated'])\n",
        "plt.show()"
      ],
      "metadata": {
        "colab": {
          "base_uri": "https://localhost:8080/",
          "height": 225
        },
        "id": "iY5S95Esvr9v",
        "outputId": "d797c14a-ac68-41c0-d82d-dfc782176c6c"
      },
      "execution_count": 158,
      "outputs": [
        {
          "output_type": "display_data",
          "data": {
            "text/plain": [
              "<Figure size 720x216 with 1 Axes>"
            ],
            "image/png": "[encoded data removed]"
          },
          "metadata": {}
        }
      ]
    },
    {
      "cell_type": "markdown",
      "source": [
        "## Multiple Arms"
      ],
      "metadata": {
        "id": "VwqdXGULXn3Q"
      }
    },
    {
      "cell_type": "markdown",
      "source": [
        "In the beginning let us sample by one value for all the arms."
      ],
      "metadata": {
        "id": "MUYzs4Uvzmmo"
      }
    },
    {
      "cell_type": "markdown",
      "source": [
        "### Greedy"
      ],
      "metadata": {
        "id": "AJrywZEbYTaI"
      }
    },
    {
      "cell_type": "code",
      "source": [
        "n_arms = 4\n",
        "bandit = UniformMultiArmedBandit(n_arms)"
      ],
      "metadata": {
        "id": "3SIAvcSczl-_"
      },
      "execution_count": 159,
      "outputs": []
    },
    {
      "cell_type": "code",
      "source": [
        "rewards = [[bandit.trigger(i)] for i in range(n_arms)]"
      ],
      "metadata": {
        "id": "A8lKIm1B1SUv"
      },
      "execution_count": 160,
      "outputs": []
    },
    {
      "cell_type": "code",
      "source": [
        "rewards"
      ],
      "metadata": {
        "colab": {
          "base_uri": "https://localhost:8080/"
        },
        "id": "xzYH3YoD33Un",
        "outputId": "60e1c801-1ab4-4375-ee28-275d8757ff6c"
      },
      "execution_count": 161,
      "outputs": [
        {
          "output_type": "execute_result",
          "data": {
            "text/plain": [
              "[[-5], [-1], [-2], [-1]]"
            ]
          },
          "metadata": {},
          "execution_count": 161
        }
      ]
    },
    {
      "cell_type": "code",
      "source": [
        "def greedy_policy(rewards):\n",
        "    means = []\n",
        "    # mean for each action\n",
        "    for rew_list in rewards:\n",
        "        means.append(np.mean(rew_list))\n",
        "    \n",
        "    return np.argmax(means)"
      ],
      "metadata": {
        "id": "KyOa1_uG1gdp"
      },
      "execution_count": 162,
      "outputs": []
    },
    {
      "cell_type": "code",
      "source": [
        "# mean reward for each arm\n",
        "actual_means = [arm.distribution.mean() - arm.cost for arm in bandit.arms]\n",
        "# max mean reward\n",
        "real_max_exp = max(actual_means)\n",
        "\n",
        "estimated_mean_policy = []\n",
        "real_mean_policy = []\n",
        "\n",
        "N = 1000\n",
        "\n",
        "for i in range(N):\n",
        "    # choosing an action\n",
        "    action = greedy_policy(rewards)\n",
        "\n",
        "    # recording the results\n",
        "    estimated_mean_policy.append(np.mean(rewards[action]))\n",
        "    rewards[action].append(bandit.trigger(action))\n",
        "    real_mean_policy.append(actual_means[action])"
      ],
      "metadata": {
        "id": "CLm_M-LV1-xm"
      },
      "execution_count": 163,
      "outputs": []
    },
    {
      "cell_type": "code",
      "source": [
        "plt.figure(figsize = (10, 3))#, dpi = 300)\n",
        "plt.plot(np.arange(N), [real_max_exp] * N)\n",
        "plt.plot(np.arange(N), estimated_mean_policy)\n",
        "plt.plot(np.arange(N), real_mean_policy)\n",
        "plt.xlabel(\"Timestamp\")\n",
        "plt.ylabel(\"Value\")\n",
        "plt.legend(['Real max mean', 'Estimated mean by policy', 'Real mean by policy'])\n",
        "plt.show()"
      ],
      "metadata": {
        "colab": {
          "base_uri": "https://localhost:8080/",
          "height": 225
        },
        "id": "0TNMXvIm4Prw",
        "outputId": "e0ae722f-c355-41d3-f1b4-d6b3988bcd38"
      },
      "execution_count": 164,
      "outputs": [
        {
          "output_type": "display_data",
          "data": {
            "text/plain": [
              "<Figure size 720x216 with 1 Axes>"
            ],
            "image/png": "[encoded data removed]"
          },
          "metadata": {}
        }
      ]
    },
    {
      "cell_type": "markdown",
      "source": [
        "### $\\epsilon$-greedy"
      ],
      "metadata": {
        "id": "1Jelim5dXqIx"
      }
    },
    {
      "cell_type": "code",
      "source": [
        "rewards = [[bandit.trigger(i)] for i in range(n_arms)]"
      ],
      "metadata": {
        "id": "wk9Teles6Di4"
      },
      "execution_count": 165,
      "outputs": []
    },
    {
      "cell_type": "code",
      "source": [
        "def epsilon_greedy_policy(rewards, n_arms, epsilon):\n",
        "    means = []\n",
        "    # mean for each action\n",
        "    for rew_list in rewards:\n",
        "        means.append(np.mean(rew_list))\n",
        "    main_action = np.argmax(means)\n",
        "    \n",
        "    probas = [epsilon / n_arms] * n_arms\n",
        "    probas[main_action] += (1 - epsilon) \n",
        "    return np.array(probas)"
      ],
      "metadata": {
        "id": "wBbHPTTp6Off"
      },
      "execution_count": 166,
      "outputs": []
    },
    {
      "cell_type": "code",
      "source": [
        "# mean reward for each arm\n",
        "actual_means = [arm.distribution.mean() - arm.cost for arm in bandit.arms]\n",
        "# max mean reward\n",
        "real_max_exp = max(actual_means)\n",
        "\n",
        "estimated_mean_policy = []\n",
        "real_mean_policy = []\n",
        "\n",
        "N = 1000\n",
        "\n",
        "for i in range(N):\n",
        "    # choosing an action\n",
        "    action_probas = epsilon_greedy_policy(rewards, n_arms, epsilon = 0.1)\n",
        "    action = np.random.choice(n_arms, size = 1, p = action_probas)[0]\n",
        "\n",
        "    # recording the results\n",
        "    estimated_mean_policy.append(np.mean(rewards[action]))\n",
        "    rewards[action].append(bandit.trigger(action))\n",
        "    real_mean_policy.append((actual_means * action_probas).sum())"
      ],
      "metadata": {
        "id": "SGcBICVw7gPH"
      },
      "execution_count": 167,
      "outputs": []
    },
    {
      "cell_type": "code",
      "source": [
        "plt.figure(figsize = (10, 3))#, dpi = 300)\n",
        "plt.plot(np.arange(N), [real_max_exp] * N)\n",
        "plt.plot(np.arange(N), estimated_mean_policy)\n",
        "plt.plot(np.arange(N), real_mean_policy)\n",
        "plt.xlabel(\"Timestamp\")\n",
        "plt.ylabel(\"Value\")\n",
        "plt.legend(['Real max mean', 'Estimated mean by policy', 'Real mean by policy'])\n",
        "plt.show()"
      ],
      "metadata": {
        "colab": {
          "base_uri": "https://localhost:8080/",
          "height": 225
        },
        "id": "uOP0TGne9J9Y",
        "outputId": "2eb94a08-d4a9-4587-fd34-85025eabebc1"
      },
      "execution_count": 168,
      "outputs": [
        {
          "output_type": "display_data",
          "data": {
            "text/plain": [
              "<Figure size 720x216 with 1 Axes>"
            ],
            "image/png": "[encoded data removed]"
          },
          "metadata": {}
        }
      ]
    },
    {
      "cell_type": "markdown",
      "source": [
        "Decrease an epsilon."
      ],
      "metadata": {
        "id": "QVC3qbv39vLa"
      }
    },
    {
      "cell_type": "code",
      "source": [
        "rewards = [[bandit.trigger(i)] for i in range(n_arms)]"
      ],
      "metadata": {
        "id": "b6HrJ9KL-Bfn"
      },
      "execution_count": 169,
      "outputs": []
    },
    {
      "cell_type": "code",
      "source": [
        "# mean reward for each arm\n",
        "actual_means = [arm.distribution.mean() - arm.cost for arm in bandit.arms]\n",
        "# max mean reward\n",
        "real_max_exp = max(actual_means)\n",
        "\n",
        "estimated_mean_policy = []\n",
        "real_mean_policy = []\n",
        "\n",
        "N = 100\n",
        "\n",
        "for i in range(N):\n",
        "    # choosing an action\n",
        "    action_probas = epsilon_greedy_policy(rewards, n_arms, epsilon = 1/(i+1))\n",
        "    action = np.random.choice(n_arms, size = 1, p = action_probas)[0]\n",
        "\n",
        "    # recording the results\n",
        "    estimated_mean_policy.append(np.mean(rewards[action]))\n",
        "    rewards[action].append(bandit.trigger(action))\n",
        "    real_mean_policy.append((actual_means * action_probas).sum())"
      ],
      "metadata": {
        "id": "CbHIQAw99xIg"
      },
      "execution_count": 170,
      "outputs": []
    },
    {
      "cell_type": "code",
      "source": [
        "plt.figure(figsize = (10, 3))#, dpi = 300)\n",
        "plt.plot(np.arange(N), [real_max_exp] * N)\n",
        "plt.plot(np.arange(N), estimated_mean_policy)\n",
        "plt.plot(np.arange(N), real_mean_policy)\n",
        "plt.xlabel(\"Timestamp\")\n",
        "plt.ylabel(\"Value\")\n",
        "plt.legend(['Real max mean', 'Estimated mean by policy', 'Real mean by policy'])\n",
        "plt.show()"
      ],
      "metadata": {
        "colab": {
          "base_uri": "https://localhost:8080/",
          "height": 225
        },
        "id": "papb19Q0-GNf",
        "outputId": "4b92ad6e-bc69-4a86-dce7-56e6f9627891"
      },
      "execution_count": 171,
      "outputs": [
        {
          "output_type": "display_data",
          "data": {
            "text/plain": [
              "<Figure size 720x216 with 1 Axes>"
            ],
            "image/png": "[encoded data removed]"
          },
          "metadata": {}
        }
      ]
    },
    {
      "cell_type": "markdown",
      "source": [
        "### SoftMax"
      ],
      "metadata": {
        "id": "QCM4rRmwXyCC"
      }
    },
    {
      "cell_type": "code",
      "source": [
        "from scipy.special import softmax"
      ],
      "metadata": {
        "id": "qUpl7AWqQi_M"
      },
      "execution_count": 172,
      "outputs": []
    },
    {
      "cell_type": "code",
      "source": [
        "def softmax_policy(rewards):\n",
        "    means = []\n",
        "    # mean for each action\n",
        "    for rew_list in rewards:\n",
        "        means.append(np.mean(rew_list))\n",
        "     \n",
        "    return softmax(means)"
      ],
      "metadata": {
        "id": "vG1RWcmXDlMo"
      },
      "execution_count": 173,
      "outputs": []
    },
    {
      "cell_type": "code",
      "source": [
        "rewards = [[bandit.trigger(i)] for i in range(n_arms)]"
      ],
      "metadata": {
        "id": "TBnGdi7hDvBg"
      },
      "execution_count": 174,
      "outputs": []
    },
    {
      "cell_type": "code",
      "source": [
        "# mean reward for each arm\n",
        "actual_means = [arm.distribution.mean() - arm.cost for arm in bandit.arms]\n",
        "# max mean reward\n",
        "real_max_exp = max(actual_means)\n",
        "\n",
        "estimated_mean_policy = []\n",
        "real_mean_policy = []\n",
        "\n",
        "N = 100\n",
        "\n",
        "for i in range(N):\n",
        "    # choosing an action\n",
        "    action_probas = softmax_policy(rewards)\n",
        "    action = np.random.choice(n_arms, size = 1, p = action_probas)[0]\n",
        "\n",
        "    # recording the results\n",
        "    estimated_mean_policy.append(np.mean(rewards[action]))\n",
        "    rewards[action].append(bandit.trigger(action))\n",
        "    real_mean_policy.append((actual_means * action_probas).sum())"
      ],
      "metadata": {
        "id": "6Z78G5VgDw5Y"
      },
      "execution_count": 175,
      "outputs": []
    },
    {
      "cell_type": "code",
      "source": [
        "plt.figure(figsize = (10, 3))#, dpi = 300)\n",
        "plt.plot(np.arange(N), [real_max_exp] * N)\n",
        "plt.plot(np.arange(N), estimated_mean_policy)\n",
        "plt.plot(np.arange(N), real_mean_policy)\n",
        "plt.xlabel(\"Timestamp\")\n",
        "plt.ylabel(\"Value\")\n",
        "plt.legend(['Real max mean', 'Estimated mean by policy', 'Real mean by policy'])\n",
        "plt.show()"
      ],
      "metadata": {
        "colab": {
          "base_uri": "https://localhost:8080/",
          "height": 225
        },
        "id": "lGHdJSOQDyXh",
        "outputId": "08775d68-bdca-4237-c2e2-4ed48d87f56e"
      },
      "execution_count": 176,
      "outputs": [
        {
          "output_type": "display_data",
          "data": {
            "text/plain": [
              "<Figure size 720x216 with 1 Axes>"
            ],
            "image/png": "[encoded data removed]"
          },
          "metadata": {}
        }
      ]
    },
    {
      "cell_type": "markdown",
      "source": [
        "### Task\n",
        "\n",
        "Implement Softmax with temperature policy and repeat the actions from above. Explain in your words (in text cell) why do we need to use softmax with temperature, not ordinary one. "
      ],
      "metadata": {
        "id": "4FHCjtnRFytH"
      }
    },
    {
      "cell_type": "code",
      "source": [
        "def softmax_temperature_policy(rewards):\n",
        "    T = 0.1\n",
        "    means = []\n",
        "    # mean for each action\n",
        "    for rew_list in rewards:\n",
        "        means.append(np.mean(rew_list) / T)\n",
        "     \n",
        "    return softmax(means)"
      ],
      "metadata": {
        "id": "iqUY5w30B05r"
      },
      "execution_count": 177,
      "outputs": []
    },
    {
      "cell_type": "code",
      "source": [
        "rewards = [[bandit.trigger(i)] for i in range(n_arms)]"
      ],
      "metadata": {
        "id": "u6Fv2DHVCbBl"
      },
      "execution_count": 178,
      "outputs": []
    },
    {
      "cell_type": "code",
      "source": [
        "rewards"
      ],
      "metadata": {
        "colab": {
          "base_uri": "https://localhost:8080/"
        },
        "id": "RdVUAaD7GsaM",
        "outputId": "06e4d071-ac57-4a75-db03-e43fdc503bd8"
      },
      "execution_count": 179,
      "outputs": [
        {
          "output_type": "execute_result",
          "data": {
            "text/plain": [
              "[[2], [0], [2], [-2]]"
            ]
          },
          "metadata": {},
          "execution_count": 179
        }
      ]
    },
    {
      "cell_type": "code",
      "source": [
        "# mean reward for each arm\n",
        "actual_means = [arm.distribution.mean() - arm.cost for arm in bandit.arms]\n",
        "# max mean reward\n",
        "real_max_exp = max(actual_means)\n",
        "\n",
        "estimated_mean_policy = []\n",
        "real_mean_policy = []\n",
        "\n",
        "N = 100\n",
        "\n",
        "for i in range(N):\n",
        "    # choosing an action\n",
        "    action_probas = softmax_temperature_policy(rewards)\n",
        "    action = np.random.choice(n_arms, size = 1, p = action_probas)[0]\n",
        "\n",
        "    # recording the results\n",
        "    estimated_mean_policy.append(np.mean(rewards[action]))\n",
        "    rewards[action].append(bandit.trigger(action))\n",
        "    real_mean_policy.append((actual_means * action_probas).sum())"
      ],
      "metadata": {
        "id": "MyiannigCeRM"
      },
      "execution_count": 180,
      "outputs": []
    },
    {
      "cell_type": "code",
      "source": [
        "plt.figure(figsize = (10, 3))#, dpi = 300)\n",
        "plt.plot(np.arange(N), [real_max_exp] * N)\n",
        "plt.plot(np.arange(N), estimated_mean_policy)\n",
        "plt.plot(np.arange(N), real_mean_policy)\n",
        "plt.xlabel(\"Timestamp\")\n",
        "plt.ylabel(\"Value\")\n",
        "plt.legend(['Real max mean', 'Estimated mean by policy', 'Real mean by policy'])\n",
        "plt.show()"
      ],
      "metadata": {
        "colab": {
          "base_uri": "https://localhost:8080/",
          "height": 225
        },
        "id": "sVvfao18CmFN",
        "outputId": "3e9fd636-36d8-43c2-f899-09c7af5b1225"
      },
      "execution_count": 181,
      "outputs": [
        {
          "output_type": "display_data",
          "data": {
            "text/plain": [
              "<Figure size 720x216 with 1 Axes>"
            ],
            "image/png": "[encoded data removed]"
          },
          "metadata": {}
        }
      ]
    },
    {
      "cell_type": "markdown",
      "source": [
        "As written here [https://stackoverflow.com/questions/58764619/why-should-we-use-temperature-in-softmax](https://stackoverflow.com/questions/58764619/why-should-we-use-temperature-in-softmax) the more we want to make our model confident in its predictions we should make distribution 'harder'. We need to make it convergent to *real max mean*.\n",
        "\n",
        "Каждая ручка бандита имеет своё распределение, а точнее говоря свои параметры для одного и того же типа распределения. Мы дёргаем каждую из них и получаем случайные значения из распределения (награду, которую получим). А ещё у нас есть настоящие значения средних для каждого распределения (за вычетом стоимости дёргания этой ручки). Соответственно выбираем максимальное среднее к которому должны сойтись, т.к. задача приблизиться к макисмальному среднему значению. Дальше мы хотим понять какую же ручку нам дёргать, а как мы это делаем? Сначала считаем вероятности для каждой ручки согласно выпавшим значениям наград (лучше - больше вероятность). И затем, согласно вероятностям, выбираем ручку. Т.е. первая может быть 70%, вторая, третья, четвёртая 10%. Т.е. 7 из 10 раз будем дёргать первую. Затем, предполагаемое (estimated) среднее, согласно нашей политике (softmax with temperature), будет выбрано как среднее среди всех значений, которые мы дёрнули на **выбранной ручке**. Затем там где нам показалось хорошо мы дёргаем ещё раз (чтобы в конце концов получить максимальное среднее согласно распределению (real max mean)). И потом действительное среднее (real mean) считаем как среднее, согласно распределениям (за вычетом стоимости ручки), умноженное на вероятности, которые мы получили согласно наградам на текущем шаге. *Последний шаг означает, что мы на текущем шаге (когда сколько-то раз дёрнули ручку) пытаемся понять чему будет равно наше среднее стратегии в будущем, при том, что мы уже знаем средние значения распределений. Т.е. в отличие от ожидаемого зачения (считаем вероятности какую ручку дёрнуть и среднее, которое получается в итоге для фактического распределения) нам не нужно вычислять среднее, т.к. мы знаем какие значения будут выпадать, просто не знаем какое именно возьмём. И ещё раз, это означает, что мы записываем действительные средние на каждом шаге с вероятностями, которые вычисляем согласно стратегии, что должно в конечном итоге быть таким же, как и real max mean и ожидаемое среднее. Т.е. это теоретическая оценка при наших веротяностях, а есть ещё практическая, это estimated mean, потому как на деле может выпасть любое число, а оно может не совпасть с числом из распределения.* И ещё N раз дёргаем ручку бандита, каждый раз меняя вероятности выбора ручек, согласно наградам, которые они дают. Так вот в конце концов мы не должны часто менять действие, только из за одного удачного выигрыша, а по ходу дела понимать где лучше среднее, и чтобы минимизировать вероятность у остальных последовательностей дёргания ручек, чтобы получить что-то вроде: 1-ая, 2-ая, 2-ая, 1-ая, 2-ая, 2-ая и т.д., мы просто пытаемся сделать их softmax (т.е. вероятность) меньше, а для этого мы делаем параметр temperature меньше, сильно уменьшая маленькие вероятности и увеличивая большие."
      ],
      "metadata": {
        "id": "Jq77sRcrEzMg"
      }
    },
    {
      "cell_type": "markdown",
      "source": [
        "# Bayesian"
      ],
      "metadata": {
        "id": "q6Qbm62eRbqv"
      }
    },
    {
      "cell_type": "markdown",
      "source": [
        "## Normal vs Continuous Uniform distributions"
      ],
      "metadata": {
        "id": "RFeu9fAleLhU"
      }
    },
    {
      "cell_type": "code",
      "source": [
        "import matplotlib.pyplot as plt\n",
        "import seaborn as sns\n",
        "import numpy as np\n",
        "import scipy.stats as stats\n",
        "\n",
        "sns.set_style(\"whitegrid\")"
      ],
      "metadata": {
        "id": "ahi8XH8oeSF8"
      },
      "execution_count": null,
      "outputs": []
    },
    {
      "cell_type": "code",
      "source": [
        "# parameters\n",
        "mu = 0\n",
        "variance = 1\n",
        "sigma = np.sqrt(variance)\n",
        "\n",
        "a = -2\n",
        "b = 4\n",
        "# x\n",
        "x = np.linspace(mu - 3*sigma, mu + 3*sigma, 1000)\n",
        "\n",
        "# plotting\n",
        "plt.figure(figsize = (10, 6))#, dpi = 300)\n",
        "plt.plot(x, stats.norm.pdf(x, mu, sigma))\n",
        "plt.plot(x, stats.uniform.pdf(x, a, b))\n",
        "plt.xlabel(\"x\")\n",
        "plt.ylabel(\"P(x)\")\n",
        "plt.legend(['Normal(0, 1)', 'Uniform[-2, 2]'])\n",
        "plt.show()"
      ],
      "metadata": {
        "colab": {
          "base_uri": "https://localhost:8080/",
          "height": 388
        },
        "id": "XvMNn2VNearS",
        "outputId": "f6c80dc7-abca-4766-8b73-6f43704504e0"
      },
      "execution_count": null,
      "outputs": [
        {
          "output_type": "display_data",
          "data": {
            "text/plain": [
              "<Figure size 720x432 with 1 Axes>"
            ],
            "image/png": "[encoded data removed]"
          },
          "metadata": {}
        }
      ]
    },
    {
      "cell_type": "markdown",
      "source": [
        "### Uniform case"
      ],
      "metadata": {
        "id": "3oemJ6iQgir0"
      }
    },
    {
      "cell_type": "code",
      "source": [
        "n = 100\n",
        "samples = stats.uniform.rvs(loc = a, scale = b, size=n)\n",
        "\n",
        "plt.figure(figsize = (10, 6))#, dpi = 300)\n",
        "plt.plot(x, stats.norm.pdf(x, mu, sigma))\n",
        "plt.plot(x, stats.uniform.pdf(x, a, b))\n",
        "plt.hist(samples, bins = 20, density = True, alpha = 0.3)\n",
        "plt.xlabel(\"x\")\n",
        "plt.ylabel(\"P(x)\")\n",
        "plt.legend(['Normal(0, 1)', 'Uniform[-2, 2]', 'Samples'])\n",
        "plt.show()"
      ],
      "metadata": {
        "colab": {
          "base_uri": "https://localhost:8080/",
          "height": 388
        },
        "id": "vgYE8HyNgiP9",
        "outputId": "94b8d23e-ac32-4cbf-e42a-fb08ccd7ec81"
      },
      "execution_count": null,
      "outputs": [
        {
          "output_type": "display_data",
          "data": {
            "text/plain": [
              "<Figure size 720x432 with 1 Axes>"
            ],
            "image/png": "[encoded data removed]"
          },
          "metadata": {}
        }
      ]
    },
    {
      "cell_type": "code",
      "source": [
        "# computing proba over time\n",
        "log_probabilities = [0]\n",
        "for sample in samples:\n",
        "    log_proba_norm = np.log10(stats.norm.pdf(sample, mu, sigma))\n",
        "    log_proba_unif = np.log10(stats.uniform.pdf(sample, a, b))\n",
        "    \n",
        "    last_proba = log_probabilities[-1]\n",
        "    log_probabilities.append(last_proba + log_proba_unif - log_proba_norm)"
      ],
      "metadata": {
        "id": "RQZnM9ijekj4"
      },
      "execution_count": null,
      "outputs": []
    },
    {
      "cell_type": "code",
      "source": [
        "plt.figure(figsize = (8, 3))#, dpi = 300)\n",
        "\n",
        "plt.plot(np.arange(0, 101), log_probabilities)\n",
        "plt.xlabel(\"Timestep\")\n",
        "plt.ylabel(\"Proba log10\")\n",
        "plt.legend([\"Uniform over Normal\"])\n",
        "plt.show()"
      ],
      "metadata": {
        "colab": {
          "base_uri": "https://localhost:8080/",
          "height": 226
        },
        "id": "NWTB16v2iJ_Z",
        "outputId": "ca69a383-66eb-4cf6-846f-5a951c0cf47c"
      },
      "execution_count": null,
      "outputs": [
        {
          "output_type": "display_data",
          "data": {
            "text/plain": [
              "<Figure size 576x216 with 1 Axes>"
            ],
            "image/png": "[encoded data removed]"
          },
          "metadata": {}
        }
      ]
    },
    {
      "cell_type": "markdown",
      "source": [
        "### Normal case"
      ],
      "metadata": {
        "id": "EB3d-I0Jmfcz"
      }
    },
    {
      "cell_type": "code",
      "source": [
        "n = 100\n",
        "samples = stats.norm.rvs(loc = mu, scale = sigma, size=n)"
      ],
      "metadata": {
        "id": "nRJOMuK2j8OI"
      },
      "execution_count": null,
      "outputs": []
    },
    {
      "cell_type": "code",
      "source": [
        "stats.norm(loc = mu, scale = sigma).rvs(1)"
      ],
      "metadata": {
        "colab": {
          "base_uri": "https://localhost:8080/"
        },
        "id": "KjDD3gk_3MQy",
        "outputId": "cd848397-f180-4405-ed95-27dde9ae27be"
      },
      "execution_count": null,
      "outputs": [
        {
          "output_type": "execute_result",
          "data": {
            "text/plain": [
              "array([0.57467156])"
            ]
          },
          "metadata": {},
          "execution_count": 31
        }
      ]
    },
    {
      "cell_type": "code",
      "source": [
        "probabilities = [1]\n",
        "for idx, sample in enumerate(samples):\n",
        "    if stats.uniform.pdf(sample, a, b) > 0:\n",
        "        log_proba_norm = np.log10(stats.norm.pdf(sample, mu, sigma))\n",
        "        log_proba_unif = np.log10(stats.uniform.pdf(sample, a, b))\n",
        "    \n",
        "        last_proba = np.log10(probabilities[-1])\n",
        "        probabilities.append(10**(last_proba + log_proba_unif - log_proba_norm))\n",
        "    else:\n",
        "        probabilities += [0] * (n - idx)\n",
        "        break"
      ],
      "metadata": {
        "id": "z2oIJeBdmw8o"
      },
      "execution_count": null,
      "outputs": []
    },
    {
      "cell_type": "markdown",
      "source": [
        "Generating sequence \"falling\" in specified index range:"
      ],
      "metadata": {
        "id": "0Ya5HAU3orRj"
      }
    },
    {
      "cell_type": "code",
      "source": [
        "l_bound = -1\n",
        "u_bound = 1\n",
        "\n",
        "counter = 0\n",
        "flag = True\n",
        "while flag:\n",
        "    samples = stats.norm.rvs(loc = mu, scale = sigma, size=n)\n",
        "\n",
        "    probabilities = [1]\n",
        "    for idx, sample in enumerate(samples):\n",
        "        if stats.uniform.pdf(sample, a, b) > 0:\n",
        "            log_proba_norm = np.log10(stats.norm.pdf(sample, mu, sigma))\n",
        "            log_proba_unif = np.log10(stats.uniform.pdf(sample, a, b))\n",
        "        \n",
        "            last_proba = np.log10(probabilities[-1])\n",
        "            probabilities.append(10**(last_proba + log_proba_unif - log_proba_norm))\n",
        "        else:\n",
        "            if idx > l_bound and idx < u_bound:\n",
        "                flag = False\n",
        "            probabilities += [0] * (n - idx)\n",
        "            counter += 1\n",
        "            break"
      ],
      "metadata": {
        "id": "t8_ZL4P0n6bD"
      },
      "execution_count": null,
      "outputs": []
    },
    {
      "cell_type": "code",
      "source": [
        "plt.figure(figsize = (8, 3))#, dpi = 300)\n",
        "\n",
        "plt.plot(np.arange(0, 101), probabilities)\n",
        "plt.xlabel(\"Timestep\")\n",
        "plt.ylabel(\"Proba\")\n",
        "plt.legend([\"Uniform over Normal\"])\n",
        "plt.show()"
      ],
      "metadata": {
        "colab": {
          "base_uri": "https://localhost:8080/",
          "height": 225
        },
        "id": "H9kV39qlnQP0",
        "outputId": "d2935be4-c24a-4ba8-f339-7bdc1f860046"
      },
      "execution_count": null,
      "outputs": [
        {
          "output_type": "display_data",
          "data": {
            "text/plain": [
              "<Figure size 576x216 with 1 Axes>"
            ],
            "image/png": "[encoded data removed]"
          },
          "metadata": {}
        }
      ]
    },
    {
      "cell_type": "code",
      "source": [
        "plt.figure(figsize = (10, 6))#, dpi = 300)\n",
        "plt.plot(x, stats.norm.pdf(x, mu, sigma))\n",
        "plt.plot(x, stats.uniform.pdf(x, a, b))\n",
        "plt.hist(samples, bins = 20, density = True, alpha = 0.3)\n",
        "plt.xlabel(\"x\")\n",
        "plt.ylabel(\"P(x)\")\n",
        "plt.legend(['Normal(0, 1)', 'Uniform[-2, 2]', 'Samples'])\n",
        "plt.show()"
      ],
      "metadata": {
        "colab": {
          "base_uri": "https://localhost:8080/",
          "height": 388
        },
        "id": "OyT-ZpWVnTTf",
        "outputId": "b1b64765-9685-4eb0-fcaa-8f259fefcd56"
      },
      "execution_count": null,
      "outputs": [
        {
          "output_type": "display_data",
          "data": {
            "text/plain": [
              "<Figure size 720x432 with 1 Axes>"
            ],
            "image/png": "[encoded data removed]"
          },
          "metadata": {}
        }
      ]
    },
    {
      "cell_type": "markdown",
      "source": [
        "## Bayesian MAB"
      ],
      "metadata": {
        "id": "TiolIH83PHU_"
      }
    },
    {
      "cell_type": "code",
      "source": [
        "cost = 3\n",
        "distribution = stats.randint(1, 7)\n",
        "\n",
        "bandit = UniformMultiArmedBandit(1, [cost], [distribution])"
      ],
      "metadata": {
        "id": "rQtTIL8ZVQ_x"
      },
      "execution_count": null,
      "outputs": []
    },
    {
      "cell_type": "markdown",
      "source": [
        "### First sample"
      ],
      "metadata": {
        "id": "qE7NYfkJ5BnI"
      }
    },
    {
      "cell_type": "code",
      "source": [
        "sample = bandit.trigger(0) + cost\n",
        "print(\"Returned value:\", sample)"
      ],
      "metadata": {
        "colab": {
          "base_uri": "https://localhost:8080/"
        },
        "id": "dkKmtcLN4dDx",
        "outputId": "20ef7de7-78a3-4ab2-972c-6ebdb7665b13"
      },
      "execution_count": null,
      "outputs": [
        {
          "output_type": "stream",
          "name": "stdout",
          "text": [
            "Returned value: 5\n"
          ]
        }
      ]
    },
    {
      "cell_type": "code",
      "source": [
        "from tqdm.auto import tqdm\n",
        "\n",
        "probabilities = np.ones((1000, 1000))\n",
        "\n",
        "for loc in tqdm(range(1000)):\n",
        "    for scale in range(1000):\n",
        "        probabilities[loc, scale] *= stats.randint.pmf(sample, loc, loc + 1 + scale)"
      ],
      "metadata": {
        "colab": {
          "base_uri": "https://localhost:8080/",
          "referenced_widgets": [
            "2ef0edc18657473087688f483eef1303",
            "771a3f909f004f7bbc7295bbc5f25e4f",
            "ff840045c20a432b9bbc887781133644",
            "fc2798ef5fbd422eb50aeef9f7e3cf0e",
            "78bfe9d7f4404a73aedf4abbf63ff4e3",
            "e84bd50061eb4b04a0b87a593251dfaf",
            "4ccd8e8c21984e8eb7136c895d504921",
            "196e1d94bd234c77a84d25d18af02f8a",
            "238e97a8a8ce4f729a534ebe011d06f7",
            "8ef0d39cbcc94102a18f49bbf8bb759e",
            "2d2231fe3a87443ea6c377b67be5c38a"
          ]
        },
        "id": "odayji7j5E9o",
        "outputId": "8570dc0a-1402-4ef6-b2e0-45af23aaaa25"
      },
      "execution_count": null,
      "outputs": [
        {
          "output_type": "display_data",
          "data": {
            "text/plain": [
              "  0%|          | 0/1000 [00:00<?, ?it/s]"
            ],
            "application/vnd.jupyter.widget-view+json": {
              "version_major": 2,
              "version_minor": 0,
              "model_id": "2ef0edc18657473087688f483eef1303"
            }
          },
          "metadata": {}
        }
      ]
    },
    {
      "cell_type": "code",
      "source": [
        "probabilities[sample, 0]"
      ],
      "metadata": {
        "colab": {
          "base_uri": "https://localhost:8080/"
        },
        "id": "tibXTXDy6W_A",
        "outputId": "f1b1f5f6-f8dc-496f-d510-e704912159e2"
      },
      "execution_count": null,
      "outputs": [
        {
          "output_type": "execute_result",
          "data": {
            "text/plain": [
              "1.0"
            ]
          },
          "metadata": {},
          "execution_count": 39
        }
      ]
    },
    {
      "cell_type": "code",
      "source": [
        "probabilities[sample - 1, 1]"
      ],
      "metadata": {
        "colab": {
          "base_uri": "https://localhost:8080/"
        },
        "id": "G_7xWrWJ7LGv",
        "outputId": "89216c13-6b5d-4ae3-eaa4-ff1f8ec96b2c"
      },
      "execution_count": null,
      "outputs": [
        {
          "output_type": "execute_result",
          "data": {
            "text/plain": [
              "0.5"
            ]
          },
          "metadata": {},
          "execution_count": 40
        }
      ]
    },
    {
      "cell_type": "code",
      "source": [
        "probabilities[sample, 1]"
      ],
      "metadata": {
        "colab": {
          "base_uri": "https://localhost:8080/"
        },
        "id": "mFHFBvkw7Ncw",
        "outputId": "b7f15580-7add-401d-c97a-daea84908b8d"
      },
      "execution_count": null,
      "outputs": [
        {
          "output_type": "execute_result",
          "data": {
            "text/plain": [
              "0.5"
            ]
          },
          "metadata": {},
          "execution_count": 41
        }
      ]
    },
    {
      "cell_type": "markdown",
      "source": [
        "#### Computing expectation distribution"
      ],
      "metadata": {
        "id": "fnpGA0F19YOw"
      }
    },
    {
      "cell_type": "code",
      "source": [
        "real_probas = probabilities / probabilities.sum()\n",
        "\n",
        "expected_mean_dict = {}\n",
        "\n",
        "for loc in range(1000):\n",
        "    for scale in range(1000):\n",
        "        mean = loc + scale / 2\n",
        "        # in case met first time\n",
        "        current_proba = expected_mean_dict.get(mean, 0)\n",
        "        expected_mean_dict[mean] = current_proba + real_probas[loc, scale]"
      ],
      "metadata": {
        "id": "2JAl-GWA9axo"
      },
      "execution_count": null,
      "outputs": []
    },
    {
      "cell_type": "code",
      "source": [
        "mean_proba_pairs = list(expected_mean_dict.items())\n",
        "mean_proba_pairs = np.array(sorted(mean_proba_pairs, key = lambda x: x[0]))\n",
        "\n",
        "plt.figure(figsize = (10, 3))#, dpi = 300)\n",
        "plt.plot(mean_proba_pairs[:, 0], mean_proba_pairs[:, 1])\n",
        "plt.xlim([0, 100])\n",
        "plt.xlabel(\"Expectation\")\n",
        "plt.ylabel(\"P(Expectation)\")\n",
        "plt.show()"
      ],
      "metadata": {
        "colab": {
          "base_uri": "https://localhost:8080/"
        },
        "id": "V5V13YUm-XXh",
        "outputId": "feb67dd4-5690-4017-8b38-836a83c88d2e"
      },
      "execution_count": null,
      "outputs": [
        {
          "output_type": "display_data",
          "data": {
            "text/plain": [
              "<Figure size 720x216 with 1 Axes>"
            ],
            "image/png": "[encoded data removed]"
          },
          "metadata": {}
        }
      ]
    },
    {
      "cell_type": "markdown",
      "source": [
        "#### Computing expected expectation"
      ],
      "metadata": {
        "id": "giwXZJkL84SQ"
      }
    },
    {
      "cell_type": "code",
      "source": [
        "mean_matrix = np.zeros((1000, 1000))\n",
        "for loc in range(1000):\n",
        "    for scale in range(1000):\n",
        "        mean_matrix[loc, scale] = loc + scale / 2"
      ],
      "metadata": {
        "id": "F2WVoxTm86rv"
      },
      "execution_count": null,
      "outputs": []
    },
    {
      "cell_type": "code",
      "source": [
        "mean_expectation = (real_probas * mean_matrix).sum()\n",
        "print(\"Mean expectation = \", round(mean_expectation, 4))"
      ],
      "metadata": {
        "colab": {
          "base_uri": "https://localhost:8080/"
        },
        "id": "0NQvF0-39GYY",
        "outputId": "c8cbdcc1-d47c-4c16-eeb3-1244f6347e25"
      },
      "execution_count": null,
      "outputs": [
        {
          "output_type": "stream",
          "name": "stdout",
          "text": [
            "Mean expectation =  84.8436\n"
          ]
        }
      ]
    },
    {
      "cell_type": "markdown",
      "source": [
        "### Second sample"
      ],
      "metadata": {
        "id": "jr6SBuoJ_4Lg"
      }
    },
    {
      "cell_type": "code",
      "source": [
        "sample2 = bandit.trigger(0) + cost\n",
        "print(\"Returned value:\", sample2)\n",
        "\n",
        "for loc in tqdm(range(1000)):\n",
        "    for scale in range(1000):\n",
        "        # not wasting time on 0\n",
        "        if probabilities[loc, scale]:\n",
        "            probabilities[loc, scale] *= stats.randint.pmf(sample2, loc, loc + 1 + scale)"
      ],
      "metadata": {
        "colab": {
          "base_uri": "https://localhost:8080/",
          "referenced_widgets": [
            "374f2bc204f4436c8e205ce8fe4b4a44",
            "f52dfa07101c47c1bea4965c86dcffe9",
            "3b825d46e39a4c3bab3ffb5a84540c93",
            "6e8d05b1dfd84d4f89997ba3651b7c34",
            "aa41aa4efa07477ba5bafe060785a2a5",
            "7863b55ffde7440abc0963ea11bd0b3a",
            "1357d53db28b4b90b3f7eaa0b85ab386",
            "b71196043189410ba27a24a3e3f7c225",
            "7deb65fdabfe405eae974ccf5013afba",
            "fbd82007fabc4bc691cadb518654f5a6",
            "2adf5a2f130e493eb5ab4960f12d56e0"
          ]
        },
        "id": "xTYZKeEc_6KA",
        "outputId": "89459737-8d65-4864-db7f-cce60de341ff"
      },
      "execution_count": null,
      "outputs": [
        {
          "output_type": "stream",
          "name": "stdout",
          "text": [
            "Returned value: 5\n"
          ]
        },
        {
          "output_type": "display_data",
          "data": {
            "text/plain": [
              "  0%|          | 0/1000 [00:00<?, ?it/s]"
            ],
            "application/vnd.jupyter.widget-view+json": {
              "version_major": 2,
              "version_minor": 0,
              "model_id": "374f2bc204f4436c8e205ce8fe4b4a44"
            }
          },
          "metadata": {}
        }
      ]
    },
    {
      "cell_type": "code",
      "source": [
        "max_sample = max(sample, sample2)\n",
        "probabilities[max_sample:, :].sum()"
      ],
      "metadata": {
        "colab": {
          "base_uri": "https://localhost:8080/"
        },
        "id": "69uXSlmhAxqZ",
        "outputId": "3566d965-e840-4f08-f56b-ea3e1acd6412"
      },
      "execution_count": null,
      "outputs": [
        {
          "output_type": "execute_result",
          "data": {
            "text/plain": [
              "1.6439345666815601"
            ]
          },
          "metadata": {},
          "execution_count": 47
        }
      ]
    },
    {
      "cell_type": "code",
      "source": [
        "dist = abs(sample - sample2)\n",
        "probabilities[:, :dist].sum()"
      ],
      "metadata": {
        "colab": {
          "base_uri": "https://localhost:8080/"
        },
        "id": "xdXZNr0IBlbZ",
        "outputId": "1011c198-8985-4bdc-98bb-b3ef0e597c36"
      },
      "execution_count": null,
      "outputs": [
        {
          "output_type": "execute_result",
          "data": {
            "text/plain": [
              "0.0"
            ]
          },
          "metadata": {},
          "execution_count": 48
        }
      ]
    },
    {
      "cell_type": "code",
      "source": [
        "probabilities.astype('bool').sum()"
      ],
      "metadata": {
        "colab": {
          "base_uri": "https://localhost:8080/"
        },
        "id": "V5Lh24JBB5w3",
        "outputId": "dbe80f95-5ee6-4479-ef66-0740a5521ecf"
      },
      "execution_count": null,
      "outputs": [
        {
          "output_type": "execute_result",
          "data": {
            "text/plain": [
              "5985"
            ]
          },
          "metadata": {},
          "execution_count": 49
        }
      ]
    },
    {
      "cell_type": "markdown",
      "source": [
        "#### Computing expectation distribution"
      ],
      "metadata": {
        "id": "8xGgpVSmCdCf"
      }
    },
    {
      "cell_type": "code",
      "source": [
        "real_probas = probabilities / probabilities.sum()\n",
        "\n",
        "expected_mean_dict = {}\n",
        "\n",
        "for loc in range(1000):\n",
        "    for scale in range(1000):\n",
        "        mean = loc + scale / 2\n",
        "        # in case met first time\n",
        "        current_proba = expected_mean_dict.get(mean, 0)\n",
        "        expected_mean_dict[mean] = current_proba + real_probas[loc, scale]"
      ],
      "metadata": {
        "id": "N4jMIVaOChnf"
      },
      "execution_count": null,
      "outputs": []
    },
    {
      "cell_type": "code",
      "source": [
        "mean_proba_pairs = list(expected_mean_dict.items())\n",
        "mean_proba_pairs = np.array(sorted(mean_proba_pairs, key = lambda x: x[0]))\n",
        "\n",
        "plt.figure(figsize = (10, 3))#, dpi = 300)\n",
        "plt.plot(mean_proba_pairs[:, 0], mean_proba_pairs[:, 1])\n",
        "plt.xlim([0, 100])\n",
        "plt.xlabel(\"Expectation\")\n",
        "plt.ylabel(\"P(Expectation)\")\n",
        "plt.show()"
      ],
      "metadata": {
        "colab": {
          "base_uri": "https://localhost:8080/"
        },
        "id": "3Tjhvgh3CjkA",
        "outputId": "39042e91-4974-46e9-e3fa-348006f65dae"
      },
      "execution_count": null,
      "outputs": [
        {
          "output_type": "display_data",
          "data": {
            "text/plain": [
              "<Figure size 720x216 with 1 Axes>"
            ],
            "image/png": "[encoded data removed]"
          },
          "metadata": {}
        }
      ]
    },
    {
      "cell_type": "code",
      "source": [
        "mean_expectation = (real_probas * mean_matrix).sum()\n",
        "print(\"Mean expectation = \", round(mean_expectation, 4))"
      ],
      "metadata": {
        "colab": {
          "base_uri": "https://localhost:8080/"
        },
        "id": "pOvArXUXC-Gg",
        "outputId": "acda7daa-b305-40b1-d359-7fc2ae232982"
      },
      "execution_count": null,
      "outputs": [
        {
          "output_type": "stream",
          "name": "stdout",
          "text": [
            "Mean expectation =  8.673\n"
          ]
        }
      ]
    },
    {
      "cell_type": "markdown",
      "source": [
        "### Five samples"
      ],
      "metadata": {
        "id": "2-mG3nDvDghW"
      }
    },
    {
      "cell_type": "code",
      "source": [
        "samples = [sample, sample2]\n",
        "\n",
        "for i in range(3):\n",
        "    sample = bandit.trigger(0) + cost\n",
        "    print(\"Returned value:\", sample)\n",
        "\n",
        "    for loc in tqdm(range(1000)):\n",
        "        for scale in range(1000):\n",
        "            # not wasting time on 0\n",
        "            if probabilities[loc, scale]:\n",
        "                probabilities[loc, scale] *= stats.randint.pmf(sample, loc, loc + 1 + scale)\n",
        "\n",
        "    samples.append(sample)"
      ],
      "metadata": {
        "colab": {
          "base_uri": "https://localhost:8080/",
          "referenced_widgets": [
            "235c9a6831e547a6a83a2421c4040e38",
            "79c93505ed6d44e8b401bb97771ca397",
            "5eca3d7dd6f743acb77be31487d98fe5",
            "3371b24639914ce3aabb71c617061ecd",
            "af4ec2ad4e25478c98b312eb223c4607",
            "e511277a1042405e8f7f2f7b59ca4d44",
            "798d5f926f1d4b92b8f1cd3c1102ddbd",
            "e592ee3e7fad41bc89a9274bf42b7b33",
            "ea9f3dd6b9fe416d95d5f1c2bb505b38",
            "f5f627cda1d34f7a9e4267691044ca4a",
            "8589f3433b0744ef94bfcd4b89f0355c",
            "b21adc384a7b4f568e8f07d7a745c40b",
            "8ea7d4423d15486b9097045b4f688846",
            "41c742ee44ed46469e0a24f53313dc4c",
            "ff28d3b70f0b4991b3a3bede0ab0e82a",
            "67b30c978b3a430898470d6633458b41",
            "cec26b8f02df420d8400fa46a1809d4b",
            "8d2926597e7149ac8f94d882327fc913",
            "5268b210687141818cbc18731d40fb63",
            "c5d36ab3401b4e80b0a4655b34a6fdd8",
            "f78408fab93244f3b0a7177a5cab54ea",
            "74910eddda0241268423cadc7b9d7d1a",
            "83ac06e37545418d8b7be320367c1c87",
            "0ec8c11db331439cbbc2caef94e2d138",
            "6756d214e69a4b70bcc2778c35110985",
            "29ee57e59852477eaeb1a26e00501b35",
            "4565a1be1c65450b844beccc5893eb5c",
            "3ee1d769b055427893b90f27620ef60c",
            "fedab8cd8c4141afa7a31c7d54b37fb3",
            "9f05f85150c24f8b8c0a444cae6d3c78",
            "1e15faebb38c40db8a4d6a1ab7903355",
            "42bad4085f8f462684a429195795c582",
            "7e6b064bae5246c1987905a23130c1fd"
          ],
          "height": 165
        },
        "id": "NZzMMPYADpYp",
        "outputId": "42426527-2e82-47dd-fc64-a87164c60a42"
      },
      "execution_count": null,
      "outputs": [
        {
          "output_type": "stream",
          "name": "stdout",
          "text": [
            "Returned value: 1\n"
          ]
        },
        {
          "output_type": "display_data",
          "data": {
            "text/plain": [
              "  0%|          | 0/1000 [00:00<?, ?it/s]"
            ],
            "application/vnd.jupyter.widget-view+json": {
              "version_major": 2,
              "version_minor": 0,
              "model_id": "235c9a6831e547a6a83a2421c4040e38"
            }
          },
          "metadata": {}
        },
        {
          "output_type": "stream",
          "name": "stdout",
          "text": [
            "Returned value: 2\n"
          ]
        },
        {
          "output_type": "display_data",
          "data": {
            "text/plain": [
              "  0%|          | 0/1000 [00:00<?, ?it/s]"
            ],
            "application/vnd.jupyter.widget-view+json": {
              "version_major": 2,
              "version_minor": 0,
              "model_id": "b21adc384a7b4f568e8f07d7a745c40b"
            }
          },
          "metadata": {}
        },
        {
          "output_type": "stream",
          "name": "stdout",
          "text": [
            "Returned value: 1\n"
          ]
        },
        {
          "output_type": "display_data",
          "data": {
            "text/plain": [
              "  0%|          | 0/1000 [00:00<?, ?it/s]"
            ],
            "application/vnd.jupyter.widget-view+json": {
              "version_major": 2,
              "version_minor": 0,
              "model_id": "83ac06e37545418d8b7be320367c1c87"
            }
          },
          "metadata": {}
        }
      ]
    },
    {
      "cell_type": "code",
      "source": [
        "real_probas = probabilities / probabilities.sum()\n",
        "\n",
        "expected_mean_dict = {}\n",
        "\n",
        "for loc in range(1000):\n",
        "    for scale in range(1000):\n",
        "        mean = loc + scale / 2\n",
        "        # in case met first time\n",
        "        current_proba = expected_mean_dict.get(mean, 0)\n",
        "        expected_mean_dict[mean] = current_proba + real_probas[loc, scale]"
      ],
      "metadata": {
        "id": "7a2Y8XS5D6s-"
      },
      "execution_count": null,
      "outputs": []
    },
    {
      "cell_type": "code",
      "source": [
        "mean_proba_pairs = list(expected_mean_dict.items())\n",
        "mean_proba_pairs = np.array(sorted(mean_proba_pairs, key = lambda x: x[0]))\n",
        "\n",
        "plt.figure(figsize = (10, 3))#, dpi = 300)\n",
        "plt.plot(mean_proba_pairs[:, 0], mean_proba_pairs[:, 1])\n",
        "plt.xlim([0, 100])\n",
        "plt.xlabel(\"Expectation\")\n",
        "plt.ylabel(\"P(Expectation)\")\n",
        "plt.show()"
      ],
      "metadata": {
        "colab": {
          "base_uri": "https://localhost:8080/",
          "height": 225
        },
        "id": "wRX57m_qD943",
        "outputId": "ac154ef0-674e-4a0f-e2b2-783aa67b13c5"
      },
      "execution_count": null,
      "outputs": [
        {
          "output_type": "display_data",
          "data": {
            "text/plain": [
              "<Figure size 720x216 with 1 Axes>"
            ],
            "image/png": "[encoded data removed]"
          },
          "metadata": {}
        }
      ]
    },
    {
      "cell_type": "code",
      "source": [
        "mean_expectation = (real_probas * mean_matrix).sum()\n",
        "print(\"Mean expectation = \", round(mean_expectation, 4))"
      ],
      "metadata": {
        "colab": {
          "base_uri": "https://localhost:8080/"
        },
        "id": "OJOBsSVEEHAn",
        "outputId": "cddfadbb-2b74-435d-a5d3-e11349345924"
      },
      "execution_count": null,
      "outputs": [
        {
          "output_type": "stream",
          "name": "stdout",
          "text": [
            "Mean expectation =  3.4408\n"
          ]
        }
      ]
    },
    {
      "cell_type": "markdown",
      "source": [
        "## Bayesian with prior MAB"
      ],
      "metadata": {
        "id": "IJJjgTZaPN1B"
      }
    },
    {
      "cell_type": "markdown",
      "source": [
        "### First sample"
      ],
      "metadata": {
        "id": "dZ3tNZQmPiJG"
      }
    },
    {
      "cell_type": "code",
      "source": [
        "sample = bandit.trigger(0) + cost\n",
        "print(\"Returned value:\", sample)"
      ],
      "metadata": {
        "colab": {
          "base_uri": "https://localhost:8080/"
        },
        "id": "P6y5Pw3PPaNT",
        "outputId": "2a1e522b-7cc8-4189-9163-495c2e19e438"
      },
      "execution_count": null,
      "outputs": [
        {
          "output_type": "stream",
          "name": "stdout",
          "text": [
            "Returned value: 1\n"
          ]
        }
      ]
    },
    {
      "cell_type": "code",
      "source": [
        "from tqdm.auto import tqdm\n",
        "\n",
        "prior_probabilities = np.zeros((1000, 1000))\n",
        "for i in range(1000):\n",
        "    prior_probabilities[i, :] = 1 / (i+1)\n",
        "\n",
        "for loc in tqdm(range(1000)):\n",
        "    for scale in range(1000):\n",
        "        probabilities[loc, scale] *= stats.randint.pmf(sample, loc, loc + 1 + scale)"
      ],
      "metadata": {
        "colab": {
          "base_uri": "https://localhost:8080/",
          "height": 49,
          "referenced_widgets": [
            "0b18e418db814412b169485d612d5175",
            "fd15c0d3014745808f5d409c9eba9d90",
            "f69e5ef09ae34426a49bb971a30d2422",
            "074819e9d6dc4c49a31d85992109ac61",
            "62b6510eee43430aa82062bb36c2859a",
            "afe93e54290d45098c37d2da1588a58f",
            "ac03279ffd8142839f0f2031321a6ad7",
            "2fb8176483924d7a8325c8ecf296af25",
            "c89f8da0b96e4f9a8d4066e210b8aa83",
            "f2f543f853064dbd9daff4da6425dbc6",
            "5e4296be000245589173732f2f573fd5"
          ]
        },
        "id": "L3Du0lUhPk1V",
        "outputId": "5ef9bc06-a38f-4162-c752-5b75d3a741fa"
      },
      "execution_count": null,
      "outputs": [
        {
          "output_type": "display_data",
          "data": {
            "text/plain": [
              "  0%|          | 0/1000 [00:00<?, ?it/s]"
            ],
            "application/vnd.jupyter.widget-view+json": {
              "version_major": 2,
              "version_minor": 0,
              "model_id": "0b18e418db814412b169485d612d5175"
            }
          },
          "metadata": {}
        }
      ]
    },
    {
      "cell_type": "markdown",
      "source": [
        "#### Computing expectation distribution"
      ],
      "metadata": {
        "id": "FFHftfTtP-fe"
      }
    },
    {
      "cell_type": "code",
      "source": [
        "real_probas = probabilities / probabilities.sum()\n",
        "\n",
        "expected_mean_dict = {}\n",
        "\n",
        "for loc in range(1000):\n",
        "    for scale in range(1000):\n",
        "        mean = loc + scale / 2\n",
        "        # in case met first time\n",
        "        current_proba = expected_mean_dict.get(mean, 0)\n",
        "        expected_mean_dict[mean] = current_proba + real_probas[loc, scale]"
      ],
      "metadata": {
        "id": "-_sUu1jxQWf5"
      },
      "execution_count": null,
      "outputs": []
    },
    {
      "cell_type": "code",
      "source": [
        "mean_proba_pairs = list(expected_mean_dict.items())\n",
        "mean_proba_pairs = np.array(sorted(mean_proba_pairs, key = lambda x: x[0]))\n",
        "\n",
        "plt.figure(figsize = (10, 3))#, dpi = 300)\n",
        "plt.plot(mean_proba_pairs[:, 0], mean_proba_pairs[:, 1])\n",
        "plt.xlim([0, 100])\n",
        "plt.xlabel(\"Expectation\")\n",
        "plt.ylabel(\"P(Expectation)\")\n",
        "plt.show()"
      ],
      "metadata": {
        "colab": {
          "base_uri": "https://localhost:8080/",
          "height": 225
        },
        "id": "OnS7gNhkQZ44",
        "outputId": "c6559c7a-1e84-4057-9a11-c778cdb532f5"
      },
      "execution_count": null,
      "outputs": [
        {
          "output_type": "display_data",
          "data": {
            "text/plain": [
              "<Figure size 720x216 with 1 Axes>"
            ],
            "image/png": "[encoded data removed]"
          },
          "metadata": {}
        }
      ]
    },
    {
      "cell_type": "markdown",
      "source": [
        "#### Computing expected expectation"
      ],
      "metadata": {
        "id": "ZAIvWwY-QpIa"
      }
    },
    {
      "cell_type": "code",
      "source": [
        "mean_matrix = np.zeros((1000, 1000))\n",
        "for loc in range(1000):\n",
        "    for scale in range(1000):\n",
        "        mean_matrix[loc, scale] = loc + scale / 2"
      ],
      "metadata": {
        "id": "9bM0fkMIQg14"
      },
      "execution_count": null,
      "outputs": []
    },
    {
      "cell_type": "code",
      "source": [
        "mean_expectation = (real_probas * mean_matrix).sum()\n",
        "print(\"Mean expectation = \", round(mean_expectation, 4))"
      ],
      "metadata": {
        "colab": {
          "base_uri": "https://localhost:8080/"
        },
        "id": "sWiuXWJ8Qhuy",
        "outputId": "df068ae2-16e7-43a4-9cc8-327e893ac924"
      },
      "execution_count": null,
      "outputs": [
        {
          "output_type": "stream",
          "name": "stdout",
          "text": [
            "Mean expectation =  3.2628\n"
          ]
        }
      ]
    },
    {
      "cell_type": "markdown",
      "source": [
        "### Five samples"
      ],
      "metadata": {
        "id": "PiaiwrSGQvzJ"
      }
    },
    {
      "cell_type": "code",
      "source": [
        "samples = [sample]\n",
        "\n",
        "for i in range(4):\n",
        "    sample = bandit.trigger(0) + cost\n",
        "    print(\"Returned value:\", sample)\n",
        "\n",
        "    for loc in tqdm(range(1000)):\n",
        "        for scale in range(1000):\n",
        "            # not wasting time on 0\n",
        "            if probabilities[loc, scale]:\n",
        "                probabilities[loc, scale] *= stats.randint.pmf(sample, loc, loc + 1 + scale)\n",
        "\n",
        "    samples.append(sample)"
      ],
      "metadata": {
        "colab": {
          "base_uri": "https://localhost:8080/",
          "height": 214,
          "referenced_widgets": [
            "f6d662779afb46309a395df0b27387cf",
            "b5d8b1b0163d45c4b04ea73111faf60b",
            "1276805c3ee54b5783cedc67319b8cec",
            "622346dc00804f47b660b025194b76dc",
            "53e82dcfedb04c5a987d218428a014a8",
            "75b4c078fb8e4f46a04a18f7a9ae6bed",
            "2db155b63c1949d686cd7ed2022f02ea",
            "4ad5698d9bdc440582a170af9b8196e4",
            "37ecf33f34a64cc1980c37cea3ed4590",
            "bc843c7330f048508bcf4248028eb310",
            "cd51578e4fbb43b88da49f03761f94d6",
            "eefdf6b795bf4dec9bde5ddbb4875b57",
            "187602328e1b4d55bc5feb67fa94695c",
            "8c4e0340ce8d4293bc0c74b1f9d05d5a",
            "465080e11125417993c9a5d4cd51f8fa",
            "adc40caf5b15494190a5ceb8f11e7349",
            "d6c9f145f3f2422c99cefaac8afe98c8",
            "f16b749f6b524ad2920f0570490d5840",
            "262ba3ae8ab04ede83eb8ecdd8b4f47f",
            "e053bb0bfb574ce4bf2b0a056e29129e",
            "0df9460ba3c44e028060bb35a16b502d",
            "a941ea1a9d01487ba70a14b72e06dfdc",
            "f58ae50b47cb4ef58be9b22cef3179c9",
            "18341f62596c4dc4b006b7cc2bd6b5e9",
            "43e656f949ed489caa361d14b49b7480",
            "f9380c2af7f04ab8af5cf2d89a442c99",
            "4c0596f52a9f4f349387c9a9f2d2f2ef",
            "fa275299b8f74804ae1a8c228e3b5e0d",
            "3958359e4f414274a0dbae17e5a1322e",
            "941ef81f6d9b4669b92fc9c001b869a5",
            "6027fa6fc72b4c7e9cec880f9f0fe9e2",
            "ebdb955dae0040a3bf4c0a112b26d4f0",
            "f05f4581ca374b798a66b214bc18ca01",
            "5ae6059985f443a08ea90527a35f6dcf",
            "b6fca91c1cd046ccbc370ce0c27c5c5f",
            "f1a5dcb94dfb4e41b507a41891ba67cd",
            "26425fb5f01743b49be6daaafef4a787",
            "3ac990591d9d482b960282052e4df020",
            "f4819d07db96444e856bf9ff881c7399",
            "7021383f37cf4f92be626c309e1b0711",
            "299e679527604471b0ab1f90d6a49982",
            "19c203aa6cf14ca6825f28af6812b9ee",
            "413cf01351144ad6b4fbb4c8743b401a",
            "18eb254174b1442f96204a0b9a45f39e"
          ]
        },
        "id": "5pYDN1zjQzoI",
        "outputId": "b735b7b1-659d-41e8-956f-51873f0f3123"
      },
      "execution_count": null,
      "outputs": [
        {
          "output_type": "stream",
          "name": "stdout",
          "text": [
            "Returned value: 5\n"
          ]
        },
        {
          "output_type": "display_data",
          "data": {
            "text/plain": [
              "  0%|          | 0/1000 [00:00<?, ?it/s]"
            ],
            "application/vnd.jupyter.widget-view+json": {
              "version_major": 2,
              "version_minor": 0,
              "model_id": "f6d662779afb46309a395df0b27387cf"
            }
          },
          "metadata": {}
        },
        {
          "output_type": "stream",
          "name": "stdout",
          "text": [
            "Returned value: 2\n"
          ]
        },
        {
          "output_type": "display_data",
          "data": {
            "text/plain": [
              "  0%|          | 0/1000 [00:00<?, ?it/s]"
            ],
            "application/vnd.jupyter.widget-view+json": {
              "version_major": 2,
              "version_minor": 0,
              "model_id": "eefdf6b795bf4dec9bde5ddbb4875b57"
            }
          },
          "metadata": {}
        },
        {
          "output_type": "stream",
          "name": "stdout",
          "text": [
            "Returned value: 2\n"
          ]
        },
        {
          "output_type": "display_data",
          "data": {
            "text/plain": [
              "  0%|          | 0/1000 [00:00<?, ?it/s]"
            ],
            "application/vnd.jupyter.widget-view+json": {
              "version_major": 2,
              "version_minor": 0,
              "model_id": "f58ae50b47cb4ef58be9b22cef3179c9"
            }
          },
          "metadata": {}
        },
        {
          "output_type": "stream",
          "name": "stdout",
          "text": [
            "Returned value: 1\n"
          ]
        },
        {
          "output_type": "display_data",
          "data": {
            "text/plain": [
              "  0%|          | 0/1000 [00:00<?, ?it/s]"
            ],
            "application/vnd.jupyter.widget-view+json": {
              "version_major": 2,
              "version_minor": 0,
              "model_id": "5ae6059985f443a08ea90527a35f6dcf"
            }
          },
          "metadata": {}
        }
      ]
    },
    {
      "cell_type": "code",
      "source": [
        "real_probas = probabilities / probabilities.sum()\n",
        "\n",
        "expected_mean_dict = {}\n",
        "\n",
        "for loc in range(1000):\n",
        "    for scale in range(1000):\n",
        "        mean = loc + scale / 2\n",
        "        # in case met first time\n",
        "        current_proba = expected_mean_dict.get(mean, 0)\n",
        "        expected_mean_dict[mean] = current_proba + real_probas[loc, scale]"
      ],
      "metadata": {
        "id": "t34piQuYQ7oL"
      },
      "execution_count": null,
      "outputs": []
    },
    {
      "cell_type": "code",
      "source": [
        "mean_proba_pairs = list(expected_mean_dict.items())\n",
        "mean_proba_pairs = np.array(sorted(mean_proba_pairs, key = lambda x: x[0]))\n",
        "\n",
        "plt.figure(figsize = (10, 3))#, dpi = 300)\n",
        "plt.plot(mean_proba_pairs[:, 0], mean_proba_pairs[:, 1])\n",
        "plt.xlim([0, 100])\n",
        "plt.xlabel(\"Expectation\")\n",
        "plt.ylabel(\"P(Expectation)\")\n",
        "plt.show()"
      ],
      "metadata": {
        "colab": {
          "base_uri": "https://localhost:8080/",
          "height": 225
        },
        "id": "2KLEDod-Q38A",
        "outputId": "c5dc0694-9810-4a10-dc61-9610ca0ddd44"
      },
      "execution_count": null,
      "outputs": [
        {
          "output_type": "display_data",
          "data": {
            "text/plain": [
              "<Figure size 720x216 with 1 Axes>"
            ],
            "image/png": "[encoded data removed]"
          },
          "metadata": {}
        }
      ]
    },
    {
      "cell_type": "code",
      "source": [
        "mean_expectation = (real_probas * mean_matrix).sum()\n",
        "print(\"Mean expectation = \", round(mean_expectation, 4))"
      ],
      "metadata": {
        "colab": {
          "base_uri": "https://localhost:8080/"
        },
        "id": "qFMKWbfCRAXX",
        "outputId": "9e2346c3-5685-488c-8161-67640346800c"
      },
      "execution_count": null,
      "outputs": [
        {
          "output_type": "stream",
          "name": "stdout",
          "text": [
            "Mean expectation =  3.0487\n"
          ]
        }
      ]
    },
    {
      "cell_type": "markdown",
      "source": [
        "## Task (Optional)"
      ],
      "metadata": {
        "id": "KJv9N7UFUdsR"
      }
    },
    {
      "cell_type": "markdown",
      "source": [
        "Create the best possible prior for existing initialization of distributions (when `distributions` is `None`). Explain why ypou suppose that prior you found is the best given initialisation schema. \n",
        "\n",
        "Generate 10 one-handed bandits and for each of them perform 100 steps of mean approximation using 3 priors:\n",
        "1. The best one\n",
        "2. Inverse loc \n",
        "3. Uniform prior\n",
        "\n",
        "Plot an approximation error for the expectation (MAE) at each of 100 steps for all the 3 priors. Draw a single plot, aggregating errors at steps (by mean) from all 10 bandits. "
      ],
      "metadata": {
        "id": "BnzfnGr_UiFo"
      }
    },
    {
      "cell_type": "markdown",
      "source": [
        "## Bayesian Upper Confidence Bound"
      ],
      "metadata": {
        "id": "0wCSq2_LQzEn"
      }
    },
    {
      "cell_type": "code",
      "source": [
        "from tqdm import tqdm"
      ],
      "metadata": {
        "id": "LLVByjxATXyQ"
      },
      "execution_count": null,
      "outputs": []
    },
    {
      "cell_type": "code",
      "source": [
        "bandit = UniformMultiArmedBandit(4, costs = [0] * 4)\n",
        "n_arms = 4"
      ],
      "metadata": {
        "id": "TxhidC-1TZ3_"
      },
      "execution_count": null,
      "outputs": []
    },
    {
      "cell_type": "code",
      "source": [
        "prior_probabilities = np.zeros((4, 1000, 1000))\n",
        "for i in range(1000):\n",
        "    prior_probabilities[:, i, :] = 1 / (i+1)"
      ],
      "metadata": {
        "id": "iSx0QU2qS76o"
      },
      "execution_count": null,
      "outputs": []
    },
    {
      "cell_type": "code",
      "source": [
        "rewards = [[bandit.trigger(i)] for i in range(n_arms)]"
      ],
      "metadata": {
        "id": "0FBQJleLTKv4"
      },
      "execution_count": null,
      "outputs": []
    },
    {
      "cell_type": "code",
      "source": [
        "for i in range(4):\n",
        "    for loc in tqdm(range(1000)):\n",
        "        for scale in range(1000):\n",
        "            prior_probabilities[i, loc, scale] *= stats.randint.pmf(rewards[i], loc, loc + 1 + scale)"
      ],
      "metadata": {
        "colab": {
          "base_uri": "https://localhost:8080/"
        },
        "id": "3SX8UwO-TLon",
        "outputId": "ba254c38-98a3-47ac-dd65-673b93167b1e"
      },
      "execution_count": null,
      "outputs": [
        {
          "output_type": "stream",
          "name": "stderr",
          "text": [
            "100%|██████████| 1000/1000 [00:42<00:00, 23.64it/s]\n",
            "100%|██████████| 1000/1000 [00:52<00:00, 19.07it/s]\n",
            "100%|██████████| 1000/1000 [00:39<00:00, 25.17it/s]\n",
            "100%|██████████| 1000/1000 [00:40<00:00, 24.39it/s]\n"
          ]
        }
      ]
    },
    {
      "cell_type": "code",
      "source": [
        "# mean matrix is common\n",
        "mean_matrix = np.zeros((1000, 1000))\n",
        "for loc in range(1000):\n",
        "    for scale in range(1000):\n",
        "        mean_matrix[loc, scale] = loc + scale / 2\n",
        "\n",
        "\n",
        "def bayesian_policy(probas, n_arms = 4, c = 1):\n",
        "    upper_bounds = []\n",
        "    mean_expectations = []\n",
        "    # computing mean expectation and std\n",
        "    for i in range(n_arms):\n",
        "        # computing proba for each mean\n",
        "        real_probas = probas[i] / probas[i].sum()\n",
        "\n",
        "        # mean expectation\n",
        "        mean_expectation = (real_probas * mean_matrix).sum()\n",
        "        # expectation of square - square of expectation\n",
        "        variance = mean_matrix**2 * real_probas - mean_expectation**2\n",
        "        std = variance ** 0.5\n",
        "\n",
        "        mean_expectations.append(mean_expectation)\n",
        "        upper_bounds.append(mean_expectation + c * std)\n",
        "\n",
        "    return np.argmax(upper_bounds), mean_expectations[np.argmax(upper_bounds)]\n",
        "\n",
        "def update_prediction(probas, arm_id, sample):\n",
        "    for loc in range(1000):\n",
        "        for scale in range(1000):\n",
        "            # not wasting time on 0\n",
        "            if probas[arm_id, loc, scale]:\n",
        "                probas[arm_id, loc, scale] *= stats.randint.pmf(sample, loc, loc + 1 + scale)"
      ],
      "metadata": {
        "id": "5rufXKBWSWFQ"
      },
      "execution_count": null,
      "outputs": []
    },
    {
      "cell_type": "code",
      "source": [
        "# mean reward for each arm\n",
        "actual_means = [arm.distribution.mean() - arm.cost for arm in bandit.arms]\n",
        "# max mean reward\n",
        "real_max_exp = max(actual_means)\n",
        "\n",
        "estimated_mean_policy = []\n",
        "real_mean_policy = []\n",
        "\n",
        "N = 100\n",
        "\n",
        "for i in tqdm(range(N)):\n",
        "    # choosing an action\n",
        "    action, expectation = bayesian_policy(prior_probabilities, 4, 10)\n",
        "    reward = bandit.trigger(action)\n",
        "    # updating prediction\n",
        "    update_prediction(prior_probabilities, action, reward)\n",
        "\n",
        "    # recording the results\n",
        "    estimated_mean_policy.append(expectation)\n",
        "    rewards[action].append(reward)\n",
        "    real_mean_policy.append(actual_means[action])"
      ],
      "metadata": {
        "colab": {
          "base_uri": "https://localhost:8080/"
        },
        "id": "mYGCKVxtSLER",
        "outputId": "0b1073b6-0be2-45a5-c51b-a306ae613be6"
      },
      "execution_count": null,
      "outputs": [
        {
          "output_type": "stream",
          "name": "stderr",
          "text": [
            "  0%|          | 0/100 [00:00<?, ?it/s]/usr/local/lib/python3.7/dist-packages/ipykernel_launcher.py:20: RuntimeWarning: invalid value encountered in sqrt\n",
            "100%|██████████| 100/100 [01:09<00:00,  1.45it/s]\n"
          ]
        }
      ]
    },
    {
      "cell_type": "code",
      "source": [
        "plt.figure(figsize = (10, 3))#, dpi = 300)\n",
        "plt.plot(np.arange(N), [real_max_exp] * N, )\n",
        "plt.plot(np.arange(N), estimated_mean_policy)\n",
        "plt.plot(np.arange(N), real_mean_policy)\n",
        "plt.xlabel(\"Timestamp\")\n",
        "plt.ylabel(\"Value\")\n",
        "plt.legend(['Real max mean', 'Estimated mean by policy', 'Real mean by policy'])\n",
        "plt.show()"
      ],
      "metadata": {
        "colab": {
          "base_uri": "https://localhost:8080/",
          "height": 225
        },
        "id": "hRPk19ZBa7Xo",
        "outputId": "14979d39-4a97-41aa-be63-df29f6f1ca51"
      },
      "execution_count": null,
      "outputs": [
        {
          "output_type": "display_data",
          "data": {
            "text/plain": [
              "<Figure size 720x216 with 1 Axes>"
            ],
            "image/png": "[encoded data removed]"
          },
          "metadata": {}
        }
      ]
    },
    {
      "cell_type": "code",
      "source": [
        "plt.figure(figsize = (10, 3))#, dpi = 300)\n",
        "plt.plot(np.arange(10, N), [real_max_exp] * (N - 10))\n",
        "plt.plot(np.arange(10, N), estimated_mean_policy[10:])\n",
        "plt.plot(np.arange(10, N), real_mean_policy[10:])\n",
        "plt.xlabel(\"Timestamp\")\n",
        "plt.ylabel(\"Value\")\n",
        "plt.legend(['Real max mean', 'Estimated mean by policy', 'Real mean by policy'])\n",
        "plt.show()"
      ],
      "metadata": {
        "colab": {
          "base_uri": "https://localhost:8080/",
          "height": 225
        },
        "id": "SPR_RaawZ8rD",
        "outputId": "5399489f-b615-4c84-c1b6-de17ccc141f9"
      },
      "execution_count": null,
      "outputs": [
        {
          "output_type": "display_data",
          "data": {
            "text/plain": [
              "<Figure size 720x216 with 1 Axes>"
            ],
            "image/png": "[encoded data removed]"
          },
          "metadata": {}
        }
      ]
    }
  ]
}