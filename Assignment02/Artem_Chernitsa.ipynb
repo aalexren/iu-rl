{
  "cells": [
    {
      "cell_type": "markdown",
      "metadata": {
        "id": "kr5ohicqUu8J"
      },
      "source": [
        "<h1> Assignment #2 </h1>\n",
        "\n",
        "You have to move several cargos across the gridworld into a common desirable rectangle area. There are several cargos, you can move each of them either horizontally or vertically by one cell up or down. Size of the overall world may vary, as well as placement of the cargos and desirable area. The game ends when all the cargos are in the desirable area and do not overlap.\n",
        "\n",
        "Reward function: \n",
        "* for each cell of cargo placed in desirable area in the end of the turn, reward is $+1$\n",
        "* for each cell where cargos overlap in the end of the turn, reward is $-1$\n",
        "\n",
        "---\n",
        "\n",
        "Submit `{name}_{surname}.zip` file containing:\n",
        "* `{name}_{surname}.ipynb` with code for learning your model using your realisation of environment\n",
        "* `{name}_{surname}.py` script with `complete_task(path_to_infile, path_to_outfile)` function\n",
        "* report `{name}_{surname}.pdf`, containing information on:\n",
        "  * choice of the environment representation used for the model training\n",
        "  * way of training environment generation\n",
        "  * architecture choice for the neural network you use for the prediction"
      ]
    },
    {
      "cell_type": "markdown",
      "metadata": {
        "id": "LcYYDr7kcIam"
      },
      "source": [
        "## Input of the script"
      ]
    },
    {
      "cell_type": "markdown",
      "metadata": {
        "id": "SmbAGt_ldNvo"
      },
      "source": [
        "`{infile}.txt` file with the field description. Elements of the field are separated by space. For example: \n",
        "\n",
        "```\n",
        "0 0 2 2 0\n",
        "0 r r r 0\n",
        "0 r r r 1\n",
        "0 r r r 1\n",
        "0 0 0 0 1\n",
        "```\n",
        "\n",
        "* `0` - blank space, we may move objects here\n",
        "* `r` - desirable area, we should move objects here\n",
        "* `1`, `2`, ... - actual object shapes, does not change, moved as a solid object"
      ]
    },
    {
      "cell_type": "markdown",
      "metadata": {
        "id": "5yMWo5Q2c8W6"
      },
      "source": [
        "In your output file, you have to record lines in the following manner: `{id} {D/U/R/L}`. For the given example, possible sequence of steps is:\n",
        "```\n",
        "2 D\n",
        "1 L\n",
        "1 U\n",
        "2 L\n",
        "```\n",
        "\n",
        "Here the rewards are: \n",
        "1. +2 for 2 cells of `2`\n",
        "2. +4 for 2 cells of `2` and 2 cells of `1`\n",
        "3. +3 (= +4 - 1) for 2 cells of `2` and 2 cells of `1` and -1 overlapping cell \n",
        "4. **The end**"
      ]
    },
    {
      "cell_type": "markdown",
      "metadata": {
        "id": "9xrsmm3XiBtZ"
      },
      "source": [
        "## Output of the script"
      ]
    },
    {
      "cell_type": "markdown",
      "metadata": {
        "id": "_QaxbsfBiHm3"
      },
      "source": [
        "Sequence of actions, written in `{outfile}.txt`. Rewrite it after each 100th action, please, and after you rich the final position."
      ]
    },
    {
      "cell_type": "markdown",
      "metadata": {
        "id": "LIPL3jQ2vgYH"
      },
      "source": [
        "# Solution"
      ]
    },
    {
      "cell_type": "code",
      "execution_count": null,
      "metadata": {
        "id": "2I7bZohu06K3"
      },
      "outputs": [],
      "source": [
        "from typing import List, Tuple, Dict\n",
        "from functools import lru_cache\n",
        "\n",
        "import numpy as np\n",
        "import random\n",
        "\n",
        "import torch.nn as nn\n",
        "import torch\n",
        "\n",
        "from tqdm.auto import tqdm\n",
        "from matplotlib import pyplot as plt"
      ]
    },
    {
      "cell_type": "code",
      "execution_count": null,
      "metadata": {
        "id": "fZ00UnxH_olz"
      },
      "outputs": [],
      "source": [
        "STATE_SIZE = 9\n",
        "ACTIONS_SIZE = 4\n",
        "HIDDEN_LAYER_SIZE = 2 ** STATE_SIZE\n",
        "\n",
        "\n",
        "class DQN(nn.Module):\n",
        "    def __init__(self):\n",
        "        super().__init__()\n",
        "        self.input = nn.Linear(STATE_SIZE, HIDDEN_LAYER_SIZE)\n",
        "        self.hidden_1 = nn.Linear(HIDDEN_LAYER_SIZE, HIDDEN_LAYER_SIZE // 2)\n",
        "        self.hidden_2 = nn.Linear(HIDDEN_LAYER_SIZE // 2, HIDDEN_LAYER_SIZE // 2)\n",
        "        self.output = nn.Linear(HIDDEN_LAYER_SIZE // 2, ACTIONS_SIZE)\n",
        "\n",
        "        self.relu = nn.ReLU()\n",
        "        self.softmax = nn.Softmax(dim=0)\n",
        "    \n",
        "\n",
        "    def forward(self, x):\n",
        "        x = self.input(x)\n",
        "        x = self.relu(self.hidden_1(x))\n",
        "        x = self.relu(self.hidden_2(x))\n",
        "        x = self.output(x)\n",
        "        \n",
        "        return self.softmax(x)\n",
        "\n",
        "device = torch.device('cuda' if torch.cuda.is_available() else 'cpu')\n",
        "DQNModel = DQN().to(device)"
      ]
    },
    {
      "cell_type": "code",
      "execution_count": null,
      "metadata": {
        "id": "QlIOLqr-zQVB"
      },
      "outputs": [],
      "source": [
        "class GridWorld:\n",
        "    \n",
        "    class Cargo:\n",
        "        def __init__(self, name: int, coordinates: List[Tuple], world):\n",
        "            self.name = name\n",
        "            self.coordinates = coordinates\n",
        "            self.init_coordinates = self.coordinates[:] # for resetting world\n",
        "            self.boundaries = self.__get_cargo_boundaries()\n",
        "            self.world = world\n",
        "            self.reward = 0\n",
        "        \n",
        "\n",
        "        def reset(self):\n",
        "            \"\"\"\n",
        "            Возвращаем груз в исходное положение для обучения в следующей эпохе.\n",
        "            \"\"\"\n",
        "            self.coordinates = self.init_coordinates[:]\n",
        "            self.boundaries = self.__get_cargo_boundaries()\n",
        "            self.reward = 0\n",
        "\n",
        "\n",
        "        def move(self, action):\n",
        "            \"\"\"\n",
        "            Двигаем груз в одном из четырёх направлений, если возможно.\n",
        "            \"\"\"\n",
        "            actions = {\n",
        "                \"L\": (0, -1),\n",
        "                \"R\": (0, +1),\n",
        "                \"U\": (-1, 0),\n",
        "                \"D\": (+1, 0)\n",
        "            }\n",
        "\n",
        "            new_coords = []\n",
        "            for cell in self.coordinates:\n",
        "                r, c = cell\n",
        "                dr, dc = actions[action]\n",
        "                \n",
        "                # если не можем двигаться туда, то остаёмся на месте\n",
        "                if self.is_move_possible(action):\n",
        "                    new_coords.append((r + dr, c + dc))\n",
        "                else:\n",
        "                    return self.coordinates\n",
        "            \n",
        "            # обновляем границы груза, чтобы не вычислять их заново за О(n)\n",
        "            (ur, uc), (dr, dc) = self.boundaries\n",
        "            ur, uc = ur + actions[action][0], uc + actions[action][1]\n",
        "            dr, dc = dr + actions[action][0], dc + actions[action][1]\n",
        "            self.boundaries = (ur, uc), (dr, dc)\n",
        "\n",
        "            \n",
        "            self.coordinates = new_coords\n",
        "            return new_coords\n",
        "\n",
        "\n",
        "        def is_move_possible(self, action) -> bool:\n",
        "            actions = {\n",
        "                \"L\": (0, -1),\n",
        "                \"R\": (0, +1),\n",
        "                \"U\": (-1, 0),\n",
        "                \"D\": (+1, 0)\n",
        "            }\n",
        "            rd, cd = actions[action]\n",
        "            cargo = [(r + rd, c + cd) for r, c in self.coordinates]\n",
        "            \n",
        "            in_boundaries = all(\n",
        "                map(lambda el: 0 <= el[0] < self.world.r and 0 <= el[1] < self.world.c, cargo)\n",
        "            )\n",
        "            if not in_boundaries:\n",
        "                return False\n",
        "            \n",
        "            return True\n",
        "\n",
        "\n",
        "        def __get_cargo_boundaries(self) -> Tuple:\n",
        "            \"\"\"\n",
        "            Возвращает координаты верхнего левого и правого нижнего углов\n",
        "            груза, достроенного до прямоугольника.\n",
        "            \"\"\"\n",
        "            ur = min(self.coordinates, key=lambda x: x[0])[0]\n",
        "            uc = min(self.coordinates, key=lambda x: x[1])[1]\n",
        "            dr = max(self.coordinates, key=lambda x: x[0])[0]\n",
        "            dc = max(self.coordinates, key=lambda x: x[1])[1]\n",
        "            return (ur, uc), (dr, dc)\n",
        "\n",
        "\n",
        "    def __init__(self, n: int, m: int,\n",
        "                 default_reward: int,\n",
        "                 cargos: List[Tuple[int, int, int]],\n",
        "                 desirable_area: List[Tuple[int, int]]):\n",
        "        self.r = n # number of rows\n",
        "        self.c = m # number of columns\n",
        "        self.board = [(r, c) for r in range(n) for c in range(m)]\n",
        "        self.cargos = self.__get_cargos(cargos)\n",
        "        self.desirable_area = desirable_area\n",
        "        self.default_reward = default_reward\n",
        "\n",
        "\n",
        "    def reset(self):\n",
        "        \"\"\"\n",
        "        Возвращает все грузы на их исходное местоположение.\n",
        "        \"\"\"\n",
        "        for cargo_name in self.cargos:\n",
        "            self.cargos[cargo_name].reset()\n",
        "\n",
        "\n",
        "    def make_step(self) -> Tuple:\n",
        "        \"\"\"\n",
        "        Выбирает груз, который будет передвинут и возвращает состояние\n",
        "        среды относительно него.\n",
        "        \"\"\"\n",
        "        # for cargo_name, cargo in self.cargos.items():\n",
        "        #     # если у груза максимальная награда, то его не надо двигать пока,\n",
        "        #     # надо поискать другой груз, который нужно подвинуть\n",
        "        #     if self.compute_cargo_reward(cargo_name) != len(cargo.coordinates):\n",
        "        #         return self.get_state(cargo_name), cargo_name\n",
        "        \n",
        "        names = tuple(self.cargos.keys())\n",
        "        cargo_name = random.choice(names)\n",
        "        return self.get_state(cargo_name), cargo_name\n",
        "\n",
        "\n",
        "    def move_cargo(self, name, action):\n",
        "        self.cargos[name].move(action)\n",
        "        self.cargos[name].reward -= self.default_reward # даём награду за ход\n",
        "\n",
        "\n",
        "    def get_state(self, cargo_name) -> Tuple:\n",
        "        \"\"\"\n",
        "        Возвращает кортеж из угловых координат терминальной зоны,\n",
        "        угловых координат груза (вписанного в прямоугольник),\n",
        "        награду для этого груза (части в терминальной зоне\n",
        "        за вычетом пересечений с этим грузом).\n",
        "        \"\"\"\n",
        "        return (\n",
        "            self.get_desirable_area_boundaries(), \n",
        "            self.cargos[cargo_name].boundaries,\n",
        "            self.compute_cargo_reward(cargo_name)\n",
        "        )\n",
        "\n",
        "\n",
        "    def compute_cargo_reward(self, cargo_name):\n",
        "        \"\"\"\n",
        "        Вычисляет награду по количеству вошедших в терминальную зону частей\n",
        "        груза, за вычетом пересечений с другими грузами. Персечения учитываются\n",
        "        по всему миру, а не только по терминальной зоне.\n",
        "        \"\"\"\n",
        "        area_lub, area_rdb = self.get_desirable_area_boundaries()\n",
        "        cells = self.cargos[cargo_name].coordinates\n",
        "        in_boundaries = sum(map(lambda cell: \n",
        "                    area_lub[0] <= cell[0] <= area_rdb[0] and \n",
        "                    area_lub[1] <= cell[1] <= area_rdb[1],\n",
        "                    cells))\n",
        "        \n",
        "        intersections = {cell: 0 for cell in cells}\n",
        "        for name, cargo in self.cargos.items():\n",
        "            if name == cargo_name:\n",
        "                continue\n",
        "            for cell in cargo.coordinates:\n",
        "                if cell in intersections:\n",
        "                    intersections[cell] += 1\n",
        "        \n",
        "        # Несколько пересечений в одной точке суммируются\n",
        "        return in_boundaries - sum(intersections.values())\n",
        "\n",
        "\n",
        "    def check_terminate(self) -> bool:\n",
        "        \"\"\"\n",
        "        Проверяет входят ли все грузы в терминальную зону без пересечений.\n",
        "        \"\"\"\n",
        "        area_lub, area_rdb = self.get_desirable_area_boundaries()\n",
        "        for cargo in self.cargos.values():\n",
        "            cells = cargo.coordinates\n",
        "            in_boundaries = all(\n",
        "                map(lambda cell: \n",
        "                    area_lub[0] <= cell[0] <= area_rdb[0] and \n",
        "                    area_lub[1] <= cell[1] <= area_rdb[1],\n",
        "                    cells)\n",
        "            )\n",
        "            if not in_boundaries:\n",
        "                return False\n",
        "        \n",
        "        intersections = set()\n",
        "        for cargo in self.cargos.values():\n",
        "            for cell in cargo.coordinates:\n",
        "                if cell not in intersections:\n",
        "                    intersections.add(cell)\n",
        "                else:\n",
        "                    return False\n",
        "\n",
        "        return True\n",
        "\n",
        "\n",
        "    @lru_cache()\n",
        "    def get_desirable_area_boundaries(self) -> Tuple:\n",
        "        \"\"\"\n",
        "        Возвращает координаты правого верхнего и левого нижнего углов,\n",
        "        по которым можно уникально определить расположение терминальной зоны.\n",
        "        \"\"\"\n",
        "        return min(self.desirable_area), max(self.desirable_area)\n",
        "\n",
        "\n",
        "    def __get_cargos(self, cargos) -> Dict[int, Cargo]:\n",
        "        \"\"\"\n",
        "        Создаёт список объектов грузов по именованным координатам.\n",
        "        \"\"\"\n",
        "        names = set()\n",
        "        for name, *_ in cargos:\n",
        "            names.add(name)\n",
        "        \n",
        "        tf_cargos = {}\n",
        "        for name in names:\n",
        "            coordinates = list(\n",
        "                map(lambda x: (x[1], x[2]), filter(lambda x: x[0] == name, cargos))\n",
        "            )\n",
        "            tf_cargos[name] = (self.Cargo(name, coordinates, self))\n",
        "\n",
        "        return tf_cargos\n",
        "\n",
        "\n",
        "    def __str__(self):\n",
        "        board = np.full((self.r, self.c), '0', dtype=str)\n",
        "        \n",
        "        for cell in self.desirable_area:\n",
        "            board[cell] = 'r'\n",
        "        \n",
        "        for name, cargo in self.cargos.items():\n",
        "            for cell in cargo.coordinates:\n",
        "                board[cell] = str(cargo.name)\n",
        "        \n",
        "        return str(board)\n",
        "\n",
        "\n",
        "    def __repr__(self):\n",
        "        return str(self)"
      ]
    },
    {
      "cell_type": "code",
      "execution_count": null,
      "metadata": {
        "id": "CpH2QPix--jN"
      },
      "outputs": [],
      "source": [
        "def load_world(n, m, grid) -> GridWorld:\n",
        "    cargos = []\n",
        "    desirable_area = []\n",
        "    for i in range(n):\n",
        "        for j in range(m):\n",
        "            if grid[i][j] == 'r':\n",
        "                desirable_area.append((i, j))\n",
        "            elif grid[i][j] != '0':\n",
        "                cargos.append((int(grid[i][j]), i, j))\n",
        "    \n",
        "    return GridWorld(n, m, default_reward=0, cargos=cargos, desirable_area=desirable_area)"
      ]
    },
    {
      "cell_type": "code",
      "execution_count": null,
      "metadata": {
        "colab": {
          "base_uri": "https://localhost:8080/"
        },
        "id": "ZWYzIeBiD_14",
        "outputId": "2c53d44a-ba5a-43ae-d772-5a8a72057226"
      },
      "outputs": [
        {
          "output_type": "stream",
          "name": "stdout",
          "text": [
            "[['0' '0' '0' '0' '0' '0']\n",
            " ['0' '0' '0' '0' '0' '0']\n",
            " ['0' 'r' 'r' 'r' '0' '0']\n",
            " ['0' 'r' 'r' 'r' '0' '0']\n",
            " ['0' '0' '0' '0' '0' '0']\n",
            " ['0' '0' '0' '0' '0' '0']\n",
            " ['0' '0' '0' '0' '0' '0']\n",
            " ['0' '0' '0' '0' '2' '2']\n",
            " ['0' '0' '0' '0' '2' '2']]\n"
          ]
        }
      ],
      "source": [
        "# 0 0 2 2 0\n",
        "# 0 r r r 0\n",
        "# 0 r r r 1\n",
        "# 0 r r r 1\n",
        "# 0 0 0 0 1\n",
        "\n",
        "# cargos = [(2, 0, 2), (2, 0, 3)]#, (1, 2, 4), (1, 3, 4), (1, 4, 4)]\n",
        "# desirable_area = [(6, 0), (6, 1), (7, 0), (7, 1)]\n",
        "# desirable_area = [(3, 1), (3, 2), (3, 3), (2, 1), (2, 2), (2, 3), (4, 1), (4, 2), (4, 3)]\n",
        "\n",
        "# world = GridWorld(5, 5, default_reward=-1, cargos=cargos, desirable_area=desirable_area)\n",
        "\n",
        "grid = []\n",
        "with open(f'infile.txt', 'r') as f:\n",
        "    for line in f:\n",
        "        grid.append(line.split())\n",
        "\n",
        "n, m = len(grid), len(grid[0])\n",
        "world = load_world(n, m, grid)\n",
        "# world.move_cargo(2, 'R')\n",
        "# print(world.get_desirable_area_boundaries())\n",
        "# print(world.cargos[1].get_cargo_boundaries())\n",
        "# world.move_cargo(1, 'L')\n",
        "# world.move_cargo(1, 'U')\n",
        "# world.move_cargo(2, 'L')\n",
        "# world.move_cargo(2, 'D')\n",
        "# print(world.check_terminate())\n",
        "# print(world.compute_cargo_reward(2))\n",
        "# print(world.cargos[2].get_cargo_boundaries())\n",
        "print(world)"
      ]
    },
    {
      "cell_type": "markdown",
      "metadata": {
        "id": "KAlmCPVA-U4l"
      },
      "source": [
        "## Цикл обучения"
      ]
    },
    {
      "cell_type": "code",
      "execution_count": null,
      "metadata": {
        "id": "MBttjJA1-5WQ"
      },
      "outputs": [],
      "source": [
        "MAX_TRAJECTORIES = 100\n",
        "MAX_STEPS = 1000\n",
        "\n",
        "learning_rate = 0.003\n",
        "model = DQNModel\n",
        "optimizer = torch.optim.Adam(model.parameters(), lr=learning_rate)\n",
        "gamma = 0.5\n",
        "score = []"
      ]
    },
    {
      "cell_type": "code",
      "execution_count": null,
      "metadata": {
        "colab": {
          "base_uri": "https://localhost:8080/",
          "height": 49,
          "referenced_widgets": [
            "680ca63290f14db5935d1644f776f532",
            "065e20f0fa2745849b469db65cc0587a",
            "846eabb0525b4b03b66a6185396147b5",
            "cc357bc337904bf391d63bb0526c53a3",
            "dba97a00d638488aac0bc002d3387906",
            "4167032e6c6d4256b66f7e48a5b11e91",
            "e3d191b4abd549418940c5c0af67b784",
            "98237564b16a44bba6267c92f25b4fca",
            "954462d81f934f599094ff9049b9ad54",
            "3d4017c7b34a419e9508dea93fe10789",
            "b5615ba878334cc897b131b764f4c30b"
          ]
        },
        "id": "YGiVVzbg-XDk",
        "outputId": "8f4dc732-2fc7-479f-93e8-9942733e9a4f"
      },
      "outputs": [
        {
          "output_type": "display_data",
          "data": {
            "text/plain": [
              "  0%|          | 0/100 [00:00<?, ?it/s]"
            ],
            "application/vnd.jupyter.widget-view+json": {
              "version_major": 2,
              "version_minor": 0,
              "model_id": "680ca63290f14db5935d1644f776f532"
            }
          },
          "metadata": {}
        }
      ],
      "source": [
        "def flatten_state(state):\n",
        "    if isinstance(state, tuple):\n",
        "        for x in state:\n",
        "            yield from flatten_state(x)\n",
        "    else:\n",
        "        yield state\n",
        "\n",
        "count_success = 0\n",
        "for trajectory in tqdm(range(MAX_TRAJECTORIES)):\n",
        "    world.reset()\n",
        "    curr_state, cargo_name = world.make_step()\n",
        "    curr_state = np.array(list(flatten_state(curr_state)))\n",
        "    transitions = []\n",
        "    # iterating the trajectory\n",
        "    for t in range(MAX_STEPS):\n",
        "        act_prob = model(torch.from_numpy(curr_state).float()).data.numpy()\n",
        "        directions = ['L', 'R', 'U', 'D']\n",
        "        action = np.random.choice(\n",
        "            np.array(directions),\n",
        "            p=act_prob\n",
        "            )\n",
        "        while len(directions) > 1 and not world.cargos[cargo_name].is_move_possible(action):\n",
        "            escape = np.argmax(act_prob)\n",
        "            directions.pop(escape)\n",
        "            escape_prob = act_prob[escape]\n",
        "            act_prob = np.array([act_prob[i] for i in range(len(act_prob)) if i != escape])\n",
        "            act_prob += escape_prob / len(directions)\n",
        "            action = np.random.choice(\n",
        "                np.array(directions),\n",
        "                p=act_prob\n",
        "            )\n",
        "            # action = directions[np.argmax(act_prob)]\n",
        "        # print(f\"{cargo_name} {action}\")\n",
        "        prev_state = curr_state\n",
        "        prev_cargo_name = cargo_name\n",
        "        world.move_cargo(cargo_name, action) # реализуем действие\n",
        "        transitions.append((prev_state, prev_cargo_name, action, t + 1))\n",
        "\n",
        "        curr_state, cargo_name = world.make_step() # выбираем новый случайный груз\n",
        "        curr_state = np.array(list(flatten_state(curr_state)))\n",
        "\n",
        "        # проверка для всех грузов, может проверять только для одного?\n",
        "        if world.check_terminate():\n",
        "            break\n",
        "    \n",
        "    # print(world)\n",
        "    # iters until fallen\n",
        "    score.append(len(transitions))\n",
        "    reward_batch = torch.Tensor([s[8] for (s, n, a, t) in \n",
        "                   transitions]).flip(dims=(0,)) # reward is 9th position\n",
        "    \n",
        "    # fast computations using top-down approach\n",
        "    batch_Gvals = []\n",
        "    batch_Gvals = [reward_batch[len(transitions) - 1]]\n",
        "    for i in range(1, len(transitions)):\n",
        "        batch_Gvals.append(\n",
        "            batch_Gvals[i - 1] * gamma + reward_batch[len(transitions) - i - 1]\n",
        "            )\n",
        "    batch_Gvals.reverse()\n",
        "\n",
        "    expected_returns_batch = torch.FloatTensor(batch_Gvals)\n",
        "    # expected_returns_batch /= expected_returns_batch.min()\n",
        "\n",
        "    \n",
        "    state_batch = torch.Tensor(np.array([s for (s, n, a, r) in transitions]))\n",
        "    action_map = {'L': 0, 'R': 1, 'U': 2, 'D': 3}\n",
        "    action_batch = torch.Tensor(np.array([action_map[a] for (s, n, a, r) in transitions]))\n",
        "\n",
        "    pred_batch = model(state_batch)\n",
        "    prob_batch = pred_batch.gather(dim=1,index=action_batch\n",
        "                 .long().view(-1,1)).squeeze()\n",
        "\n",
        "    # so, compute the gradient\n",
        "    loss = -torch.sum(torch.log(prob_batch) * expected_returns_batch) \n",
        "    \n",
        "    optimizer.zero_grad()\n",
        "    loss.backward()\n",
        "    optimizer.step()"
      ]
    },
    {
      "cell_type": "code",
      "execution_count": null,
      "metadata": {
        "colab": {
          "base_uri": "https://localhost:8080/",
          "height": 318
        },
        "id": "PnO7WAU7Wts6",
        "outputId": "9eed306a-7f7c-485f-fd2d-4dc7078d87af"
      },
      "outputs": [
        {
          "output_type": "display_data",
          "data": {
            "text/plain": [
              "<Figure size 1080x504 with 1 Axes>"
            ],
            "image/png": "[encoded data removed]"
          },
          "metadata": {
            "needs_background": "light"
          }
        }
      ],
      "source": [
        "def running_mean(x):\n",
        "    N = MAX_TRAJECTORIES // 2\n",
        "    kernel = np.ones(N)\n",
        "    conv_len = x.shape[0]-N\n",
        "    y = np.zeros(conv_len)\n",
        "\n",
        "    shift = int(N/2)\n",
        "    for i in range(shift, conv_len + shift):\n",
        "        y[i - shift] = kernel @ x[i-shift:i+shift]\n",
        "        y[i - shift] /= N\n",
        "    return y\n",
        "\n",
        "score = np.array(score)\n",
        "avg_score = running_mean(score)\n",
        "\n",
        "plt.figure(figsize=(15,7))\n",
        "plt.ylabel(\"Trajectory Length\",fontsize=12)\n",
        "plt.xlabel(\"Training Epochs\",fontsize=12)\n",
        "plt.plot(score, color='gray' , linewidth=1)\n",
        "# plt.plot(np.arange(0, len(avg_score)), avg_score, color='blue', linewidth=3)\n",
        "plt.scatter(np.arange(score.shape[0]),score, \n",
        "            color='green' , linewidth=0.3)\n",
        "plt.show()"
      ]
    },
    {
      "cell_type": "code",
      "execution_count": null,
      "metadata": {
        "colab": {
          "base_uri": "https://localhost:8080/"
        },
        "id": "lP0g_04QdhJR",
        "outputId": "918f2d2d-b9d8-4a21-cd79-157a18baef7a"
      },
      "outputs": [
        {
          "output_type": "stream",
          "name": "stdout",
          "text": [
            "[ 89  47  58 185 106 155  76  22  27  86  76  18  32  54  22  17  50  26\n",
            "  94 130  10  10  44   8  14  62 206 316 286  66 508  24  18 897 122 114\n",
            " 478  20  96  48  26  12  65  49  26  58  14  18  41 141  85  59  67  70\n",
            "  24  54  10  18  95  51  20  14  16  12  18  26   7  10  11  18   8   8\n",
            "   8  10   7   8   8   9   8   9   9  10  12  18   8   8  10   8  10   8\n",
            "  10   8   8   7   7   7   7   8   7   8]\n"
          ]
        }
      ],
      "source": [
        "print(score)"
      ]
    },
    {
      "cell_type": "code",
      "execution_count": null,
      "metadata": {
        "id": "YHjT8mflZHF8"
      },
      "outputs": [],
      "source": [
        "torch.save(model.state_dict(), 'model_v1.pt')"
      ]
    },
    {
      "cell_type": "markdown",
      "metadata": {
        "id": "9ctPp6QU2NpS"
      },
      "source": [
        "## Работа с файловым вводом/выводом"
      ]
    },
    {
      "cell_type": "code",
      "execution_count": null,
      "metadata": {
        "id": "LJp4oDgNvaX4"
      },
      "outputs": [],
      "source": [
        "def complete_task(infile, outfile):\n",
        "    grid = []\n",
        "    with open(f'{infile}.txt', 'r') as f:\n",
        "        for line in f:\n",
        "            grid.append(line.split())\n",
        "    \n",
        "    n, m = len(grid), len(grid[0])\n",
        "    world = load_world(n, m, grid)\n",
        "\n",
        "    device = torch.device('cuda' if torch.cuda.is_available() else 'cpu')\n",
        "    model = DQN().to(device) \n",
        "    model.load_state_dict(torch.load('model_v1.pt'))\n",
        "    model.eval()\n",
        "\n",
        "    while not world.check_terminate():\n",
        "        curr_state, cargo_name = world.make_step()\n",
        "        curr_state = np.array(list(flatten_state(curr_state)))\n",
        "        act_prob = model(torch.from_numpy(curr_state).float()).data.numpy()\n",
        "        directions = ['L', 'R', 'U', 'D']\n",
        "        action = directions[np.argmax(act_prob)]\n",
        "        # action = np.random.choice(\n",
        "        #     np.array(['L', 'R', 'U', 'D']),\n",
        "        #     p=act_prob\n",
        "        #     )\n",
        "        while len(directions) > 1 and not world.cargos[cargo_name].is_move_possible(action):\n",
        "            escape = np.argmax(act_prob)\n",
        "            directions.pop(escape)\n",
        "            escape_prob = act_prob[escape]\n",
        "            act_prob = np.array([act_prob[i] for i in range(len(act_prob)) if i != escape])\n",
        "            act_prob += escape_prob / len(directions)\n",
        "            # action = directions[np.argmax(act_prob)]\n",
        "            action = np.random.choice(\n",
        "                np.array(directions),\n",
        "                p=act_prob\n",
        "            )\n",
        "        print(f\"{cargo_name} {action}\")\n",
        "        world.move_cargo(cargo_name, action) # реализуем действие\n",
        "\n",
        "    # res = ...\n",
        "    # with open(f'{outfile}.txt') as f:\n",
        "    #     pass\n"
      ]
    },
    {
      "cell_type": "code",
      "execution_count": null,
      "metadata": {
        "id": "XYONcjlaxjz9"
      },
      "outputs": [],
      "source": [
        "# with open('infile.txt', 'w') as f:\n",
        "#     f.write(\n",
        "# \"\"\"0 0 2 2 0\n",
        "# 0 0 0 0 0\n",
        "# 0 r r r 0\n",
        "# 0 r r r 0\n",
        "# 0 r r r 0\"\"\")"
      ]
    },
    {
      "cell_type": "code",
      "execution_count": null,
      "metadata": {
        "colab": {
          "base_uri": "https://localhost:8080/"
        },
        "id": "1Kkzowwf8LW4",
        "outputId": "5457a4ab-1656-4b4f-f145-69f6da7799ea"
      },
      "outputs": [
        {
          "output_type": "stream",
          "name": "stdout",
          "text": [
            "2 L\n",
            "2 U\n",
            "2 U\n",
            "2 U\n",
            "2 U\n",
            "2 L\n",
            "2 U\n"
          ]
        }
      ],
      "source": [
        "complete_task('infile', 'outfile')"
      ]
    }
  ],
  "metadata": {
    "colab": {
      "provenance": []
    },
    "kernelspec": {
      "display_name": "Python 3",
      "name": "python3"
    },
    "language_info": {
      "name": "python"
    },
    "widgets": {
      "application/vnd.jupyter.widget-state+json": {
        "680ca63290f14db5935d1644f776f532": {
          "model_module": "@jupyter-widgets/controls",
          "model_name": "HBoxModel",
          "model_module_version": "1.5.0",
          "state": {
            "_dom_classes": [],
            "_model_module": "@jupyter-widgets/controls",
            "_model_module_version": "1.5.0",
            "_model_name": "HBoxModel",
            "_view_count": null,
            "_view_module": "@jupyter-widgets/controls",
            "_view_module_version": "1.5.0",
            "_view_name": "HBoxView",
            "box_style": "",
            "children": [
              "IPY_MODEL_065e20f0fa2745849b469db65cc0587a",
              "IPY_MODEL_846eabb0525b4b03b66a6185396147b5",
              "IPY_MODEL_cc357bc337904bf391d63bb0526c53a3"
            ],
            "layout": "IPY_MODEL_dba97a00d638488aac0bc002d3387906"
          }
        },
        "065e20f0fa2745849b469db65cc0587a": {
          "model_module": "@jupyter-widgets/controls",
          "model_name": "HTMLModel",
          "model_module_version": "1.5.0",
          "state": {
            "_dom_classes": [],
            "_model_module": "@jupyter-widgets/controls",
            "_model_module_version": "1.5.0",
            "_model_name": "HTMLModel",
            "_view_count": null,
            "_view_module": "@jupyter-widgets/controls",
            "_view_module_version": "1.5.0",
            "_view_name": "HTMLView",
            "description": "",
            "description_tooltip": null,
            "layout": "IPY_MODEL_4167032e6c6d4256b66f7e48a5b11e91",
            "placeholder": "​",
            "style": "IPY_MODEL_e3d191b4abd549418940c5c0af67b784",
            "value": "100%"
          }
        },
        "846eabb0525b4b03b66a6185396147b5": {
          "model_module": "@jupyter-widgets/controls",
          "model_name": "FloatProgressModel",
          "model_module_version": "1.5.0",
          "state": {
            "_dom_classes": [],
            "_model_module": "@jupyter-widgets/controls",
            "_model_module_version": "1.5.0",
            "_model_name": "FloatProgressModel",
            "_view_count": null,
            "_view_module": "@jupyter-widgets/controls",
            "_view_module_version": "1.5.0",
            "_view_name": "ProgressView",
            "bar_style": "success",
            "description": "",
            "description_tooltip": null,
            "layout": "IPY_MODEL_98237564b16a44bba6267c92f25b4fca",
            "max": 100,
            "min": 0,
            "orientation": "horizontal",
            "style": "IPY_MODEL_954462d81f934f599094ff9049b9ad54",
            "value": 100
          }
        },
        "cc357bc337904bf391d63bb0526c53a3": {
          "model_module": "@jupyter-widgets/controls",
          "model_name": "HTMLModel",
          "model_module_version": "1.5.0",
          "state": {
            "_dom_classes": [],
            "_model_module": "@jupyter-widgets/controls",
            "_model_module_version": "1.5.0",
            "_model_name": "HTMLModel",
            "_view_count": null,
            "_view_module": "@jupyter-widgets/controls",
            "_view_module_version": "1.5.0",
            "_view_name": "HTMLView",
            "description": "",
            "description_tooltip": null,
            "layout": "IPY_MODEL_3d4017c7b34a419e9508dea93fe10789",
            "placeholder": "​",
            "style": "IPY_MODEL_b5615ba878334cc897b131b764f4c30b",
            "value": " 100/100 [00:02&lt;00:00, 89.47it/s]"
          }
        },
        "dba97a00d638488aac0bc002d3387906": {
          "model_module": "@jupyter-widgets/base",
          "model_name": "LayoutModel",
          "model_module_version": "1.2.0",
          "state": {
            "_model_module": "@jupyter-widgets/base",
            "_model_module_version": "1.2.0",
            "_model_name": "LayoutModel",
            "_view_count": null,
            "_view_module": "@jupyter-widgets/base",
            "_view_module_version": "1.2.0",
            "_view_name": "LayoutView",
            "align_content": null,
            "align_items": null,
            "align_self": null,
            "border": null,
            "bottom": null,
            "display": null,
            "flex": null,
            "flex_flow": null,
            "grid_area": null,
            "grid_auto_columns": null,
            "grid_auto_flow": null,
            "grid_auto_rows": null,
            "grid_column": null,
            "grid_gap": null,
            "grid_row": null,
            "grid_template_areas": null,
            "grid_template_columns": null,
            "grid_template_rows": null,
            "height": null,
            "justify_content": null,
            "justify_items": null,
            "left": null,
            "margin": null,
            "max_height": null,
            "max_width": null,
            "min_height": null,
            "min_width": null,
            "object_fit": null,
            "object_position": null,
            "order": null,
            "overflow": null,
            "overflow_x": null,
            "overflow_y": null,
            "padding": null,
            "right": null,
            "top": null,
            "visibility": null,
            "width": null
          }
        },
        "4167032e6c6d4256b66f7e48a5b11e91": {
          "model_module": "@jupyter-widgets/base",
          "model_name": "LayoutModel",
          "model_module_version": "1.2.0",
          "state": {
            "_model_module": "@jupyter-widgets/base",
            "_model_module_version": "1.2.0",
            "_model_name": "LayoutModel",
            "_view_count": null,
            "_view_module": "@jupyter-widgets/base",
            "_view_module_version": "1.2.0",
            "_view_name": "LayoutView",
            "align_content": null,
            "align_items": null,
            "align_self": null,
            "border": null,
            "bottom": null,
            "display": null,
            "flex": null,
            "flex_flow": null,
            "grid_area": null,
            "grid_auto_columns": null,
            "grid_auto_flow": null,
            "grid_auto_rows": null,
            "grid_column": null,
            "grid_gap": null,
            "grid_row": null,
            "grid_template_areas": null,
            "grid_template_columns": null,
            "grid_template_rows": null,
            "height": null,
            "justify_content": null,
            "justify_items": null,
            "left": null,
            "margin": null,
            "max_height": null,
            "max_width": null,
            "min_height": null,
            "min_width": null,
            "object_fit": null,
            "object_position": null,
            "order": null,
            "overflow": null,
            "overflow_x": null,
            "overflow_y": null,
            "padding": null,
            "right": null,
            "top": null,
            "visibility": null,
            "width": null
          }
        },
        "e3d191b4abd549418940c5c0af67b784": {
          "model_module": "@jupyter-widgets/controls",
          "model_name": "DescriptionStyleModel",
          "model_module_version": "1.5.0",
          "state": {
            "_model_module": "@jupyter-widgets/controls",
            "_model_module_version": "1.5.0",
            "_model_name": "DescriptionStyleModel",
            "_view_count": null,
            "_view_module": "@jupyter-widgets/base",
            "_view_module_version": "1.2.0",
            "_view_name": "StyleView",
            "description_width": ""
          }
        },
        "98237564b16a44bba6267c92f25b4fca": {
          "model_module": "@jupyter-widgets/base",
          "model_name": "LayoutModel",
          "model_module_version": "1.2.0",
          "state": {
            "_model_module": "@jupyter-widgets/base",
            "_model_module_version": "1.2.0",
            "_model_name": "LayoutModel",
            "_view_count": null,
            "_view_module": "@jupyter-widgets/base",
            "_view_module_version": "1.2.0",
            "_view_name": "LayoutView",
            "align_content": null,
            "align_items": null,
            "align_self": null,
            "border": null,
            "bottom": null,
            "display": null,
            "flex": null,
            "flex_flow": null,
            "grid_area": null,
            "grid_auto_columns": null,
            "grid_auto_flow": null,
            "grid_auto_rows": null,
            "grid_column": null,
            "grid_gap": null,
            "grid_row": null,
            "grid_template_areas": null,
            "grid_template_columns": null,
            "grid_template_rows": null,
            "height": null,
            "justify_content": null,
            "justify_items": null,
            "left": null,
            "margin": null,
            "max_height": null,
            "max_width": null,
            "min_height": null,
            "min_width": null,
            "object_fit": null,
            "object_position": null,
            "order": null,
            "overflow": null,
            "overflow_x": null,
            "overflow_y": null,
            "padding": null,
            "right": null,
            "top": null,
            "visibility": null,
            "width": null
          }
        },
        "954462d81f934f599094ff9049b9ad54": {
          "model_module": "@jupyter-widgets/controls",
          "model_name": "ProgressStyleModel",
          "model_module_version": "1.5.0",
          "state": {
            "_model_module": "@jupyter-widgets/controls",
            "_model_module_version": "1.5.0",
            "_model_name": "ProgressStyleModel",
            "_view_count": null,
            "_view_module": "@jupyter-widgets/base",
            "_view_module_version": "1.2.0",
            "_view_name": "StyleView",
            "bar_color": null,
            "description_width": ""
          }
        },
        "3d4017c7b34a419e9508dea93fe10789": {
          "model_module": "@jupyter-widgets/base",
          "model_name": "LayoutModel",
          "model_module_version": "1.2.0",
          "state": {
            "_model_module": "@jupyter-widgets/base",
            "_model_module_version": "1.2.0",
            "_model_name": "LayoutModel",
            "_view_count": null,
            "_view_module": "@jupyter-widgets/base",
            "_view_module_version": "1.2.0",
            "_view_name": "LayoutView",
            "align_content": null,
            "align_items": null,
            "align_self": null,
            "border": null,
            "bottom": null,
            "display": null,
            "flex": null,
            "flex_flow": null,
            "grid_area": null,
            "grid_auto_columns": null,
            "grid_auto_flow": null,
            "grid_auto_rows": null,
            "grid_column": null,
            "grid_gap": null,
            "grid_row": null,
            "grid_template_areas": null,
            "grid_template_columns": null,
            "grid_template_rows": null,
            "height": null,
            "justify_content": null,
            "justify_items": null,
            "left": null,
            "margin": null,
            "max_height": null,
            "max_width": null,
            "min_height": null,
            "min_width": null,
            "object_fit": null,
            "object_position": null,
            "order": null,
            "overflow": null,
            "overflow_x": null,
            "overflow_y": null,
            "padding": null,
            "right": null,
            "top": null,
            "visibility": null,
            "width": null
          }
        },
        "b5615ba878334cc897b131b764f4c30b": {
          "model_module": "@jupyter-widgets/controls",
          "model_name": "DescriptionStyleModel",
          "model_module_version": "1.5.0",
          "state": {
            "_model_module": "@jupyter-widgets/controls",
            "_model_module_version": "1.5.0",
            "_model_name": "DescriptionStyleModel",
            "_view_count": null,
            "_view_module": "@jupyter-widgets/base",
            "_view_module_version": "1.2.0",
            "_view_name": "StyleView",
            "description_width": ""
          }
        }
      }
    }
  },
  "nbformat": 4,
  "nbformat_minor": 0
}