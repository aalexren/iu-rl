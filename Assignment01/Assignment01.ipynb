{
  "nbformat": 4,
  "nbformat_minor": 0,
  "metadata": {
    "colab": {
      "provenance": []
    },
    "kernelspec": {
      "name": "python3",
      "display_name": "Python 3"
    },
    "language_info": {
      "name": "python"
    }
  },
  "cells": [
    {
      "cell_type": "markdown",
      "source": [
        "<h1> Assignment #1 </h1>\n",
        "\n",
        "You are an engineer in the logistic company. You have a robot which is capable of cargo transportation. Now you use it to carry the equipment over the cluttered warehouse. \n",
        "\n",
        "Your task is to train bot to find the shortest path to the required location (lower right corner) so that it does not crash into obstacles.  \n",
        "\n",
        "---\n",
        "\n",
        "Submit `{name}_{surname}.py` script with `find_path(path_to_infile, path_to_outfile)` function.\n",
        "\n",
        "**You have to solve it using MDP.**"
      ],
      "metadata": {
        "id": "nFGyp1PBW8Do"
      }
    },
    {
      "cell_type": "code",
      "source": [
        "from typing import List, Tuple\n",
        "import numpy as np"
      ],
      "metadata": {
        "id": "J7VEGaDLgvBy"
      },
      "execution_count": null,
      "outputs": []
    },
    {
      "cell_type": "code",
      "source": [
        "class GridWorld:        \n",
        "    def __init__(self, n: int, m: int,\n",
        "                 gamma: float = 0.9,\n",
        "                 default_reward: float = -1.,\n",
        "                 cargo: List[Tuple[int, int]] = [],\n",
        "                 obstacles: List[Tuple[int, int]] = [],\n",
        "                 terminate_states: List[Tuple[int, int]] = [],\n",
        "                 ):\n",
        "        self.n = n # number of rows\n",
        "        self.m = m # number of columns\n",
        "        self.board = [(i, j) for i in range(n) for j in range(m)]\n",
        "        self.gamma = gamma\n",
        "        self.default_reward = default_reward\n",
        "        self.cargo = cargo # coordinates of all cargo's cells\n",
        "        self.cargo_pivot = self.get_cargo_pivot()\n",
        "        self.obstacles = obstacles # cooridnates of all obstacles' cells\n",
        "        self.states = set(self.board).difference(\n",
        "            set(self.obstacles)\n",
        "            ) | set(self.cargo)\n",
        "        self.svfs = {state: 0. for state in self.states} # state value funtctions\n",
        "        self.terminate_states = set(terminate_states)\n",
        "        self.policy = {cell: '.' for cell in self.board}\n",
        "\n",
        "\n",
        "    def train_agent(self):\n",
        "        eps = 10e-3 # epsilon to finish computation\n",
        "\n",
        "        def svfs_diff(prev, next):\n",
        "            res = []\n",
        "            for key, _ in prev.items():\n",
        "                res.append(abs(prev[key] - next[key]))\n",
        "            return res\n",
        "\n",
        "        t = 0\n",
        "        while True:\n",
        "            t += 1\n",
        "            prev_svfs = self.svfs.copy()\n",
        "            self.update_svfs() # execute term 0\n",
        "            diff = svfs_diff(prev_svfs, self.svfs)\n",
        "            if all(map(lambda x: x < eps, diff)):\n",
        "                break\n",
        "        \n",
        "        print(f\"Finished at a time step #{t}\")\n",
        "        print(self)\n",
        "        self.show_svfs()\n",
        "        self.show_policy()\n",
        "\n",
        "        def get_path(policy, pivot, terminates):\n",
        "            \"\"\"\n",
        "            Идёт от пивота по указанным policy,\n",
        "            если два раза и более зашёл в одно и то же\n",
        "            состояние, значит пути нет.\n",
        "            \"\"\"\n",
        "            res = set()\n",
        "            path = []\n",
        "            actions = {\n",
        "            \"L\": (0, -1),\n",
        "            \"R\": (0, +1),\n",
        "            \"U\": (-1, 0),\n",
        "            \"D\": (+1, 0)\n",
        "            }\n",
        "            while True:\n",
        "                if policy[pivot] == '.' and pivot not in terminates:\n",
        "                    return \"No path\"\n",
        "                if pivot in res:\n",
        "                    return \"No path\"\n",
        "                if pivot in terminates:\n",
        "                    break\n",
        "                res.add(pivot)\n",
        "\n",
        "                x, y = pivot\n",
        "                action = policy[pivot]\n",
        "                x_d, y_d = actions[action]\n",
        "                path.append(action)\n",
        "\n",
        "                pivot = x + x_d, y + y_d\n",
        "            \n",
        "            return path\n",
        "        \n",
        "        self.path = get_path(self.policy, \n",
        "                             self.cargo_pivot,\n",
        "                             self.terminate_states)\n",
        "\n",
        "\n",
        "    def update_svfs(self):\n",
        "        \"\"\"\n",
        "        Update state-value functions for current time step t.\n",
        "        \"\"\"\n",
        "        new_svfs = self.svfs.copy()\n",
        "\n",
        "        for state in self.states:\n",
        "            if state in self.terminate_states:\n",
        "                continue\n",
        "            action_name, svf = self.compute_svf(state)\n",
        "            new_svfs[state] = svf\n",
        "            self.policy[state] = action_name\n",
        "\n",
        "        self.svfs = new_svfs\n",
        "\n",
        "\n",
        "    def compute_svf(self, state):\n",
        "        \"\"\"\n",
        "        Compute state-value function for current time step t.\n",
        "        \"\"\"\n",
        "        qvfs = []\n",
        "        states = self.possible_actions(state) # new possible states\n",
        "        for action_name, to_state in states:\n",
        "            svf = self.default_reward + self.gamma * self.svfs[to_state]\n",
        "            qvfs.append((action_name, svf))\n",
        "\n",
        "        if not qvfs:\n",
        "            return self.policy[state], self.svfs[state]\n",
        "        return max(qvfs, key=lambda el: el[1])\n",
        "\n",
        "\n",
        "    def possible_actions(self, from_state) -> List[Tuple[int, int]]:\n",
        "        actions = {\n",
        "            \"L\": (0, -1),\n",
        "            \"R\": (0, +1),\n",
        "            \"U\": (-1, 0),\n",
        "            \"D\": (+1, 0)\n",
        "            }\n",
        "        x, y = from_state\n",
        "        \n",
        "        ret = []\n",
        "        for name, action in actions.items():\n",
        "            x_d, y_d = action\n",
        "            to_state = x + x_d, y + y_d\n",
        "            if self.is_action_possible(to_state):\n",
        "                ret.append((name, to_state))\n",
        "        \n",
        "        return ret\n",
        "\n",
        "\n",
        "    def is_action_possible(self, to_state) -> bool:\n",
        "        \"\"\"\n",
        "        Надо проверить, не ломается ли фигура, при перемещении\n",
        "        в данную ячейку, и не выходит ли за границы мира.\n",
        "        \"\"\"\n",
        "        x, y = self.cargo_pivot\n",
        "        x_prime, y_prime = to_state\n",
        "        x_d, y_d = x_prime - x, y_prime - y # считаем насколько переместились\n",
        "        cargo = [(x + x_d, y + y_d) for x, y in self.cargo] # считаем для каждой\n",
        "                                                            # ячейки груза её \n",
        "                                                            # новые координаты\n",
        "        \n",
        "        in_boundaries = all(map(\n",
        "            lambda el: 0 <= el[0] < self.n and 0 <= el[1] < self.m, cargo)\n",
        "            )\n",
        "        if not in_boundaries:\n",
        "            return False\n",
        "        \n",
        "        for cell in cargo:\n",
        "            # if cell in self.cargo and cell != self.cargo_pivot:\n",
        "                # return False\n",
        "            if cell in self.obstacles:\n",
        "                return False\n",
        "        \n",
        "        return True\n",
        "\n",
        "\n",
        "    def get_cargo_pivot(self):\n",
        "        pivot, *_ = sorted(\n",
        "            self.cargo, key=lambda el: (el[1], el[0]), reverse=True\n",
        "            ) # берём максимальную по y и максимальную по x ячейку за опорную\n",
        "              # (как если бы мы за краешек фигуры перенесли её в новую точку)\n",
        "        return pivot\n",
        "\n",
        "\n",
        "    def show_svfs(self):\n",
        "        grid = np.zeros((self.n, self.m))\n",
        "        for state, value in self.svfs.items():\n",
        "            x, y = state\n",
        "            grid[x, y] = value\n",
        "        \n",
        "        print(grid)\n",
        "    \n",
        "\n",
        "    def show_policy(self):\n",
        "        grid = np.empty([self.n, self.m], dtype=str)\n",
        "        for state, action in self.policy.items():\n",
        "            x, y = state\n",
        "            grid[x, y] = action\n",
        "        \n",
        "        print(grid)\n",
        "\n",
        "\n",
        "    def __str__(self):\n",
        "        grid = np.zeros((self.n, self.m))\n",
        "        for x, y in self.cargo:\n",
        "            grid[x, y] = 2\n",
        "        for x, y in self.obstacles:\n",
        "            grid[x, y] = 1\n",
        "        return str(grid)\n",
        "    \n",
        "\n",
        "    def __repr__(self):\n",
        "        return str(self)"
      ],
      "metadata": {
        "id": "Ry6aPGCui4J3"
      },
      "execution_count": null,
      "outputs": []
    },
    {
      "cell_type": "code",
      "source": [
        "cargo = [(0, 0)]#, (1, 0), (2, 0)]\n",
        "obstacles = [(0, 1), (1, 1), (3, 1), (4, 1), (0, 3), (1, 3), (3, 3), (4, 3), (4, 4)]\n",
        "terminate_states = [(4, 4)]\n",
        "\n",
        "world = GridWorld(5, 5, \n",
        "                  gamma=0.9,\n",
        "                  default_reward=-1., \n",
        "                  cargo=cargo,\n",
        "                  obstacles=obstacles,\n",
        "                  terminate_states=terminate_states)\n",
        "world.svfs[(4, 4)] = 10\n",
        "world"
      ],
      "metadata": {
        "colab": {
          "base_uri": "https://localhost:8080/"
        },
        "id": "hFCvRuSC4LLD",
        "outputId": "c23c100a-5d6b-4cd5-8c1a-db63ea14c0af"
      },
      "execution_count": null,
      "outputs": [
        {
          "output_type": "execute_result",
          "data": {
            "text/plain": [
              "[[2. 1. 0. 1. 0.]\n",
              " [0. 1. 0. 1. 0.]\n",
              " [0. 0. 0. 0. 0.]\n",
              " [0. 1. 0. 1. 0.]\n",
              " [0. 1. 0. 1. 1.]]"
            ]
          },
          "metadata": {},
          "execution_count": 163
        }
      ]
    },
    {
      "cell_type": "code",
      "source": [
        "T = 100\n",
        "for t in range(T):\n",
        "    # print(f\"\\nTime step #{t}\")\n",
        "    # world.show_svfs()\n",
        "    # world.show_policy()\n",
        "    world.update_svfs()\n",
        "world.show_svfs()\n",
        "world.show_policy()"
      ],
      "metadata": {
        "colab": {
          "base_uri": "https://localhost:8080/"
        },
        "id": "kzVOZqG0R7C4",
        "outputId": "373e4dd5-dde5-433b-b909-7f13003460a7"
      },
      "execution_count": null,
      "outputs": [
        {
          "output_type": "stream",
          "name": "stdout",
          "text": [
            "[[-9.99973439  0.         -9.99973439  0.         -9.99973439]\n",
            " [-9.99973439  0.         -9.99973439  0.         -9.99973439]\n",
            " [-9.99973439 -9.99973439 -9.99973439 -9.99973439 -9.99973439]\n",
            " [-9.99973439  0.         -9.99973439  0.         -9.99973439]\n",
            " [-9.99973439  0.         -9.99973439  0.         10.        ]]\n",
            "[['D' '.' 'D' '.' 'D']\n",
            " ['U' '.' 'U' '.' 'U']\n",
            " ['R' 'L' 'L' 'L' 'L']\n",
            " ['U' '.' 'U' '.' 'U']\n",
            " ['U' '.' 'U' '.' '.']]\n"
          ]
        }
      ]
    },
    {
      "cell_type": "code",
      "source": [
        "def find_path(infile, outfile):\n",
        "    grid = []\n",
        "    with open(f\"{infile}.txt\", 'r') as f:\n",
        "        for line in f:\n",
        "            grid.append(line.split())\n",
        "    \n",
        "    cargo = []\n",
        "    obstacles = []\n",
        "    for i in range(len(grid)):\n",
        "        for j in range(len(grid[i])):\n",
        "            if grid[i][j] == '1':\n",
        "                obstacles.append((i, j))\n",
        "            elif grid[i][j] == '2':\n",
        "                cargo.append((i, j))\n",
        "    \n",
        "    n, m = len(grid), len(grid[0])\n",
        "    terminate_states = [(n - 1, m - 1)]\n",
        "    world = GridWorld(n, m, \n",
        "                  gamma=0.9,\n",
        "                  default_reward=-1., \n",
        "                  cargo=cargo,\n",
        "                  obstacles=obstacles,\n",
        "                  terminate_states=terminate_states)\n",
        "    \n",
        "    world.svfs[terminate_states[-1]] = 10\n",
        "    world.train_agent()\n",
        "    print(world.path)\n",
        "    "
      ],
      "metadata": {
        "id": "Ldj9fHfSwqmC"
      },
      "execution_count": null,
      "outputs": []
    },
    {
      "cell_type": "code",
      "source": [
        "find_path(\"test\", \"\")"
      ],
      "metadata": {
        "colab": {
          "base_uri": "https://localhost:8080/"
        },
        "id": "CYNGQXxG478l",
        "outputId": "bc6af791-37ff-4086-fd3f-3ae7b4986d81"
      },
      "execution_count": null,
      "outputs": [
        {
          "output_type": "stream",
          "name": "stdout",
          "text": [
            "Finished at a time step #9\n",
            "[[2. 1. 0. 1. 0.]\n",
            " [0. 1. 0. 1. 0.]\n",
            " [0. 0. 0. 0. 0.]\n",
            " [0. 1. 0. 1. 0.]\n",
            " [0. 1. 0. 1. 0.]]\n",
            "[[-1.3906558  0.         0.62882    0.         3.122    ]\n",
            " [-0.434062   0.         1.8098     0.         4.58     ]\n",
            " [ 0.62882    1.8098     3.122      4.58       6.2      ]\n",
            " [-0.434062   0.         1.8098     0.         8.       ]\n",
            " [-1.3906558  0.         0.62882    0.        10.       ]]\n",
            "[['D' '.' 'D' '.' 'D']\n",
            " ['D' '.' 'D' '.' 'D']\n",
            " ['R' 'R' 'R' 'R' 'D']\n",
            " ['U' '.' 'U' '.' 'D']\n",
            " ['U' '.' 'U' '.' '.']]\n",
            "['D', 'D', 'R', 'R', 'R', 'R', 'D', 'D']\n"
          ]
        }
      ]
    },
    {
      "cell_type": "markdown",
      "source": [
        "### Input:"
      ],
      "metadata": {
        "id": "-nG7PJaYZ9ed"
      }
    },
    {
      "cell_type": "markdown",
      "source": [
        "`{infile}.txt` file with the field description. Elements of the field are separated by space. For example: \n",
        "```\n",
        "2 1 0 1 0\n",
        "0 1 0 1 0\n",
        "0 0 0 0 0\n",
        "0 1 0 1 0\n",
        "0 1 0 1 0\n",
        "```\n",
        "\n",
        "* `0` - blank space, we may move objects here\n",
        "* `1` - obstackles, object can not be over that position\n",
        "* `2` - actual object shape, does not change, moved as a solid object\n",
        "\n",
        "As our goal is to move object to the most lower-right position, sequence of our steps will be the following:  \n",
        "`D D R R R R D D`\n",
        "\n",
        "Meaning:  \n",
        "`D` - (move) Down;  \n",
        "`U` - (move) Up;  \n",
        "`R` - (move) Right;  \n",
        "`L` - (move) Left."
      ],
      "metadata": {
        "id": "HZjD0owIaAs9"
      }
    },
    {
      "cell_type": "markdown",
      "source": [
        "### Output:"
      ],
      "metadata": {
        "id": "vQ55YYBLaCQU"
      }
    },
    {
      "cell_type": "markdown",
      "source": [
        "Sequence that leads to the right lower corner in the least number of steps. Written in `{outfile}.txt`. If there is no path, write `No path` in the file."
      ],
      "metadata": {
        "id": "htqOxDIrpjfH"
      }
    },
    {
      "cell_type": "markdown",
      "source": [
        "### Examples"
      ],
      "metadata": {
        "id": "Hi-8-_4EqTOl"
      }
    },
    {
      "cell_type": "markdown",
      "source": [
        "#### First case"
      ],
      "metadata": {
        "id": "hcz2_1yvqZUZ"
      }
    },
    {
      "cell_type": "markdown",
      "source": [
        "`input.txt`:\n",
        "\n",
        "```\n",
        "0 1 0 1 0\n",
        "0 1 0 1 0\n",
        "0 0 0 0 0\n",
        "0 0 0 0 0\n",
        "0 1 2 1 0\n",
        "0 1 2 0 0\n",
        "```\n",
        "\n",
        "`out.txt`:\n",
        "\n",
        "```\n",
        "U U R R D D\n",
        "```"
      ],
      "metadata": {
        "id": "v3oWKEKiaFs7"
      }
    },
    {
      "cell_type": "markdown",
      "source": [
        "#### Second case"
      ],
      "metadata": {
        "id": "KeblJzcErAL4"
      }
    },
    {
      "cell_type": "markdown",
      "source": [
        "`input.txt`:\n",
        "\n",
        "```\n",
        "2 2 1 0 1 0\n",
        "0 2 1 0 1 0\n",
        "0 2 0 0 0 0\n",
        "0 0 0 0 0 0\n",
        "0 0 1 0 1 0\n",
        "0 0 1 0 0 0\n",
        "```\n",
        "\n",
        "`out.txt`:\n",
        "\n",
        "```\n",
        "No path\n",
        "```"
      ],
      "metadata": {
        "id": "AOebx5t3rCsb"
      }
    },
    {
      "cell_type": "markdown",
      "source": [
        "#### Third case"
      ],
      "metadata": {
        "id": "dGikYoXAr-vp"
      }
    },
    {
      "cell_type": "markdown",
      "source": [
        "`input.txt`:\n",
        "\n",
        "```\n",
        "2 2 1 0 1 0\n",
        "0 2 1 0 1 0\n",
        "0 0 0 0 0 0\n",
        "0 0 0 0 0 0\n",
        "0 0 1 0 1 0\n",
        "0 0 1 0 0 0\n",
        "```\n",
        "\n",
        "`out.txt`:\n",
        "\n",
        "```\n",
        "No path\n",
        "```"
      ],
      "metadata": {
        "id": "ojyUd-ldsA88"
      }
    },
    {
      "cell_type": "markdown",
      "source": [
        "#### Fourth case"
      ],
      "metadata": {
        "id": "sAlR-HWSsG-U"
      }
    },
    {
      "cell_type": "markdown",
      "source": [
        "`input.txt`:\n",
        "\n",
        "```\n",
        "2 2 1 0 1 0\n",
        "0 2 0 0 0 0\n",
        "0 2 0 0 0 0\n",
        "0 0 0 0 0 0\n",
        "0 0 0 0 1 0\n",
        "0 0 1 0 0 0\n",
        "```\n",
        "\n",
        "`out.txt`:\n",
        "\n",
        "```\n",
        "D D R R U R R D D\n",
        "```"
      ],
      "metadata": {
        "id": "dk1Wq0LusI9c"
      }
    }
  ]
}