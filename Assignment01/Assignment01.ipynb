{
  "nbformat": 4,
  "nbformat_minor": 0,
  "metadata": {
    "colab": {
      "provenance": [],
      "collapsed_sections": []
    },
    "kernelspec": {
      "name": "python3",
      "display_name": "Python 3"
    },
    "language_info": {
      "name": "python"
    }
  },
  "cells": [
    {
      "cell_type": "markdown",
      "source": [
        "<h1> Assignment #1 </h1>\n",
        "\n",
        "You are an engineer in the logistic company. You have a robot which is capable of cargo transportation. Now you use it to carry the equipment over the cluttered warehouse. \n",
        "\n",
        "Your task is to train bot to find the shortest path to the required location (lower right corner) so that it does not crash into obstacles.  \n",
        "\n",
        "---\n",
        "\n",
        "Submit `{name}_{surname}.py` script with `find_path(path_to_infile, path_to_outfile)` function.\n",
        "\n",
        "**You have to solve it using MDP.**"
      ],
      "metadata": {
        "id": "nFGyp1PBW8Do"
      }
    },
    {
      "cell_type": "markdown",
      "source": [
        "### Input:"
      ],
      "metadata": {
        "id": "-nG7PJaYZ9ed"
      }
    },
    {
      "cell_type": "markdown",
      "source": [
        "`{infile}.txt` file with the field description. Elements of the field are separated by space. For example: \n",
        "```\n",
        "2 1 0 1 0\n",
        "0 1 0 1 0\n",
        "0 0 0 0 0\n",
        "0 1 0 1 0\n",
        "0 1 0 1 0\n",
        "```\n",
        "\n",
        "* `0` - blank space, we may move objects here\n",
        "* `1` - obstackles, object can not be over that position\n",
        "* `2` - actual object shape, does not change, moved as a solid object\n",
        "\n",
        "As our goal is to move object to the most lower-right position, sequence of our steps will be the following:  \n",
        "`D D R R R R D D`\n",
        "\n",
        "Meaning:  \n",
        "`D` - (move) Down;  \n",
        "`U` - (move) Up;  \n",
        "`R` - (move) Right;  \n",
        "`L` - (move) Left."
      ],
      "metadata": {
        "id": "HZjD0owIaAs9"
      }
    },
    {
      "cell_type": "markdown",
      "source": [
        "### Output:"
      ],
      "metadata": {
        "id": "vQ55YYBLaCQU"
      }
    },
    {
      "cell_type": "markdown",
      "source": [
        "Sequence that leads to the right lower corner in the least number of steps. Written in `{outfile}.txt`. If there is no path, write `No path` in the file."
      ],
      "metadata": {
        "id": "htqOxDIrpjfH"
      }
    },
    {
      "cell_type": "markdown",
      "source": [
        "### Examples"
      ],
      "metadata": {
        "id": "Hi-8-_4EqTOl"
      }
    },
    {
      "cell_type": "markdown",
      "source": [
        "#### First case"
      ],
      "metadata": {
        "id": "hcz2_1yvqZUZ"
      }
    },
    {
      "cell_type": "markdown",
      "source": [
        "`input.txt`:\n",
        "\n",
        "```\n",
        "0 1 0 1 0\n",
        "0 1 0 1 0\n",
        "0 0 0 0 0\n",
        "0 0 0 0 0\n",
        "0 1 2 1 0\n",
        "0 1 2 0 0\n",
        "```\n",
        "\n",
        "`out.txt`:\n",
        "\n",
        "```\n",
        "U U R R D D\n",
        "```"
      ],
      "metadata": {
        "id": "v3oWKEKiaFs7"
      }
    },
    {
      "cell_type": "markdown",
      "source": [
        "#### Second case"
      ],
      "metadata": {
        "id": "KeblJzcErAL4"
      }
    },
    {
      "cell_type": "markdown",
      "source": [
        "`input.txt`:\n",
        "\n",
        "```\n",
        "2 2 1 0 1 0\n",
        "0 2 1 0 1 0\n",
        "0 2 0 0 0 0\n",
        "0 0 0 0 0 0\n",
        "0 0 1 0 1 0\n",
        "0 0 1 0 0 0\n",
        "```\n",
        "\n",
        "`out.txt`:\n",
        "\n",
        "```\n",
        "No path\n",
        "```"
      ],
      "metadata": {
        "id": "AOebx5t3rCsb"
      }
    },
    {
      "cell_type": "markdown",
      "source": [
        "#### Third case"
      ],
      "metadata": {
        "id": "dGikYoXAr-vp"
      }
    },
    {
      "cell_type": "markdown",
      "source": [
        "`input.txt`:\n",
        "\n",
        "```\n",
        "2 2 1 0 1 0\n",
        "0 2 1 0 1 0\n",
        "0 0 0 0 0 0\n",
        "0 0 0 0 0 0\n",
        "0 0 1 0 1 0\n",
        "0 0 1 0 0 0\n",
        "```\n",
        "\n",
        "`out.txt`:\n",
        "\n",
        "```\n",
        "No path\n",
        "```"
      ],
      "metadata": {
        "id": "ojyUd-ldsA88"
      }
    },
    {
      "cell_type": "markdown",
      "source": [
        "#### Fourth case"
      ],
      "metadata": {
        "id": "sAlR-HWSsG-U"
      }
    },
    {
      "cell_type": "markdown",
      "source": [
        "`input.txt`:\n",
        "\n",
        "```\n",
        "2 2 1 0 1 0\n",
        "0 2 0 0 0 0\n",
        "0 2 0 0 0 0\n",
        "0 0 0 0 0 0\n",
        "0 0 0 0 1 0\n",
        "0 0 1 0 0 0\n",
        "```\n",
        "\n",
        "`out.txt`:\n",
        "\n",
        "```\n",
        "D D R R U R R D D\n",
        "```"
      ],
      "metadata": {
        "id": "dk1Wq0LusI9c"
      }
    },
    {
      "cell_type": "code",
      "source": [],
      "metadata": {
        "id": "7uKb_oFe1QND"
      },
      "execution_count": null,
      "outputs": []
    }
  ]
}